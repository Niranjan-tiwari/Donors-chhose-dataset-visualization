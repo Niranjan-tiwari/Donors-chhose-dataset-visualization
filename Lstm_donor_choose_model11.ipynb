{
 "cells": [
  {
   "cell_type": "code",
   "execution_count": 2,
   "metadata": {
    "colab": {
     "base_uri": "https://localhost:8080/",
     "height": 34
    },
    "colab_type": "code",
    "id": "__NukAYoi7dO",
    "outputId": "039f09fe-86d3-4b09-fdad-d25d7b1c97fa"
   },
   "outputs": [
    {
     "name": "stdout",
     "output_type": "stream",
     "text": [
      "Drive already mounted at /content/drive; to attempt to forcibly remount, call drive.mount(\"/content/drive\", force_remount=True).\n"
     ]
    }
   ],
   "source": [
    "from google.colab import drive\n",
    "drive.mount('/content/drive')"
   ]
  },
  {
   "cell_type": "markdown",
   "metadata": {
    "colab_type": "text",
    "id": "KDmz3fIlhV74"
   },
   "source": [
    "# Importing prequiste package for case study"
   ]
  },
  {
   "cell_type": "code",
   "execution_count": 3,
   "metadata": {
    "colab": {
     "base_uri": "https://localhost:8080/",
     "height": 34
    },
    "colab_type": "code",
    "id": "Lf6WdgPF2BEt",
    "outputId": "4bf99548-4c5b-4772-82fd-2ef03ca36926"
   },
   "outputs": [
    {
     "name": "stderr",
     "output_type": "stream",
     "text": [
      "Using TensorFlow backend.\n"
     ]
    }
   ],
   "source": [
    "# importing required libraries\n",
    "import warnings\n",
    "warnings.filterwarnings(\"ignore\")\n",
    "import pandas as pd\n",
    "import numpy as np\n",
    "from keras.layers import Input, Embedding, LSTM, Dropout, BatchNormalization, Dense, concatenate, Flatten, Conv1D, MaxPool1D, LeakyReLU, ELU, SpatialDropout1D, MaxPooling1D, GlobalAveragePooling1D, GlobalMaxPooling1D\n",
    "from keras.preprocessing.text import Tokenizer, one_hot\n",
    "from keras.preprocessing.sequence import pad_sequences\n",
    "from keras.models import Model, load_model\n",
    "from keras import regularizers\n",
    "from keras.optimizers import *\n",
    "from keras.callbacks import ModelCheckpoint, EarlyStopping, TensorBoard, ReduceLROnPlateau\n",
    "from sklearn.feature_extraction.text import TfidfVectorizer, CountVectorizer\n",
    "from sklearn.metrics import roc_auc_score\n",
    "import tensorflow as tf\n",
    "import matplotlib.pyplot as plt\n",
    "%matplotlib inline\n",
    "import re\n",
    "from tqdm import tqdm\n",
    "from sklearn.preprocessing import LabelEncoder\n",
    "import seaborn as sns\n",
    "import pickle\n",
    "# from keras.layers import Bidirectional,TimeDistributed,AttLayer, CuDNNGRU, CuDNNLSTM,\n",
    "from keras.layers import Bidirectional\n",
    "from keras.layers import TimeDistributed \n",
    "from keras.layers import CuDNNGRU \n",
    "from keras.layers import CuDNNLSTM\n",
    "from keras import initializers, regularizers, constraints\n",
    "from keras.layers import SpatialDropout1D\n",
    "import warnings\n",
    "warnings.filterwarnings(\"ignore\")"
   ]
  },
  {
   "cell_type": "markdown",
   "metadata": {
    "colab_type": "text",
    "id": "Dd3vRzEXhcly"
   },
   "source": [
    "### Pre-processing steps"
   ]
  },
  {
   "cell_type": "code",
   "execution_count": 0,
   "metadata": {
    "colab": {},
    "colab_type": "code",
    "id": "7jMmPn3J2SfJ"
   },
   "outputs": [],
   "source": [
    "# We clean the essay text data\n",
    "# For this task, we have defined some helper functions\n",
    "# The same function and code snippet will be used to clean project title\n",
    "# https://stackoverflow.com/a/47091490/4084039\n",
    "\n",
    "def decontracted(phrase):\n",
    "    # specific\n",
    "    phrase = re.sub(r\"won't\", \"will not\", phrase)\n",
    "    phrase = re.sub(r\"can\\'t\", \"can not\", phrase)\n",
    "\n",
    "    # general\n",
    "    phrase = re.sub(r\"n\\'t\", \" not\", phrase)\n",
    "    phrase = re.sub(r\"\\'re\", \" are\", phrase)\n",
    "    phrase = re.sub(r\"\\'s\", \" is\", phrase)\n",
    "    phrase = re.sub(r\"\\'d\", \" would\", phrase)\n",
    "    phrase = re.sub(r\"\\'ll\", \" will\", phrase)\n",
    "    phrase = re.sub(r\"\\'t\", \" not\", phrase)\n",
    "    phrase = re.sub(r\"\\'ve\", \" have\", phrase)\n",
    "    phrase = re.sub(r\"\\'m\", \" am\", phrase)\n",
    "    return phrase\n",
    "\n",
    "# https://gist.github.com/sebleier/554280\n",
    "\n",
    "stopwords= ['i', 'me', 'my', 'myself', 'we', 'our', 'ours', 'ourselves', 'you', \"you're\", \"you've\",\\\n",
    "            \"you'll\", \"you'd\", 'your', 'yours', 'yourself', 'yourselves', 'he', 'him', 'his', 'himself', \\\n",
    "            'she', \"she's\", 'her', 'hers', 'herself', 'it', \"it's\", 'its', 'itself', 'they', 'them', 'their',\\\n",
    "            'theirs', 'themselves', 'what', 'which', 'who', 'whom', 'this', 'that', \"that'll\", 'these', 'those', \\\n",
    "            'am', 'is', 'are', 'was', 'were', 'be', 'been', 'being', 'have', 'has', 'had', 'having', 'do', 'does', \\\n",
    "            'did', 'doing', 'a', 'an', 'the', 'and', 'but', 'if', 'or', 'because', 'as', 'until', 'while', 'of', \\\n",
    "            'at', 'by', 'for', 'with', 'about', 'against', 'between', 'into', 'through', 'during', 'before', 'after',\\\n",
    "            'above', 'below', 'to', 'from', 'up', 'down', 'in', 'out', 'on', 'off', 'over', 'under', 'again', 'further',\\\n",
    "            'then', 'once', 'here', 'there', 'when', 'where', 'why', 'how', 'all', 'any', 'both', 'each', 'few', 'more',\\\n",
    "            'most', 'other', 'some', 'such', 'only', 'own', 'same', 'so', 'than', 'too', 'very', \\\n",
    "            's', 't', 'can', 'will', 'just', 'don', \"don't\", 'should', \"should've\", 'now', 'd', 'll', 'm', 'o', 're', \\\n",
    "            've', 'y', 'ain', 'aren', \"aren't\", 'couldn', \"couldn't\", 'didn', \"didn't\", 'doesn', \"doesn't\", 'hadn',\\\n",
    "            \"hadn't\", 'hasn', \"hasn't\", 'haven', \"haven't\", 'isn', \"isn't\", 'ma', 'mightn', \"mightn't\", 'mustn',\\\n",
    "            \"mustn't\", 'needn', \"needn't\", 'shan', \"shan't\", 'shouldn', \"shouldn't\", 'wasn', \"wasn't\", 'weren', \"weren't\", \\\n",
    "            'won', \"won't\", 'wouldn', \"wouldn't\"]"
   ]
  },
  {
   "cell_type": "code",
   "execution_count": 0,
   "metadata": {
    "colab": {
     "base_uri": "https://localhost:8080/",
     "height": 34
    },
    "colab_type": "code",
    "id": "2EVJ0roL25m8",
    "outputId": "f87b562c-43a2-421c-e0b2-ab0d3f010936"
   },
   "outputs": [
    {
     "name": "stderr",
     "output_type": "stream",
     "text": [
      "100%|██████████| 109248/109248 [01:00<00:00, 1818.57it/s]\n"
     ]
    }
   ],
   "source": [
    "# Cleaning Text feature\n",
    "preprocessed_text = []\n",
    "# tqdm is for printing the status bar\n",
    "for sentance in tqdm(project_data['text'].values):\n",
    "    sent = decontracted(sentance)\n",
    "    sent = sent.replace('\\\\r', ' ')\n",
    "    sent = sent.replace('\\\\\"', ' ')\n",
    "    sent = sent.replace('\\\\n', ' ')\n",
    "    sent = re.sub('[^A-Za-z0-9]+', ' ', sent)\n",
    "    # https://gist.github.com/sebleier/554280\n",
    "    sent = ' '.join(e for e in sent.split() if e not in stopwords)\n",
    "    preprocessed_text.append(sent.lower().strip())"
   ]
  },
  {
   "cell_type": "code",
   "execution_count": 0,
   "metadata": {
    "colab": {},
    "colab_type": "code",
    "id": "U17OhDeb7_Ef"
   },
   "outputs": [],
   "source": [
    "project_data[\"clean_text\"] = preprocessed_text"
   ]
  },
  {
   "cell_type": "code",
   "execution_count": 0,
   "metadata": {
    "colab": {},
    "colab_type": "code",
    "id": "9fAjL07B8BAN"
   },
   "outputs": [],
   "source": [
    "project_data = project_data.drop(['Unnamed: 0', 'id', 'teacher_id',\n",
    "                                  'project_submitted_datetime','text'],axis=1)"
   ]
  },
  {
   "cell_type": "code",
   "execution_count": 0,
   "metadata": {
    "colab": {},
    "colab_type": "code",
    "id": "1qm33b-g8Dfk"
   },
   "outputs": [],
   "source": [
    "# we have categorical features also, will do cleaning one by one\n",
    "\n",
    "# https://stackoverflow.com/questions/36383821/pandas-dataframe-apply-function-to-column-strings-based-on-other-column-value\n",
    "project_data['project_grade_category'] = project_data['project_grade_category'].str.replace(' ','_')\n",
    "project_data['project_grade_category'] = project_data['project_grade_category'].str.replace('-','_')\n",
    "project_data['project_grade_category'] = project_data['project_grade_category'].str.lower()\n",
    "\n",
    "\n",
    "project_data['project_subject_categories'] = project_data['project_subject_categories'].str.replace(' The ','')\n",
    "project_data['project_subject_categories'] = project_data['project_subject_categories'].str.replace(' ','')\n",
    "project_data['project_subject_categories'] = project_data['project_subject_categories'].str.replace('&','_')\n",
    "project_data['project_subject_categories'] = project_data['project_subject_categories'].str.replace(',','_')\n",
    "project_data['project_subject_categories'] = project_data['project_subject_categories'].str.lower()\n",
    "\n",
    "\n",
    "project_data['teacher_prefix']=project_data['teacher_prefix'].fillna('Mrs.')\n",
    "project_data['teacher_prefix'] = project_data['teacher_prefix'].str.replace('.','')\n",
    "project_data['teacher_prefix'] = project_data['teacher_prefix'].str.lower()\n",
    "\n",
    "\n",
    "project_data['project_subject_subcategories'] = project_data['project_subject_subcategories'].str.replace(' The ','')\n",
    "project_data['project_subject_subcategories'] = project_data['project_subject_subcategories'].str.replace(' ','')\n",
    "project_data['project_subject_subcategories'] = project_data['project_subject_subcategories'].str.replace('&','_')\n",
    "project_data['project_subject_subcategories'] = project_data['project_subject_subcategories'].str.replace(',','_')\n",
    "project_data['project_subject_subcategories'] = project_data['project_subject_subcategories'].str.lower()\n",
    "\n",
    "project_data['school_state'] = project_data['school_state'].str.lower()"
   ]
  },
  {
   "cell_type": "code",
   "execution_count": 0,
   "metadata": {
    "colab": {
     "base_uri": "https://localhost:8080/",
     "height": 34
    },
    "colab_type": "code",
    "id": "Vol78Lg18FuF",
    "outputId": "8446c94f-1e13-47bb-f063-df7a9a91c718"
   },
   "outputs": [
    {
     "name": "stderr",
     "output_type": "stream",
     "text": [
      "100%|██████████| 109248/109248 [00:01<00:00, 71911.93it/s]\n"
     ]
    }
   ],
   "source": [
    "# we will extract numerical digits from the project resource summary\n",
    "\n",
    "project_summary_numerical = []\n",
    "for sentance in tqdm(project_data['project_resource_summary']):\n",
    "    sent1 = decontracted(sentance)\n",
    "    sent1 = ' '.join(e for e in sent1.split() if e.isdigit())\n",
    "    k=len(sent1)\n",
    "    project_summary_numerical.append(k)\n",
    "\n",
    "project_data[\"project_summary_numerical\"] = project_summary_numerical"
   ]
  },
  {
   "cell_type": "markdown",
   "metadata": {
    "colab_type": "text",
    "id": "NJRb9SdOhiEf"
   },
   "source": [
    "### Loading data and topic modeling feature files"
   ]
  },
  {
   "cell_type": "code",
   "execution_count": 0,
   "metadata": {
    "colab": {},
    "colab_type": "code",
    "id": "wGr2-wZEZSQ0"
   },
   "outputs": [],
   "source": [
    "project_data = pd.read_csv('/content/drive/My Drive/project_data2.csv')"
   ]
  },
  {
   "cell_type": "code",
   "execution_count": 0,
   "metadata": {
    "colab": {},
    "colab_type": "code",
    "id": "h8jN7Q8ujTLi"
   },
   "outputs": [],
   "source": [
    "# Topic_modeling_keywords = pd.read_csv('/content/drive/My Drive/Topic_modeling_donor_choose.csv')"
   ]
  },
  {
   "cell_type": "code",
   "execution_count": 0,
   "metadata": {
    "colab": {},
    "colab_type": "code",
    "id": "a2Rqzi84jcHz"
   },
   "outputs": [],
   "source": [
    "# Topic_modeling_keywords.head()"
   ]
  },
  {
   "cell_type": "code",
   "execution_count": 0,
   "metadata": {
    "colab": {},
    "colab_type": "code",
    "id": "SJWB2VsDjkq6"
   },
   "outputs": [],
   "source": [
    "# topic_keywords = Topic_modeling_keywords.drop(['Document_No','Dominant_Topic','Topic_Perc_Contrib','Text','Unnamed: 0'],axis=1)"
   ]
  },
  {
   "cell_type": "code",
   "execution_count": 0,
   "metadata": {
    "colab": {},
    "colab_type": "code",
    "id": "A_JkghCtkNU_"
   },
   "outputs": [],
   "source": [
    "# project_data = pd.concat([project_data, topic_keywords],axis=1)"
   ]
  },
  {
   "cell_type": "code",
   "execution_count": 9,
   "metadata": {
    "colab": {
     "base_uri": "https://localhost:8080/",
     "height": 244
    },
    "colab_type": "code",
    "id": "TKqqaiDzkTMv",
    "outputId": "3573daa5-b211-4583-b906-c83a4d6b0380"
   },
   "outputs": [
    {
     "data": {
      "text/html": [
       "<div>\n",
       "<style scoped>\n",
       "    .dataframe tbody tr th:only-of-type {\n",
       "        vertical-align: middle;\n",
       "    }\n",
       "\n",
       "    .dataframe tbody tr th {\n",
       "        vertical-align: top;\n",
       "    }\n",
       "\n",
       "    .dataframe thead th {\n",
       "        text-align: right;\n",
       "    }\n",
       "</style>\n",
       "<table border=\"1\" class=\"dataframe\">\n",
       "  <thead>\n",
       "    <tr style=\"text-align: right;\">\n",
       "      <th></th>\n",
       "      <th>teacher_prefix</th>\n",
       "      <th>school_state</th>\n",
       "      <th>project_submitted_datetime</th>\n",
       "      <th>project_grade_category</th>\n",
       "      <th>project_title</th>\n",
       "      <th>project_essay_1</th>\n",
       "      <th>project_essay_2</th>\n",
       "      <th>project_essay_3</th>\n",
       "      <th>project_essay_4</th>\n",
       "      <th>project_resource_summary</th>\n",
       "      <th>teacher_number_of_previously_posted_projects</th>\n",
       "      <th>project_is_approved</th>\n",
       "      <th>clean_categories</th>\n",
       "      <th>clean_subcategories</th>\n",
       "      <th>price</th>\n",
       "      <th>quantity</th>\n",
       "      <th>digit_in_summary</th>\n",
       "      <th>clean_text</th>\n",
       "      <th>month</th>\n",
       "      <th>weekday</th>\n",
       "      <th>hour</th>\n",
       "      <th>month_Day</th>\n",
       "      <th>project_summary_numerical</th>\n",
       "    </tr>\n",
       "  </thead>\n",
       "  <tbody>\n",
       "    <tr>\n",
       "      <th>0</th>\n",
       "      <td>mrs</td>\n",
       "      <td>in</td>\n",
       "      <td>2016-12-05 13:43:57</td>\n",
       "      <td>grades_prek_2</td>\n",
       "      <td>Educational Support for English Learners at Home</td>\n",
       "      <td>My students are English learners that are work...</td>\n",
       "      <td>\\\"The limits of your language are the limits o...</td>\n",
       "      <td>NaN</td>\n",
       "      <td>NaN</td>\n",
       "      <td>My students need opportunities to practice beg...</td>\n",
       "      <td>0</td>\n",
       "      <td>0</td>\n",
       "      <td>literacy_language</td>\n",
       "      <td>eslliteracy</td>\n",
       "      <td>154.6</td>\n",
       "      <td>23</td>\n",
       "      <td>0</td>\n",
       "      <td>my students english learners working english s...</td>\n",
       "      <td>12</td>\n",
       "      <td>0</td>\n",
       "      <td>13</td>\n",
       "      <td>5</td>\n",
       "      <td>0</td>\n",
       "    </tr>\n",
       "    <tr>\n",
       "      <th>1</th>\n",
       "      <td>mr</td>\n",
       "      <td>fl</td>\n",
       "      <td>2016-10-25 09:22:10</td>\n",
       "      <td>grades_6_8</td>\n",
       "      <td>Wanted: Projector for Hungry Learners</td>\n",
       "      <td>Our students arrive to our school eager to lea...</td>\n",
       "      <td>The projector we need for our school is very c...</td>\n",
       "      <td>NaN</td>\n",
       "      <td>NaN</td>\n",
       "      <td>My students need a projector to help with view...</td>\n",
       "      <td>7</td>\n",
       "      <td>1</td>\n",
       "      <td>history_civicshealth_sports</td>\n",
       "      <td>civics_governmentteamsports</td>\n",
       "      <td>299.0</td>\n",
       "      <td>1</td>\n",
       "      <td>0</td>\n",
       "      <td>our students arrive school eager learn they po...</td>\n",
       "      <td>10</td>\n",
       "      <td>1</td>\n",
       "      <td>9</td>\n",
       "      <td>25</td>\n",
       "      <td>0</td>\n",
       "    </tr>\n",
       "  </tbody>\n",
       "</table>\n",
       "</div>"
      ],
      "text/plain": [
       "  teacher_prefix school_state  ... month_Day project_summary_numerical\n",
       "0            mrs           in  ...         5                         0\n",
       "1             mr           fl  ...        25                         0\n",
       "\n",
       "[2 rows x 23 columns]"
      ]
     },
     "execution_count": 9,
     "metadata": {
      "tags": []
     },
     "output_type": "execute_result"
    }
   ],
   "source": [
    "project_data.head(2)"
   ]
  },
  {
   "cell_type": "code",
   "execution_count": 0,
   "metadata": {
    "colab": {},
    "colab_type": "code",
    "id": "4FxieNPlGNnm"
   },
   "outputs": [],
   "source": [
    "target = project_data[\"project_is_approved\"]\n",
    "features = project_data.drop([\"project_resource_summary\",\"project_is_approved\"],axis=1)"
   ]
  },
  {
   "cell_type": "markdown",
   "metadata": {
    "colab_type": "text",
    "id": "F3LIq_GMriQl"
   },
   "source": [
    "### Splitting data into train and test"
   ]
  },
  {
   "cell_type": "code",
   "execution_count": 0,
   "metadata": {
    "colab": {},
    "colab_type": "code",
    "id": "TwnCJ300GRRR"
   },
   "outputs": [],
   "source": [
    "# We split our dataset into train,cross-validation and test set\n",
    "from sklearn.model_selection import train_test_split\n",
    "X_train, X_test, y_train, y_test = train_test_split(features, target, stratify=target,test_size=0.20,random_state=123)"
   ]
  },
  {
   "cell_type": "markdown",
   "metadata": {
    "colab_type": "text",
    "id": "g9yi9NSUrn4d"
   },
   "source": [
    "#### Vectorizing our text feature"
   ]
  },
  {
   "cell_type": "code",
   "execution_count": 0,
   "metadata": {
    "colab": {},
    "colab_type": "code",
    "id": "obx3wLdHI7Wz"
   },
   "outputs": [],
   "source": [
    "# Filtering Text Data based on idf values\n",
    "\n",
    "vect = TfidfVectorizer()\n",
    "combine_tfid = vect.fit_transform(X_train[\"clean_text\"])\n",
    "\n",
    "# converting to dictionary\n",
    "combine_dict = dict(zip(vect.get_feature_names(),list(vect.idf_)))"
   ]
  },
  {
   "cell_type": "code",
   "execution_count": 0,
   "metadata": {
    "colab": {},
    "colab_type": "code",
    "id": "MOokcKFcjNqK"
   },
   "outputs": [],
   "source": [
    "tfidf_df = pd.DataFrame(list(combine_dict.items()), columns=['Words', 'IDF Values'])"
   ]
  },
  {
   "cell_type": "code",
   "execution_count": 0,
   "metadata": {
    "colab": {},
    "colab_type": "code",
    "id": "ixQx4A6EjTXd"
   },
   "outputs": [],
   "source": [
    "tfidf_df = tfidf_df.sort_values(by ='IDF Values' )"
   ]
  },
  {
   "cell_type": "markdown",
   "metadata": {
    "colab_type": "text",
    "id": "tAo6h77UuCwH"
   },
   "source": [
    "**Plotting graph to observe the distribution of idf values**"
   ]
  },
  {
   "cell_type": "code",
   "execution_count": 15,
   "metadata": {
    "colab": {
     "base_uri": "https://localhost:8080/",
     "height": 303
    },
    "colab_type": "code",
    "id": "RgPJp0VBuAZt",
    "outputId": "5df9a0ca-961b-425d-9dbf-d5f4002fcb67"
   },
   "outputs": [
    {
     "data": {
      "text/plain": [
       "Text(0.5, 1.0, 'Violin plot of idf')"
      ]
     },
     "execution_count": 15,
     "metadata": {
      "tags": []
     },
     "output_type": "execute_result"
    },
    {
     "data": {
      "image/png": "[encoded data removed]",
      "text/plain": [
       "<Figure size 432x288 with 1 Axes>"
      ]
     },
     "metadata": {
      "tags": []
     },
     "output_type": "display_data"
    }
   ],
   "source": [
    "sns.violinplot(x = \"IDF Values\",data=tfidf_df,orient=\"v\")\n",
    "plt.xlabel(\"idf_\")\n",
    "plt.title(\"Violin plot of idf\")"
   ]
  },
  {
   "cell_type": "markdown",
   "metadata": {
    "colab_type": "text",
    "id": "qeSLrMbXuP7_"
   },
   "source": [
    "**Here as we can observe more of our idf values falls in range of 10 -12**"
   ]
  },
  {
   "cell_type": "markdown",
   "metadata": {
    "colab_type": "text",
    "id": "8VzP_YzquiGa"
   },
   "source": [
    "**Lets check the percentile value falling in quantiles**"
   ]
  },
  {
   "cell_type": "code",
   "execution_count": 16,
   "metadata": {
    "colab": {
     "base_uri": "https://localhost:8080/",
     "height": 34
    },
    "colab_type": "code",
    "id": "t105gCqXumx0",
    "outputId": "d2587007-8e55-4310-b9bb-4637c75d5e30"
   },
   "outputs": [
    {
     "name": "stdout",
     "output_type": "stream",
     "text": [
      "[ 1.00767247  9.67018892 11.27962683 11.68509194]\n"
     ]
    }
   ],
   "source": [
    "print(np.percentile(tfidf_df['IDF Values'],np.arange(0, 100, 25)))"
   ]
  },
  {
   "cell_type": "markdown",
   "metadata": {
    "colab_type": "text",
    "id": "ZeHQd3Yzuse3"
   },
   "source": [
    "from this it is clear that we can take value above 25% percentile "
   ]
  },
  {
   "cell_type": "code",
   "execution_count": 0,
   "metadata": {
    "colab": {},
    "colab_type": "code",
    "id": "oPBZyQ75QXcz"
   },
   "outputs": [],
   "source": [
    "final_tfidf = tfidf_df[tfidf_df[\"IDF Values\"] <=  np.percentile(tfidf_df['IDF Values'],25)] # considering only tdf value which are more than 25%"
   ]
  },
  {
   "cell_type": "code",
   "execution_count": 0,
   "metadata": {
    "colab": {},
    "colab_type": "code",
    "id": "x4t_RAmGQ8Qr"
   },
   "outputs": [],
   "source": [
    "corpus = final_tfidf[\"Words\"].tolist()"
   ]
  },
  {
   "cell_type": "code",
   "execution_count": 0,
   "metadata": {
    "colab": {},
    "colab_type": "code",
    "id": "cc2f27XNSdiI"
   },
   "outputs": [],
   "source": [
    "# convert the sentences (strings) into integers\n",
    "tokenizer = Tokenizer()\n",
    "tokenizer.fit_on_texts(corpus)\n",
    "sequences_train = tokenizer.texts_to_sequences(X_train[\"clean_text\"])\n",
    "sequences_test = tokenizer.texts_to_sequences(X_test[\"clean_text\"])"
   ]
  },
  {
   "cell_type": "code",
   "execution_count": 20,
   "metadata": {
    "colab": {
     "base_uri": "https://localhost:8080/",
     "height": 34
    },
    "colab_type": "code",
    "id": "MJ57Z90rTVfX",
    "outputId": "799cc91d-31cc-4bd0-f655-bb02d65145b7"
   },
   "outputs": [
    {
     "name": "stdout",
     "output_type": "stream",
     "text": [
      "Found 13271 unique tokens.\n"
     ]
    }
   ],
   "source": [
    "# get word -> integer mapping\n",
    "word2idx = tokenizer.word_index\n",
    "print('Found %s unique tokens.' % len(word2idx))"
   ]
  },
  {
   "cell_type": "code",
   "execution_count": 22,
   "metadata": {
    "colab": {
     "base_uri": "https://localhost:8080/",
     "height": 34
    },
    "colab_type": "code",
    "id": "3EN_4lpTTldT",
    "outputId": "278825ce-15c4-450c-9eb7-003209f15985"
   },
   "outputs": [
    {
     "name": "stdout",
     "output_type": "stream",
     "text": [
      "Shape of data tensor: (87398, 300)\n"
     ]
    }
   ],
   "source": [
    "encoded_train = pad_sequences(sequences_train,maxlen=300,padding='post', truncating='post')\n",
    "print('Shape of data tensor:', encoded_train.shape)"
   ]
  },
  {
   "cell_type": "code",
   "execution_count": 23,
   "metadata": {
    "colab": {
     "base_uri": "https://localhost:8080/",
     "height": 34
    },
    "colab_type": "code",
    "id": "6JABIn5eTqlm",
    "outputId": "660199bf-1256-43fd-c399-2d36f45283b4"
   },
   "outputs": [
    {
     "name": "stdout",
     "output_type": "stream",
     "text": [
      "Shape of data tensor: (21850, 300)\n"
     ]
    }
   ],
   "source": [
    "encoded_test = pad_sequences(sequences_test, maxlen=300,padding='post', truncating='post')\n",
    "print('Shape of data tensor:', encoded_test.shape)"
   ]
  },
  {
   "cell_type": "code",
   "execution_count": 0,
   "metadata": {
    "colab": {},
    "colab_type": "code",
    "id": "EAm411ywTva3"
   },
   "outputs": [],
   "source": [
    "# Loading Embedding File\n",
    "\n",
    "pickle_in = open(\"drive/My Drive/Lstm_donor_choose/glove_vectors\",\"rb\")\n",
    "glove_words = pickle.load(pickle_in)"
   ]
  },
  {
   "cell_type": "markdown",
   "metadata": {
    "colab_type": "text",
    "id": "uhG-VdSxrs90"
   },
   "source": [
    "#### Embedding matrix"
   ]
  },
  {
   "cell_type": "code",
   "execution_count": 0,
   "metadata": {
    "colab": {},
    "colab_type": "code",
    "id": "JECq4w56T3u-"
   },
   "outputs": [],
   "source": [
    "num_words = len(word2idx) + 1\n",
    "embedding_matrix = np.zeros((num_words, 300))\n",
    "for word, i in word2idx.items():\n",
    "  if i < 13271:\n",
    "    embedding_vector = glove_words.get(word)\n",
    "    if embedding_vector is not None:\n",
    "      # words not found in embedding index will be all zeros.\n",
    "      embedding_matrix[i] = embedding_vector"
   ]
  },
  {
   "cell_type": "markdown",
   "metadata": {
    "colab_type": "text",
    "id": "LmieQVhasGyl"
   },
   "source": [
    "**Using Bi-directional CUDNNGRU and CUDNNLSTM for esssay feature**"
   ]
  },
  {
   "cell_type": "code",
   "execution_count": 0,
   "metadata": {
    "colab": {},
    "colab_type": "code",
    "id": "heRez750ouSJ"
   },
   "outputs": [],
   "source": [
    "embedding_layer = Embedding(num_words,300,weights=[embedding_matrix],input_length=300,trainable=False)\n",
    "input_text = Input(shape=(300,),name='input_text')\n",
    "x = embedding_layer(input_text)\n",
    "x = SpatialDropout1D(0.5)(x)\n",
    "x = Bidirectional(CuDNNGRU(64, return_sequences=True,kernel_regularizer=regularizers.l2(5e-5),recurrent_regularizer=regularizers.l2(5e-5)))(x)\n",
    "# x = TimeDistributed(Dense(128))(x)\n",
    "x = Dropout(0.5)(x)\n",
    "x = Bidirectional(CuDNNGRU(128, return_sequences=True))(x)\n",
    "# x = Attention(x)\n",
    "flatten_1 = Flatten()(x)"
   ]
  },
  {
   "cell_type": "code",
   "execution_count": 28,
   "metadata": {
    "colab": {
     "base_uri": "https://localhost:8080/",
     "height": 244
    },
    "colab_type": "code",
    "id": "Sl5ceilljDGP",
    "outputId": "a3a85ad8-d45b-4859-f210-b1164acf32a2"
   },
   "outputs": [
    {
     "data": {
      "text/html": [
       "<div>\n",
       "<style scoped>\n",
       "    .dataframe tbody tr th:only-of-type {\n",
       "        vertical-align: middle;\n",
       "    }\n",
       "\n",
       "    .dataframe tbody tr th {\n",
       "        vertical-align: top;\n",
       "    }\n",
       "\n",
       "    .dataframe thead th {\n",
       "        text-align: right;\n",
       "    }\n",
       "</style>\n",
       "<table border=\"1\" class=\"dataframe\">\n",
       "  <thead>\n",
       "    <tr style=\"text-align: right;\">\n",
       "      <th></th>\n",
       "      <th>teacher_prefix</th>\n",
       "      <th>school_state</th>\n",
       "      <th>project_submitted_datetime</th>\n",
       "      <th>project_grade_category</th>\n",
       "      <th>project_title</th>\n",
       "      <th>project_essay_1</th>\n",
       "      <th>project_essay_2</th>\n",
       "      <th>project_essay_3</th>\n",
       "      <th>project_essay_4</th>\n",
       "      <th>teacher_number_of_previously_posted_projects</th>\n",
       "      <th>clean_categories</th>\n",
       "      <th>clean_subcategories</th>\n",
       "      <th>price</th>\n",
       "      <th>quantity</th>\n",
       "      <th>digit_in_summary</th>\n",
       "      <th>clean_text</th>\n",
       "      <th>month</th>\n",
       "      <th>weekday</th>\n",
       "      <th>hour</th>\n",
       "      <th>month_Day</th>\n",
       "      <th>project_summary_numerical</th>\n",
       "    </tr>\n",
       "  </thead>\n",
       "  <tbody>\n",
       "    <tr>\n",
       "      <th>7670</th>\n",
       "      <td>mrs</td>\n",
       "      <td>mt</td>\n",
       "      <td>2016-08-28 13:46:00</td>\n",
       "      <td>grades_prek_2</td>\n",
       "      <td>Increasing Engagement for Eager to Learn Kinders</td>\n",
       "      <td>My students are imaginative, playful, and eage...</td>\n",
       "      <td>These materials truly will make a difference i...</td>\n",
       "      <td>NaN</td>\n",
       "      <td>NaN</td>\n",
       "      <td>0</td>\n",
       "      <td>appliedlearningliteracy_language</td>\n",
       "      <td>earlydevelopmentliteracy</td>\n",
       "      <td>122.95</td>\n",
       "      <td>6</td>\n",
       "      <td>0</td>\n",
       "      <td>my students imaginative playful eager learn 5 ...</td>\n",
       "      <td>8</td>\n",
       "      <td>6</td>\n",
       "      <td>13</td>\n",
       "      <td>28</td>\n",
       "      <td>0</td>\n",
       "    </tr>\n",
       "    <tr>\n",
       "      <th>72572</th>\n",
       "      <td>mrs</td>\n",
       "      <td>co</td>\n",
       "      <td>2016-06-11 17:56:44</td>\n",
       "      <td>grades_6_8</td>\n",
       "      <td>Student Connections and Family Communication</td>\n",
       "      <td>My students come from a small town community t...</td>\n",
       "      <td>I am always looking for new ideas to improve m...</td>\n",
       "      <td>NaN</td>\n",
       "      <td>NaN</td>\n",
       "      <td>0</td>\n",
       "      <td>appliedlearning</td>\n",
       "      <td>otherparentinvolvement</td>\n",
       "      <td>114.77</td>\n",
       "      <td>12</td>\n",
       "      <td>0</td>\n",
       "      <td>my students come small town community growing ...</td>\n",
       "      <td>6</td>\n",
       "      <td>5</td>\n",
       "      <td>17</td>\n",
       "      <td>11</td>\n",
       "      <td>0</td>\n",
       "    </tr>\n",
       "  </tbody>\n",
       "</table>\n",
       "</div>"
      ],
      "text/plain": [
       "      teacher_prefix school_state  ... month_Day project_summary_numerical\n",
       "7670             mrs           mt  ...        28                         0\n",
       "72572            mrs           co  ...        11                         0\n",
       "\n",
       "[2 rows x 21 columns]"
      ]
     },
     "execution_count": 28,
     "metadata": {
      "tags": []
     },
     "output_type": "execute_result"
    }
   ],
   "source": [
    "X_train.head(2)"
   ]
  },
  {
   "cell_type": "markdown",
   "metadata": {
    "colab_type": "text",
    "id": "7fC52r-Ns1Tb"
   },
   "source": [
    "#### Teacher Prefix feature"
   ]
  },
  {
   "cell_type": "code",
   "execution_count": 29,
   "metadata": {
    "colab": {
     "base_uri": "https://localhost:8080/",
     "height": 34
    },
    "colab_type": "code",
    "id": "vPrm1wdOUar2",
    "outputId": "1413a2b9-27de-497e-8c05-e4e98eecdc2e"
   },
   "outputs": [
    {
     "name": "stdout",
     "output_type": "stream",
     "text": [
      "Unique Categories: 5 Embedding Size: 3\n"
     ]
    }
   ],
   "source": [
    "# Now will prepare all the remaining categorical features\n",
    "# Teacher Prefix\n",
    "no_of_unique_prefix  = X_train[\"teacher_prefix\"].nunique()\n",
    "embedding_size_prefix = int(min(np.ceil((no_of_unique_prefix)/2), 50 ))\n",
    "print('Unique Categories:', no_of_unique_prefix,'Embedding Size:', embedding_size_prefix)\n",
    "\n",
    "\n",
    "# Defining Input and Embedding Layer for the same\n",
    "\n",
    "input_prefix = Input(shape=(1,),name=\"teacher_prefix\")\n",
    "embedding_prefix = Embedding(no_of_unique_prefix,embedding_size_prefix,name=\"emb_pre\",trainable=True)(input_prefix)\n",
    "flatten_2 = Flatten()(embedding_prefix)\n",
    "\n",
    "lb = LabelEncoder()\n",
    "encoder_prefix_train = lb.fit_transform(X_train[\"teacher_prefix\"])\n",
    "# encoder_prefix_cv = lb.transform(X_cv[\"teacher_prefix\"])\n",
    "encoder_prefix_test = lb.transform(X_test[\"teacher_prefix\"])"
   ]
  },
  {
   "cell_type": "markdown",
   "metadata": {
    "colab_type": "text",
    "id": "GaK4ZCpEs6D1"
   },
   "source": [
    "### School state feature"
   ]
  },
  {
   "cell_type": "code",
   "execution_count": 30,
   "metadata": {
    "colab": {
     "base_uri": "https://localhost:8080/",
     "height": 34
    },
    "colab_type": "code",
    "id": "XqMhsGeGUbS5",
    "outputId": "9fe6fffa-4341-45fb-e6a1-2e58253ca753"
   },
   "outputs": [
    {
     "name": "stdout",
     "output_type": "stream",
     "text": [
      "Unique Categories: 51 Embedding Size: 26\n"
     ]
    }
   ],
   "source": [
    "# School State\n",
    "no_of_unique_state  = X_train[\"school_state\"].nunique()\n",
    "embedding_size_state= int(min(np.ceil((no_of_unique_state)/2), 50 ))\n",
    "print('Unique Categories:', no_of_unique_state,'Embedding Size:', embedding_size_state)\n",
    "\n",
    "input_state = Input(shape=(1,),name=\"school_prefix\")\n",
    "embedding_state = Embedding(no_of_unique_state,embedding_size_state,name=\"emb_state\",trainable=True)(input_state)\n",
    "flatten_3 = Flatten()(embedding_state)\n",
    "\n",
    "\n",
    "encoder_state_train = lb.fit_transform(X_train[\"school_state\"])\n",
    "encoder_state_test = lb.transform(X_test[\"school_state\"])"
   ]
  },
  {
   "cell_type": "markdown",
   "metadata": {
    "colab_type": "text",
    "id": "V5Pw5a3ms9_V"
   },
   "source": [
    "### Project Grade category"
   ]
  },
  {
   "cell_type": "code",
   "execution_count": 31,
   "metadata": {
    "colab": {
     "base_uri": "https://localhost:8080/",
     "height": 34
    },
    "colab_type": "code",
    "id": "FZWQUDo6UfT9",
    "outputId": "d7f2867b-7894-4b44-86c3-2fa360275abf"
   },
   "outputs": [
    {
     "name": "stdout",
     "output_type": "stream",
     "text": [
      "Unique Categories: 4 Embedding Size: 2\n"
     ]
    }
   ],
   "source": [
    "# For project_grade_category\n",
    "no_of_unique_grade  = X_train[\"project_grade_category\"].nunique()\n",
    "embedding_size_grade = int(min(np.ceil((no_of_unique_grade)/2), 50 ))\n",
    "print('Unique Categories:', no_of_unique_grade,'Embedding Size:', embedding_size_grade)\n",
    "\n",
    "input_grade= Input(shape=(1,),name=\"grade_cat\")\n",
    "embedding_grade = Embedding(no_of_unique_grade,embedding_size_grade,name=\"emb_grade\",trainable=True)(input_grade)\n",
    "flatten_4 = Flatten()(embedding_grade)\n",
    "\n",
    "\n",
    "encoder_grade_train = lb.fit_transform(X_train[\"project_grade_category\"])\n",
    "encoder_grade_test = lb.transform(X_test[\"project_grade_category\"])"
   ]
  },
  {
   "cell_type": "markdown",
   "metadata": {
    "colab_type": "text",
    "id": "4uo30_ZWtBy1"
   },
   "source": [
    "### Clean category"
   ]
  },
  {
   "cell_type": "code",
   "execution_count": 32,
   "metadata": {
    "colab": {
     "base_uri": "https://localhost:8080/",
     "height": 34
    },
    "colab_type": "code",
    "id": "159yl5QSUiVb",
    "outputId": "3aff8f2d-9805-456c-c96f-70369b7a0467"
   },
   "outputs": [
    {
     "name": "stdout",
     "output_type": "stream",
     "text": [
      "Unique Categories: 51 Embedding Size: 26\n"
     ]
    }
   ],
   "source": [
    "# For project_subject_categories\n",
    "no_of_unique_subcat  = X_train[\"clean_categories\"].nunique()\n",
    "embedding_size_subcat = int(min(np.ceil((no_of_unique_subcat)/2), 50 ))\n",
    "print('Unique Categories:', no_of_unique_subcat,'Embedding Size:', embedding_size_subcat)\n",
    "\n",
    "\n",
    "# Defining Input and Embedding Layer for the same\n",
    "\n",
    "input_subcat= Input(shape=(1,),name=\"sub_cat\")\n",
    "embedding_subcat = Embedding(no_of_unique_subcat,embedding_size_subcat,name=\"emb_subcat\",trainable=True)(input_subcat)\n",
    "flatten_5 = Flatten()(embedding_subcat)\n",
    "\n",
    "\n",
    "le = LabelEncoder()\n",
    "le.fit(X_train[\"clean_categories\"])\n",
    "X_test[\"clean_categories\"] = X_test[\"clean_categories\"].map(lambda s: '<unknown>' if s not in le.classes_ else s)\n",
    "le.classes_ = np.append(le.classes_, '<unknown>')\n",
    "encoder_subcat_train = le.transform(X_train[\"clean_categories\"])\n",
    "encoder_subcat_test= le.transform(X_test[\"clean_categories\"])"
   ]
  },
  {
   "cell_type": "markdown",
   "metadata": {
    "colab_type": "text",
    "id": "lipqEgPVtFwe"
   },
   "source": [
    "### Clean sub category"
   ]
  },
  {
   "cell_type": "code",
   "execution_count": 33,
   "metadata": {
    "colab": {
     "base_uri": "https://localhost:8080/",
     "height": 34
    },
    "colab_type": "code",
    "id": "8jIyrt_vUl-z",
    "outputId": "431c294d-7d0a-4859-fec9-0737f72e83d7"
   },
   "outputs": [
    {
     "name": "stdout",
     "output_type": "stream",
     "text": [
      "Unique Categories: 398 Embedding Size: 50\n"
     ]
    }
   ],
   "source": [
    "# For project_subject_subcategories\n",
    "no_of_unique_subcat_1  = X_train[\"clean_subcategories\"].nunique()\n",
    "embedding_size_subcat_1 = int(min(np.ceil((no_of_unique_subcat_1)/2), 50 ))\n",
    "print('Unique Categories:', no_of_unique_subcat_1,'Embedding Size:', embedding_size_subcat_1)\n",
    "\n",
    "# Defining Input and Embedding Layer for the same\n",
    "\n",
    "input_subcat_1= Input(shape=(1,),name=\"sub_cat_1\")\n",
    "embedding_subcat_1 = Embedding(no_of_unique_subcat_1,embedding_size_subcat_1,name=\"emb_subcat_1\",trainable=True)(input_subcat_1)\n",
    "flatten_6 = Flatten()(embedding_subcat_1)\n",
    "\n",
    "\n",
    "le = LabelEncoder()\n",
    "le.fit(X_train[\"clean_subcategories\"])\n",
    "X_test[\"clean_subcategories\"] = X_test[\"clean_subcategories\"].map(lambda s: '<unknown>' if s not in le.classes_ else s)\n",
    "# X_cv[\"project_subject_subcategories\"] = X_cv[\"project_subject_subcategories\"].map(lambda s: '<unknown>' if s not in le.classes_ else s)\n",
    "le.classes_ = np.append(le.classes_, '<unknown>')\n",
    "encoder_subcat_1_train = le.transform(X_train[\"clean_subcategories\"])\n",
    "encoder_subcat_1_test= le.transform(X_test[\"clean_subcategories\"])\n",
    "# encoder_subcat_1_cv = le.transform(X_cv[\"project_subject_subcategories\"])"
   ]
  },
  {
   "cell_type": "markdown",
   "metadata": {
    "colab_type": "text",
    "id": "n4LWxp3gtJ4g"
   },
   "source": [
    "### Numerical feature"
   ]
  },
  {
   "cell_type": "markdown",
   "metadata": {
    "colab_type": "text",
    "id": "XxQKzZqctO-d"
   },
   "source": [
    "**Tried with extra time based feature result was approx same so neglected time based feature**"
   ]
  },
  {
   "cell_type": "code",
   "execution_count": 0,
   "metadata": {
    "colab": {},
    "colab_type": "code",
    "id": "oQBj37ICUreV"
   },
   "outputs": [],
   "source": [
    "numerical_train_1=X_train['project_summary_numerical'].values.reshape(-1, 1)\n",
    "numerical_train_2=X_train['price'].values.reshape(-1, 1)\n",
    "numerical_train_3=X_train['quantity'].values.reshape(-1, 1)\n",
    "numerical_train_4=X_train['teacher_number_of_previously_posted_projects'].values.reshape(-1, 1)\n",
    "# numerical_train_5=X_train['month'].values.reshape(-1,1) \n",
    "# numerical_train_6=X_train['month_Day'].values.reshape(-1,1)\n",
    "# numerical_train_7=X_train['weekday'].values.reshape(-1,1)\n",
    "# numerical_train_8=X_train['hour'].values.reshape(-1,1) \n",
    "\n",
    "\n",
    "numerical_test_1=X_test['project_summary_numerical'].values.reshape(-1, 1)\n",
    "numerical_test_2=X_test['price'].values.reshape(-1, 1)\n",
    "numerical_test_3=X_test['quantity'].values.reshape(-1, 1)\n",
    "numerical_test_4=X_test['teacher_number_of_previously_posted_projects'].values.reshape(-1, 1)\n",
    "# numerical_test_5=X_test['month'].values.reshape(-1,1) \n",
    "# numerical_test_6=X_test['month_Day'].values.reshape(-1,1)\n",
    "# numerical_test_7=X_test['weekday'].values.reshape(-1,1)\n",
    "# numerical_test_8=X_test['hour'].values.reshape(-1,1)\n",
    "\n",
    "numerical_train=np.concatenate((numerical_train_1,numerical_train_2,numerical_train_3,numerical_train_4),axis=1)\n",
    "\n",
    "numerical_test=np.concatenate((numerical_test_1,numerical_test_2,numerical_test_3,numerical_test_4),axis=1)\n"
   ]
  },
  {
   "cell_type": "markdown",
   "metadata": {
    "colab_type": "text",
    "id": "phmCP50HtZhp"
   },
   "source": [
    "**Standarize our numerical data**"
   ]
  },
  {
   "cell_type": "code",
   "execution_count": 0,
   "metadata": {
    "colab": {},
    "colab_type": "code",
    "id": "e7zhbrF-UuJw"
   },
   "outputs": [],
   "source": [
    "from sklearn.preprocessing import StandardScaler\n",
    "norm=StandardScaler()\n",
    "numerical_train=norm.fit_transform(numerical_train)\n",
    "numerical_test=norm.transform(numerical_test)"
   ]
  },
  {
   "cell_type": "markdown",
   "metadata": {
    "colab_type": "text",
    "id": "CzhKHg6EtgFY"
   },
   "source": [
    "### Defining Input and embedding layer for numerical data"
   ]
  },
  {
   "cell_type": "code",
   "execution_count": 0,
   "metadata": {
    "colab": {},
    "colab_type": "code",
    "id": "V6ZT1qb9UvMc"
   },
   "outputs": [],
   "source": [
    "# Defining the Input and Embedding Layer for the same\n",
    "\n",
    "numerical_features = Input(shape=(4,),name=\"numerical_features\")\n",
    "numerical_features_ = Dense(1000,activation=\"relu\",kernel_initializer=\"he_normal\")(numerical_features)"
   ]
  },
  {
   "cell_type": "markdown",
   "metadata": {
    "colab_type": "text",
    "id": "EAjK-fzgtlte"
   },
   "source": [
    "### Concatinating our all feature last layer to single layer"
   ]
  },
  {
   "cell_type": "code",
   "execution_count": 0,
   "metadata": {
    "colab": {},
    "colab_type": "code",
    "id": "qdr01YfxUyFo"
   },
   "outputs": [],
   "source": [
    "x = concatenate([flatten_1,flatten_2,flatten_3,flatten_4,flatten_5,flatten_6,numerical_features_])\n",
    "x = BatchNormalization()(x)\n",
    "x = Dense(128,activation=\"relu\", kernel_initializer=\"he_normal\",kernel_regularizer=regularizers.l2(0.001))(x)\n",
    "x = Dropout(0.5)(x)\n",
    "x = Dense(256,activation=\"relu\",kernel_initializer=\"he_normal\",kernel_regularizer=regularizers.l2(0.001))(x)\n",
    "x = Dropout(0.5)(x)\n",
    "x = Dense(64,activation=\"relu\", kernel_initializer=\"he_normal\",kernel_regularizer=regularizers.l2(0.001))(x)\n",
    "x = BatchNormalization()(x)\n",
    "output = Dense(2, activation='softmax', name='output')(x)\n",
    "model = Model(inputs=[input_text,input_prefix,input_state,input_grade,\n",
    "                        input_subcat,input_subcat_1,numerical_features],outputs=[output])"
   ]
  },
  {
   "cell_type": "markdown",
   "metadata": {
    "colab_type": "text",
    "id": "k1kG70F8tunc"
   },
   "source": [
    "**Defining train and test data for simplification**"
   ]
  },
  {
   "cell_type": "code",
   "execution_count": 0,
   "metadata": {
    "colab": {},
    "colab_type": "code",
    "id": "c3Pjh-sYU8Ft"
   },
   "outputs": [],
   "source": [
    "train = [encoded_train,encoder_prefix_train,encoder_state_train,\n",
    "              encoder_grade_train,encoder_subcat_train,encoder_subcat_1_train,numerical_train]\n",
    "test = [encoded_test,encoder_prefix_test,encoder_state_test,encoder_grade_test,\n",
    "             encoder_subcat_test,encoder_subcat_1_test,numerical_test]\n",
    "\n",
    "from keras.utils import np_utils\n",
    "Y_train = np_utils.to_categorical(y_train, 2) \n",
    "Y_test = np_utils.to_categorical(y_test, 2)"
   ]
  },
  {
   "cell_type": "markdown",
   "metadata": {
    "colab_type": "text",
    "id": "z5EKjqQJt7Pp"
   },
   "source": [
    "<h3><b>Using keras callbacks for monitoring our model performance<b></h3>\n",
    "  \n",
    "1. Checkpoint for saving best model\n",
    "2. Earlystopping for stoping training of model if there is no change in val loss\n",
    "3. ReduceROnPlateau for tracking learning rate if there is no change in val loss we reduce the learning rate "
   ]
  },
  {
   "cell_type": "code",
   "execution_count": 0,
   "metadata": {
    "colab": {},
    "colab_type": "code",
    "id": "BK8AjOuzVFPB"
   },
   "outputs": [],
   "source": [
    "from keras.callbacks import EarlyStopping\n",
    "\n",
    "checkpoint = ModelCheckpoint(\"model.h5\",\n",
    "                             monitor=\"val_loss\",\n",
    "                             mode=\"min\",\n",
    "                             save_best_only = True,\n",
    "                             verbose=1)\n",
    "\n",
    "earlystop = EarlyStopping(monitor = 'val_loss', \n",
    "                            mode=\"min\",\n",
    "                            min_delta = 0, \n",
    "                            patience = 5,\n",
    "                            verbose = 1,\n",
    "                            restore_best_weights = True)\n",
    "\n",
    "reduce_lr = ReduceLROnPlateau(monitor = 'val_loss', factor = 0.2, patience = 2, verbose = 1, min_delta = 0.0001)\n",
    "\n",
    "#combining in single so that we will pass callbacks in model.fit\n",
    "callbacks = [checkpoint,earlystop,reduce_lr]"
   ]
  },
  {
   "cell_type": "markdown",
   "metadata": {
    "colab_type": "text",
    "id": "hb7G0jjQuolr"
   },
   "source": [
    "### Defining our own roc_auc_score "
   ]
  },
  {
   "cell_type": "markdown",
   "metadata": {
    "colab_type": "text",
    "id": "L3P7Ip2sutdD"
   },
   "source": [
    "**We can define own function for auc score or else after training the model we can use sklearn auc to calculate auc but defining function is a feasible way of doing**"
   ]
  },
  {
   "cell_type": "code",
   "execution_count": 0,
   "metadata": {
    "colab": {},
    "colab_type": "code",
    "id": "0br3eI2xVP3N"
   },
   "outputs": [],
   "source": [
    "# Defining Custom ROC-AUC Metrics\n",
    "from sklearn.metrics import roc_auc_score\n",
    "\n",
    "def auc(y_true, y_pred):\n",
    "    if len(np.unique(y_true[:,1])) == 1:\n",
    "        return 0.5\n",
    "    else:\n",
    "        return roc_auc_score(y_true, y_pred)\n",
    "\n",
    "def auroc(y_true, y_pred):\n",
    "    return tf.py_func(auc, (y_true, y_pred), tf.double)"
   ]
  },
  {
   "cell_type": "markdown",
   "metadata": {
    "colab_type": "text",
    "id": "jTF_V2aJu7bP"
   },
   "source": [
    "**We will be using adam optimizer for model training since it best for model**"
   ]
  },
  {
   "cell_type": "code",
   "execution_count": 0,
   "metadata": {
    "colab": {},
    "colab_type": "code",
    "id": "MI-lDkoYVSj8"
   },
   "outputs": [],
   "source": [
    "adam = Adam(lr=0.001, beta_1=0.9, beta_2=0.999, epsilon=None, decay=0.0, amsgrad=False)"
   ]
  },
  {
   "cell_type": "markdown",
   "metadata": {
    "colab_type": "text",
    "id": "6tgvy8Eov9wn"
   },
   "source": [
    "**Before training our model we need to compile our model why? bcoz it lets model to know what are the parameter we will be using**"
   ]
  },
  {
   "cell_type": "code",
   "execution_count": 46,
   "metadata": {
    "colab": {
     "base_uri": "https://localhost:8080/",
     "height": 289
    },
    "colab_type": "code",
    "id": "4QpIcVsiVzVz",
    "outputId": "24f8fabd-c54d-456e-ef93-90573e274c15"
   },
   "outputs": [
    {
     "name": "stderr",
     "output_type": "stream",
     "text": [
      "W0905 09:28:13.793900 140569482385280 deprecation_wrapper.py:119] From /usr/local/lib/python3.6/dist-packages/keras/optimizers.py:793: The name tf.train.Optimizer is deprecated. Please use tf.compat.v1.train.Optimizer instead.\n",
      "\n",
      "W0905 09:28:13.827317 140569482385280 deprecation.py:323] From <ipython-input-44-574376673a91>:10: py_func (from tensorflow.python.ops.script_ops) is deprecated and will be removed in a future version.\n",
      "Instructions for updating:\n",
      "tf.py_func is deprecated in TF V2. Instead, there are two\n",
      "    options available in V2.\n",
      "    - tf.py_function takes a python function which manipulates tf eager\n",
      "    tensors instead of numpy arrays. It's easy to convert a tf eager tensor to\n",
      "    an ndarray (just call tensor.numpy()) but having access to eager tensors\n",
      "    means `tf.py_function`s can use accelerators such as GPUs as well as\n",
      "    being differentiable using a gradient tape.\n",
      "    - tf.numpy_function maintains the semantics of the deprecated tf.py_func\n",
      "    (it is not differentiable, and manipulates numpy arrays). It drops the\n",
      "    stateful argument making all functions stateful.\n",
      "    \n"
     ]
    }
   ],
   "source": [
    "model.compile(optimizer=adam, loss='categorical_crossentropy', metrics=[auroc])"
   ]
  },
  {
   "cell_type": "markdown",
   "metadata": {
    "colab_type": "text",
    "id": "kWLv5W-FwOVG"
   },
   "source": [
    "### Training our model "
   ]
  },
  {
   "cell_type": "code",
   "execution_count": 47,
   "metadata": {
    "colab": {
     "base_uri": "https://localhost:8080/",
     "height": 1000
    },
    "colab_type": "code",
    "id": "4vAIPajGWbr3",
    "outputId": "fcf8a841-296d-40e2-922c-372ab1018e56"
   },
   "outputs": [
    {
     "name": "stderr",
     "output_type": "stream",
     "text": [
      "W0905 09:28:47.423297 140569482385280 deprecation.py:323] From /usr/local/lib/python3.6/dist-packages/tensorflow/python/ops/math_grad.py:1250: add_dispatch_support.<locals>.wrapper (from tensorflow.python.ops.array_ops) is deprecated and will be removed in a future version.\n",
      "Instructions for updating:\n",
      "Use tf.where in 2.0, which has the same broadcast rule as np.where\n"
     ]
    },
    {
     "name": "stdout",
     "output_type": "stream",
     "text": [
      "Train on 87398 samples, validate on 21850 samples\n",
      "Epoch 1/50\n",
      "87398/87398 [==============================] - 51s 587us/step - loss: 1.2362 - auroc: 0.5399 - val_loss: 0.8096 - val_auroc: 0.6293\n",
      "\n",
      "Epoch 00001: val_loss improved from inf to 0.80960, saving model to model.h5\n",
      "Epoch 2/50\n",
      "87398/87398 [==============================] - 48s 555us/step - loss: 0.6886 - auroc: 0.6765 - val_loss: 0.5941 - val_auroc: 0.7298\n",
      "\n",
      "Epoch 00002: val_loss improved from 0.80960 to 0.59407, saving model to model.h5\n",
      "Epoch 3/50\n",
      "87398/87398 [==============================] - 48s 551us/step - loss: 0.5491 - auroc: 0.7249 - val_loss: 0.5136 - val_auroc: 0.7454\n",
      "\n",
      "Epoch 00003: val_loss improved from 0.59407 to 0.51360, saving model to model.h5\n",
      "Epoch 4/50\n",
      "87398/87398 [==============================] - 48s 552us/step - loss: 0.5028 - auroc: 0.7417 - val_loss: 0.4819 - val_auroc: 0.7563\n",
      "\n",
      "Epoch 00004: val_loss improved from 0.51360 to 0.48188, saving model to model.h5\n",
      "Epoch 5/50\n",
      "87398/87398 [==============================] - 48s 551us/step - loss: 0.4884 - auroc: 0.7518 - val_loss: 0.4861 - val_auroc: 0.7508\n",
      "\n",
      "Epoch 00005: val_loss did not improve from 0.48188\n",
      "Epoch 6/50\n",
      "87398/87398 [==============================] - 48s 550us/step - loss: 0.4754 - auroc: 0.7538 - val_loss: 0.4716 - val_auroc: 0.7629\n",
      "\n",
      "Epoch 00006: val_loss improved from 0.48188 to 0.47159, saving model to model.h5\n",
      "Epoch 7/50\n",
      "87398/87398 [==============================] - 48s 552us/step - loss: 0.4760 - auroc: 0.7583 - val_loss: 0.4746 - val_auroc: 0.7610\n",
      "\n",
      "Epoch 00007: val_loss did not improve from 0.47159\n",
      "Epoch 8/50\n",
      "87398/87398 [==============================] - 48s 552us/step - loss: 0.4794 - auroc: 0.7627 - val_loss: 0.4874 - val_auroc: 0.7651\n",
      "\n",
      "Epoch 00008: val_loss did not improve from 0.47159\n",
      "\n",
      "Epoch 00008: ReduceLROnPlateau reducing learning rate to 0.00020000000949949026.\n",
      "Epoch 9/50\n",
      "87398/87398 [==============================] - 48s 551us/step - loss: 0.4341 - auroc: 0.7755 - val_loss: 0.4231 - val_auroc: 0.7704\n",
      "\n",
      "Epoch 00009: val_loss improved from 0.47159 to 0.42309, saving model to model.h5\n",
      "Epoch 10/50\n",
      "87398/87398 [==============================] - 48s 552us/step - loss: 0.4136 - auroc: 0.7820 - val_loss: 0.4206 - val_auroc: 0.7693\n",
      "\n",
      "Epoch 00010: val_loss improved from 0.42309 to 0.42059, saving model to model.h5\n",
      "Epoch 11/50\n",
      "87398/87398 [==============================] - 48s 551us/step - loss: 0.4140 - auroc: 0.7830 - val_loss: 0.4193 - val_auroc: 0.7750\n",
      "\n",
      "Epoch 00011: val_loss improved from 0.42059 to 0.41929, saving model to model.h5\n",
      "Epoch 12/50\n",
      "87398/87398 [==============================] - 48s 552us/step - loss: 0.4147 - auroc: 0.7828 - val_loss: 0.4214 - val_auroc: 0.7782\n",
      "\n",
      "Epoch 00012: val_loss did not improve from 0.41929\n",
      "Epoch 13/50\n",
      "87398/87398 [==============================] - 48s 553us/step - loss: 0.4140 - auroc: 0.7838 - val_loss: 0.4191 - val_auroc: 0.7751\n",
      "\n",
      "Epoch 00013: val_loss improved from 0.41929 to 0.41913, saving model to model.h5\n",
      "Epoch 14/50\n",
      "87398/87398 [==============================] - 48s 552us/step - loss: 0.4125 - auroc: 0.7875 - val_loss: 0.4268 - val_auroc: 0.7730\n",
      "\n",
      "Epoch 00014: val_loss did not improve from 0.41913\n",
      "Epoch 15/50\n",
      "87398/87398 [==============================] - 48s 552us/step - loss: 0.4133 - auroc: 0.7891 - val_loss: 0.4230 - val_auroc: 0.7755\n",
      "\n",
      "Epoch 00015: val_loss did not improve from 0.41913\n",
      "\n",
      "Epoch 00015: ReduceLROnPlateau reducing learning rate to 4.0000001899898055e-05.\n",
      "Epoch 16/50\n",
      "87398/87398 [==============================] - 48s 550us/step - loss: 0.4020 - auroc: 0.7977 - val_loss: 0.4137 - val_auroc: 0.7762\n",
      "\n",
      "Epoch 00016: val_loss improved from 0.41913 to 0.41370, saving model to model.h5\n",
      "Epoch 17/50\n",
      "87398/87398 [==============================] - 48s 552us/step - loss: 0.3911 - auroc: 0.8028 - val_loss: 0.4104 - val_auroc: 0.7766\n",
      "\n",
      "Epoch 00017: val_loss improved from 0.41370 to 0.41038, saving model to model.h5\n",
      "Epoch 18/50\n",
      "87398/87398 [==============================] - 48s 551us/step - loss: 0.3850 - auroc: 0.8068 - val_loss: 0.4098 - val_auroc: 0.7747\n",
      "\n",
      "Epoch 00018: val_loss improved from 0.41038 to 0.40978, saving model to model.h5\n",
      "Epoch 19/50\n",
      "87398/87398 [==============================] - 48s 551us/step - loss: 0.3803 - auroc: 0.8104 - val_loss: 0.4096 - val_auroc: 0.7747\n",
      "\n",
      "Epoch 00019: val_loss improved from 0.40978 to 0.40957, saving model to model.h5\n",
      "Epoch 20/50\n",
      "87398/87398 [==============================] - 48s 552us/step - loss: 0.3778 - auroc: 0.8130 - val_loss: 0.4069 - val_auroc: 0.7733\n",
      "\n",
      "Epoch 00020: val_loss improved from 0.40957 to 0.40688, saving model to model.h5\n",
      "Epoch 21/50\n",
      "87398/87398 [==============================] - 48s 550us/step - loss: 0.3754 - auroc: 0.8170 - val_loss: 0.4085 - val_auroc: 0.7730\n",
      "\n",
      "Epoch 00021: val_loss did not improve from 0.40688\n",
      "Epoch 22/50\n",
      "87398/87398 [==============================] - 48s 550us/step - loss: 0.3722 - auroc: 0.8217 - val_loss: 0.4114 - val_auroc: 0.7711\n",
      "\n",
      "Epoch 00022: val_loss did not improve from 0.40688\n",
      "\n",
      "Epoch 00022: ReduceLROnPlateau reducing learning rate to 8.000000525498762e-06.\n",
      "Epoch 23/50\n",
      "87398/87398 [==============================] - 48s 550us/step - loss: 0.3683 - auroc: 0.8283 - val_loss: 0.4117 - val_auroc: 0.7707\n",
      "\n",
      "Epoch 00023: val_loss did not improve from 0.40688\n",
      "Epoch 24/50\n",
      "87398/87398 [==============================] - 48s 550us/step - loss: 0.3646 - auroc: 0.8318 - val_loss: 0.4120 - val_auroc: 0.7702\n",
      "\n",
      "Epoch 00024: val_loss did not improve from 0.40688\n",
      "\n",
      "Epoch 00024: ReduceLROnPlateau reducing learning rate to 1.6000001778593287e-06.\n",
      "Epoch 25/50\n",
      "87398/87398 [==============================] - 48s 551us/step - loss: 0.3626 - auroc: 0.8342 - val_loss: 0.4128 - val_auroc: 0.7699\n",
      "\n",
      "Epoch 00025: val_loss did not improve from 0.40688\n",
      "Restoring model weights from the end of the best epoch\n",
      "Epoch 00025: early stopping\n"
     ]
    }
   ],
   "source": [
    "history = model.fit(train,Y_train,batch_size=512,\n",
    "                        epochs=50,validation_data=(test,Y_test),callbacks=callbacks)"
   ]
  },
  {
   "cell_type": "code",
   "execution_count": 48,
   "metadata": {
    "colab": {
     "base_uri": "https://localhost:8080/",
     "height": 50
    },
    "colab_type": "code",
    "id": "of2Fq723QvQC",
    "outputId": "ae37c2a1-edd9-49fa-f009-c1e896047364"
   },
   "outputs": [
    {
     "name": "stdout",
     "output_type": "stream",
     "text": [
      "21850/21850 [==============================] - 4s 202us/step\n"
     ]
    },
    {
     "data": {
      "text/plain": [
       "[0.406877310177827, 0.7733144011795287]"
      ]
     },
     "execution_count": 48,
     "metadata": {
      "tags": []
     },
     "output_type": "execute_result"
    }
   ],
   "source": [
    "score = model.evaluate(test,Y_test,batch_size=512)\n",
    "score"
   ]
  },
  {
   "cell_type": "markdown",
   "metadata": {
    "colab_type": "text",
    "id": "OIIO55SQwVx4"
   },
   "source": [
    "### Plot"
   ]
  },
  {
   "cell_type": "code",
   "execution_count": 49,
   "metadata": {
    "colab": {
     "base_uri": "https://localhost:8080/",
     "height": 531
    },
    "colab_type": "code",
    "id": "98ftIg7Lwf0r",
    "outputId": "2f0638f9-72f2-4f22-8626-aafbf91d2ad9"
   },
   "outputs": [
    {
     "data": {
      "image/png": "[encoded data removed]",
      "text/plain": [
       "<Figure size 432x288 with 1 Axes>"
      ]
     },
     "metadata": {
      "tags": []
     },
     "output_type": "display_data"
    },
    {
     "data": {
      "image/png": "[encoded data removed]",
      "text/plain": [
       "<Figure size 432x288 with 1 Axes>"
      ]
     },
     "metadata": {
      "tags": []
     },
     "output_type": "display_data"
    }
   ],
   "source": [
    "sns.set()\n",
    "plt.plot(history.history['auroc'], 'r')\n",
    "plt.plot(history.history['val_auroc'], 'b')\n",
    "plt.legend({'Train ROCAUC': 'r', 'Test ROCAUC':'b'})\n",
    "plt.show()\n",
    "\n",
    "\n",
    "plt.plot(history.history['loss'], 'r')\n",
    "plt.plot(history.history['val_loss'], 'b')\n",
    "plt.legend({'Train Loss': 'r', 'Test Loss':'b'})\n",
    "plt.show()"
   ]
  },
  {
   "cell_type": "markdown",
   "metadata": {
    "colab_type": "text",
    "id": "am2z3kJLrR54"
   },
   "source": [
    "# Conclusion"
   ]
  },
  {
   "cell_type": "markdown",
   "metadata": {
    "colab_type": "text",
    "id": "wyppwMk3W3yS"
   },
   "source": [
    "1. First tried with simple model or baseline model got auc of 0.50 which is bad.\n",
    "2. Tried regularizer like dropout and BatchNormalization got auc more then 0.50 i.e around 0.70.\n",
    "3. Tried various featurization technique auc was approx same in every featurization.\n",
    "4. Using Bi-directional and LSTM achieved more auc then 0.70 i.e around 0.76\n",
    "5. Tried adding more features like time based, word count, text length, sentiment polarity but auc was aprrox same.\n",
    "6. Tried different NLP technique like Topic modeling got auc of 0.7751\n",
    "7. Best model was featurization and extra feature of topic modeling."
   ]
  },
  {
   "cell_type": "code",
   "execution_count": 2,
   "metadata": {
    "colab": {
     "base_uri": "https://localhost:8080/",
     "height": 151
    },
    "colab_type": "code",
    "id": "FFaEwsJtqTSz",
    "outputId": "1f465dad-bf21-4999-ed61-b3bbcca9e8b5"
   },
   "outputs": [
    {
     "name": "stdout",
     "output_type": "stream",
     "text": [
      "+-----------------------------------------------------------+--------+\n",
      "|                     Model with feature                    |  AUC   |\n",
      "+-----------------------------------------------------------+--------+\n",
      "|                 Mode with countvectorizer                 |  0.76  |\n",
      "|               Model essay feature using LSTM              |  0.76  |\n",
      "|     Model essay feature using Bi-directional lstm/Gru     |  0.77  |\n",
      "|               Model with convolutional layer              |  0.77  |\n",
      "| Model essay feature with topic modeling as essay feature  | 0.7751 |\n",
      "+-----------------------------------------------------------+--------+\n"
     ]
    }
   ],
   "source": [
    "from prettytable import PrettyTable\n",
    "\n",
    "x = PrettyTable()\n",
    "x.field_names = ['Model with feature','AUC']\n",
    "x.add_row(['Mode with countvectorizer','0.76'])\n",
    "x.add_row(['Model essay feature using LSTM','0.76'])\n",
    "x.add_row(['Model essay feature using Bi-directional lstm/Gru ','0.77'])\n",
    "x.add_row(['Model with convolutional layer','0.77'])\n",
    "x.add_row(['Model essay feature with topic modeling as essay feature ','0.7751'])\n",
    "\n",
    "print(x)"
   ]
  },
  {
   "cell_type": "markdown",
   "metadata": {
    "colab_type": "text",
    "id": "NC7V7ai_W87l"
   },
   "source": [
    "1. Importing package and loading the data<br>\n",
    "2. Performing EDA to get insgihts of data<br>\n",
    "3. Pre-processing the data and cleaning the data<br>\n",
    "4. Using featurization to convert text data into numerical form<br>\n",
    "5. Defining embedding matrix and input-output for all feature<br>\n",
    "6. Concatinating last layer of every feature to a single layer<br>\n",
    "7. Compile and training deep learning model i.e Keras<br>\n",
    "8. Tried with different hyperparameter tuning like dropout,BatchNormalization<br>\n",
    "9. Final step Conclusion<br>"
   ]
  }
 ],
 "metadata": {
  "accelerator": "GPU",
  "colab": {
   "collapsed_sections": [],
   "name": "Lstm_donor_choose_model.ipynb",
   "provenance": [],
   "version": "0.3.2"
  },
  "kernelspec": {
   "display_name": "Python 3",
   "language": "python",
   "name": "python3"
  },
  "language_info": {
   "codemirror_mode": {
    "name": "ipython",
    "version": 3
   },
   "file_extension": ".py",
   "mimetype": "text/x-python",
   "name": "python",
   "nbconvert_exporter": "python",
   "pygments_lexer": "ipython3",
   "version": "3.6.8"
  }
 },
 "nbformat": 4,
 "nbformat_minor": 1
}
