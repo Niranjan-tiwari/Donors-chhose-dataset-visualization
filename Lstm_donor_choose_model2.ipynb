{
 "cells": [
  {
   "cell_type": "code",
   "execution_count": 69,
   "metadata": {
    "colab": {
     "base_uri": "https://localhost:8080/",
     "height": 34
    },
    "colab_type": "code",
    "id": "__NukAYoi7dO",
    "outputId": "61b292b9-cabb-416b-df44-9589e7bb33a7"
   },
   "outputs": [
    {
     "name": "stdout",
     "output_type": "stream",
     "text": [
      "Drive already mounted at /content/drive; to attempt to forcibly remount, call drive.mount(\"/content/drive\", force_remount=True).\n"
     ]
    }
   ],
   "source": [
    "from google.colab import drive\n",
    "drive.mount('/content/drive')"
   ]
  },
  {
   "cell_type": "markdown",
   "metadata": {
    "colab_type": "text",
    "id": "KDmz3fIlhV74"
   },
   "source": [
    "# Importing prequiste package for case study"
   ]
  },
  {
   "cell_type": "code",
   "execution_count": 0,
   "metadata": {
    "colab": {},
    "colab_type": "code",
    "id": "Lf6WdgPF2BEt"
   },
   "outputs": [],
   "source": [
    "# importing required libraries\n",
    "import warnings\n",
    "warnings.filterwarnings(\"ignore\")\n",
    "import pandas as pd\n",
    "import numpy as np\n",
    "from keras.layers import Input, Embedding, LSTM, Dropout, BatchNormalization, Dense, concatenate, Flatten, Conv1D, MaxPool1D, LeakyReLU, ELU, SpatialDropout1D, MaxPooling1D, GlobalAveragePooling1D, GlobalMaxPooling1D\n",
    "from keras.preprocessing.text import Tokenizer, one_hot\n",
    "from keras.preprocessing.sequence import pad_sequences\n",
    "from keras.models import Model, load_model\n",
    "from keras import regularizers\n",
    "from keras.optimizers import *\n",
    "from keras.callbacks import ModelCheckpoint, EarlyStopping, TensorBoard, ReduceLROnPlateau\n",
    "from sklearn.feature_extraction.text import TfidfVectorizer, CountVectorizer\n",
    "from sklearn.metrics import roc_auc_score\n",
    "import tensorflow as tf\n",
    "import matplotlib.pyplot as plt\n",
    "%matplotlib inline\n",
    "import re\n",
    "from tqdm import tqdm\n",
    "from sklearn.preprocessing import LabelEncoder\n",
    "import seaborn as sns\n",
    "import pickle"
   ]
  },
  {
   "cell_type": "markdown",
   "metadata": {
    "colab_type": "text",
    "id": "Dd3vRzEXhcly"
   },
   "source": [
    "### Pre-processing steps"
   ]
  },
  {
   "cell_type": "code",
   "execution_count": 0,
   "metadata": {
    "colab": {},
    "colab_type": "code",
    "id": "YSbROHly6SEp"
   },
   "outputs": [],
   "source": [
    "project_data = pd.read_csv('/content/drive/My Drive/project_data2.csv')"
   ]
  },
  {
   "cell_type": "code",
   "execution_count": 0,
   "metadata": {
    "colab": {},
    "colab_type": "code",
    "id": "7jMmPn3J2SfJ"
   },
   "outputs": [],
   "source": [
    "# We clean the essay text data\n",
    "# For this task, we have defined some helper functions\n",
    "# The same function and code snippet will be used to clean project title\n",
    "# https://stackoverflow.com/a/47091490/4084039\n",
    "\n",
    "def decontracted(phrase):\n",
    "    # specific\n",
    "    phrase = re.sub(r\"won't\", \"will not\", phrase)\n",
    "    phrase = re.sub(r\"can\\'t\", \"can not\", phrase)\n",
    "\n",
    "    # general\n",
    "    phrase = re.sub(r\"n\\'t\", \" not\", phrase)\n",
    "    phrase = re.sub(r\"\\'re\", \" are\", phrase)\n",
    "    phrase = re.sub(r\"\\'s\", \" is\", phrase)\n",
    "    phrase = re.sub(r\"\\'d\", \" would\", phrase)\n",
    "    phrase = re.sub(r\"\\'ll\", \" will\", phrase)\n",
    "    phrase = re.sub(r\"\\'t\", \" not\", phrase)\n",
    "    phrase = re.sub(r\"\\'ve\", \" have\", phrase)\n",
    "    phrase = re.sub(r\"\\'m\", \" am\", phrase)\n",
    "    return phrase\n",
    "\n",
    "# https://gist.github.com/sebleier/554280\n",
    "\n",
    "stopwords= ['i', 'me', 'my', 'myself', 'we', 'our', 'ours', 'ourselves', 'you', \"you're\", \"you've\",\\\n",
    "            \"you'll\", \"you'd\", 'your', 'yours', 'yourself', 'yourselves', 'he', 'him', 'his', 'himself', \\\n",
    "            'she', \"she's\", 'her', 'hers', 'herself', 'it', \"it's\", 'its', 'itself', 'they', 'them', 'their',\\\n",
    "            'theirs', 'themselves', 'what', 'which', 'who', 'whom', 'this', 'that', \"that'll\", 'these', 'those', \\\n",
    "            'am', 'is', 'are', 'was', 'were', 'be', 'been', 'being', 'have', 'has', 'had', 'having', 'do', 'does', \\\n",
    "            'did', 'doing', 'a', 'an', 'the', 'and', 'but', 'if', 'or', 'because', 'as', 'until', 'while', 'of', \\\n",
    "            'at', 'by', 'for', 'with', 'about', 'against', 'between', 'into', 'through', 'during', 'before', 'after',\\\n",
    "            'above', 'below', 'to', 'from', 'up', 'down', 'in', 'out', 'on', 'off', 'over', 'under', 'again', 'further',\\\n",
    "            'then', 'once', 'here', 'there', 'when', 'where', 'why', 'how', 'all', 'any', 'both', 'each', 'few', 'more',\\\n",
    "            'most', 'other', 'some', 'such', 'only', 'own', 'same', 'so', 'than', 'too', 'very', \\\n",
    "            's', 't', 'can', 'will', 'just', 'don', \"don't\", 'should', \"should've\", 'now', 'd', 'll', 'm', 'o', 're', \\\n",
    "            've', 'y', 'ain', 'aren', \"aren't\", 'couldn', \"couldn't\", 'didn', \"didn't\", 'doesn', \"doesn't\", 'hadn',\\\n",
    "            \"hadn't\", 'hasn', \"hasn't\", 'haven', \"haven't\", 'isn', \"isn't\", 'ma', 'mightn', \"mightn't\", 'mustn',\\\n",
    "            \"mustn't\", 'needn', \"needn't\", 'shan', \"shan't\", 'shouldn', \"shouldn't\", 'wasn', \"wasn't\", 'weren', \"weren't\", \\\n",
    "            'won', \"won't\", 'wouldn', \"wouldn't\"]"
   ]
  },
  {
   "cell_type": "code",
   "execution_count": 0,
   "metadata": {
    "colab": {},
    "colab_type": "code",
    "id": "2EVJ0roL25m8"
   },
   "outputs": [],
   "source": [
    "# # Cleaning Text feature\n",
    "# preprocessed_text = []\n",
    "# # tqdm is for printing the status bar\n",
    "# for sentance in tqdm(project_data['text'].values):\n",
    "#     sent = decontracted(sentance)\n",
    "#     sent = sent.replace('\\\\r', ' ')\n",
    "#     sent = sent.replace('\\\\\"', ' ')\n",
    "#     sent = sent.replace('\\\\n', ' ')\n",
    "#     sent = re.sub('[^A-Za-z0-9]+', ' ', sent)\n",
    "#     # https://gist.github.com/sebleier/554280\n",
    "#     sent = ' '.join(e for e in sent.split() if e not in stopwords)\n",
    "#     preprocessed_text.append(sent.lower().strip())"
   ]
  },
  {
   "cell_type": "markdown",
   "metadata": {
    "colab_type": "text",
    "id": "zGqKwLeF6dHe"
   },
   "source": [
    "commented the code after cleaning the text"
   ]
  },
  {
   "cell_type": "code",
   "execution_count": 0,
   "metadata": {
    "colab": {},
    "colab_type": "code",
    "id": "U17OhDeb7_Ef"
   },
   "outputs": [],
   "source": [
    "project_data[\"clean_text\"] = preprocessed_text"
   ]
  },
  {
   "cell_type": "code",
   "execution_count": 0,
   "metadata": {
    "colab": {},
    "colab_type": "code",
    "id": "9fAjL07B8BAN"
   },
   "outputs": [],
   "source": [
    "# project_data = project_data.drop(['Unnamed: 0', 'id', 'teacher_id',\n",
    "#                                   'project_submitted_datetime','text'],axis=1)"
   ]
  },
  {
   "cell_type": "code",
   "execution_count": 0,
   "metadata": {
    "colab": {},
    "colab_type": "code",
    "id": "1qm33b-g8Dfk"
   },
   "outputs": [],
   "source": [
    "# we have categorical features also, will do cleaning one by one\n",
    "\n",
    "# https://stackoverflow.com/questions/36383821/pandas-dataframe-apply-function-to-column-strings-based-on-other-column-value\n",
    "project_data['project_grade_category'] = project_data['project_grade_category'].str.replace(' ','_')\n",
    "project_data['project_grade_category'] = project_data['project_grade_category'].str.replace('-','_')\n",
    "project_data['project_grade_category'] = project_data['project_grade_category'].str.lower()\n",
    "\n",
    "\n",
    "project_data['project_subject_categories'] = project_data['project_subject_categories'].str.replace(' The ','')\n",
    "project_data['project_subject_categories'] = project_data['project_subject_categories'].str.replace(' ','')\n",
    "project_data['project_subject_categories'] = project_data['project_subject_categories'].str.replace('&','_')\n",
    "project_data['project_subject_categories'] = project_data['project_subject_categories'].str.replace(',','_')\n",
    "project_data['project_subject_categories'] = project_data['project_subject_categories'].str.lower()\n",
    "\n",
    "\n",
    "project_data['teacher_prefix']=project_data['teacher_prefix'].fillna('Mrs.')\n",
    "project_data['teacher_prefix'] = project_data['teacher_prefix'].str.replace('.','')\n",
    "project_data['teacher_prefix'] = project_data['teacher_prefix'].str.lower()\n",
    "\n",
    "\n",
    "project_data['project_subject_subcategories'] = project_data['project_subject_subcategories'].str.replace(' The ','')\n",
    "project_data['project_subject_subcategories'] = project_data['project_subject_subcategories'].str.replace(' ','')\n",
    "project_data['project_subject_subcategories'] = project_data['project_subject_subcategories'].str.replace('&','_')\n",
    "project_data['project_subject_subcategories'] = project_data['project_subject_subcategories'].str.replace(',','_')\n",
    "project_data['project_subject_subcategories'] = project_data['project_subject_subcategories'].str.lower()\n",
    "\n",
    "project_data['school_state'] = project_data['school_state'].str.lower()"
   ]
  },
  {
   "cell_type": "code",
   "execution_count": 0,
   "metadata": {
    "colab": {
     "base_uri": "https://localhost:8080/",
     "height": 34
    },
    "colab_type": "code",
    "id": "Vol78Lg18FuF",
    "outputId": "8446c94f-1e13-47bb-f063-df7a9a91c718"
   },
   "outputs": [
    {
     "name": "stderr",
     "output_type": "stream",
     "text": [
      "100%|██████████| 109248/109248 [00:01<00:00, 71911.93it/s]\n"
     ]
    }
   ],
   "source": [
    "# we will extract numerical digits from the project resource summary\n",
    "\n",
    "project_summary_numerical = []\n",
    "for sentance in tqdm(project_data['project_resource_summary']):\n",
    "    sent1 = decontracted(sentance)\n",
    "    sent1 = ' '.join(e for e in sent1.split() if e.isdigit())\n",
    "    k=len(sent1)\n",
    "    project_summary_numerical.append(k)\n",
    "\n",
    "project_data[\"project_summary_numerical\"] = project_summary_numerical"
   ]
  },
  {
   "cell_type": "markdown",
   "metadata": {
    "colab_type": "text",
    "id": "NJRb9SdOhiEf"
   },
   "source": [
    "### Loading data and topic modeling feature files"
   ]
  },
  {
   "cell_type": "code",
   "execution_count": 0,
   "metadata": {
    "colab": {},
    "colab_type": "code",
    "id": "wGr2-wZEZSQ0"
   },
   "outputs": [],
   "source": [
    "project_data = pd.read_csv('/content/drive/My Drive/project_data2.csv')"
   ]
  },
  {
   "cell_type": "code",
   "execution_count": 0,
   "metadata": {
    "colab": {},
    "colab_type": "code",
    "id": "h8jN7Q8ujTLi"
   },
   "outputs": [],
   "source": [
    "# Topic_modeling_keywords = pd.read_csv('/content/drive/My Drive/Topic_modeling_donor_choose.csv')"
   ]
  },
  {
   "cell_type": "code",
   "execution_count": 0,
   "metadata": {
    "colab": {},
    "colab_type": "code",
    "id": "a2Rqzi84jcHz"
   },
   "outputs": [],
   "source": [
    "# Topic_modeling_keywords.head()"
   ]
  },
  {
   "cell_type": "code",
   "execution_count": 0,
   "metadata": {
    "colab": {},
    "colab_type": "code",
    "id": "SJWB2VsDjkq6"
   },
   "outputs": [],
   "source": [
    "topic_keywords = Topic_modeling_keywords.drop(['Document_No','Dominant_Topic','Topic_Perc_Contrib','Text','Unnamed: 0'],axis=1)"
   ]
  },
  {
   "cell_type": "code",
   "execution_count": 0,
   "metadata": {
    "colab": {},
    "colab_type": "code",
    "id": "A_JkghCtkNU_"
   },
   "outputs": [],
   "source": [
    "project_data = pd.concat([project_data, topic_keywords],axis=1)"
   ]
  },
  {
   "cell_type": "code",
   "execution_count": 0,
   "metadata": {
    "colab": {
     "base_uri": "https://localhost:8080/",
     "height": 294
    },
    "colab_type": "code",
    "id": "TKqqaiDzkTMv",
    "outputId": "2d1f512c-58dc-4fe5-8a31-6a63176ef24f"
   },
   "outputs": [
    {
     "data": {
      "text/html": [
       "<div>\n",
       "<style scoped>\n",
       "    .dataframe tbody tr th:only-of-type {\n",
       "        vertical-align: middle;\n",
       "    }\n",
       "\n",
       "    .dataframe tbody tr th {\n",
       "        vertical-align: top;\n",
       "    }\n",
       "\n",
       "    .dataframe thead th {\n",
       "        text-align: right;\n",
       "    }\n",
       "</style>\n",
       "<table border=\"1\" class=\"dataframe\">\n",
       "  <thead>\n",
       "    <tr style=\"text-align: right;\">\n",
       "      <th></th>\n",
       "      <th>teacher_prefix</th>\n",
       "      <th>school_state</th>\n",
       "      <th>project_submitted_datetime</th>\n",
       "      <th>project_grade_category</th>\n",
       "      <th>project_title</th>\n",
       "      <th>project_essay_1</th>\n",
       "      <th>project_essay_2</th>\n",
       "      <th>project_essay_3</th>\n",
       "      <th>project_essay_4</th>\n",
       "      <th>project_resource_summary</th>\n",
       "      <th>teacher_number_of_previously_posted_projects</th>\n",
       "      <th>project_is_approved</th>\n",
       "      <th>clean_categories</th>\n",
       "      <th>clean_subcategories</th>\n",
       "      <th>price</th>\n",
       "      <th>quantity</th>\n",
       "      <th>digit_in_summary</th>\n",
       "      <th>clean_text</th>\n",
       "      <th>month</th>\n",
       "      <th>weekday</th>\n",
       "      <th>hour</th>\n",
       "      <th>month_Day</th>\n",
       "      <th>project_summary_numerical</th>\n",
       "      <th>Keywords</th>\n",
       "    </tr>\n",
       "  </thead>\n",
       "  <tbody>\n",
       "    <tr>\n",
       "      <th>0</th>\n",
       "      <td>mrs</td>\n",
       "      <td>in</td>\n",
       "      <td>2016-12-05 13:43:57</td>\n",
       "      <td>grades_prek_2</td>\n",
       "      <td>Educational Support for English Learners at Home</td>\n",
       "      <td>My students are English learners that are work...</td>\n",
       "      <td>\\\"The limits of your language are the limits o...</td>\n",
       "      <td>NaN</td>\n",
       "      <td>NaN</td>\n",
       "      <td>My students need opportunities to practice beg...</td>\n",
       "      <td>0</td>\n",
       "      <td>0</td>\n",
       "      <td>literacy_language</td>\n",
       "      <td>eslliteracy</td>\n",
       "      <td>154.6</td>\n",
       "      <td>23</td>\n",
       "      <td>0</td>\n",
       "      <td>my students english learners working english s...</td>\n",
       "      <td>12</td>\n",
       "      <td>0</td>\n",
       "      <td>13</td>\n",
       "      <td>5</td>\n",
       "      <td>0</td>\n",
       "      <td>student, reading, book, school, classroom, lea...</td>\n",
       "    </tr>\n",
       "    <tr>\n",
       "      <th>1</th>\n",
       "      <td>mr</td>\n",
       "      <td>fl</td>\n",
       "      <td>2016-10-25 09:22:10</td>\n",
       "      <td>grades_6_8</td>\n",
       "      <td>Wanted: Projector for Hungry Learners</td>\n",
       "      <td>Our students arrive to our school eager to lea...</td>\n",
       "      <td>The projector we need for our school is very c...</td>\n",
       "      <td>NaN</td>\n",
       "      <td>NaN</td>\n",
       "      <td>My students need a projector to help with view...</td>\n",
       "      <td>7</td>\n",
       "      <td>1</td>\n",
       "      <td>history_civicshealth_sports</td>\n",
       "      <td>civics_governmentteamsports</td>\n",
       "      <td>299.0</td>\n",
       "      <td>1</td>\n",
       "      <td>0</td>\n",
       "      <td>our students arrive school eager learn they po...</td>\n",
       "      <td>10</td>\n",
       "      <td>1</td>\n",
       "      <td>9</td>\n",
       "      <td>25</td>\n",
       "      <td>0</td>\n",
       "      <td>student, school, supply, class, nannan, would,...</td>\n",
       "    </tr>\n",
       "  </tbody>\n",
       "</table>\n",
       "</div>"
      ],
      "text/plain": [
       "  teacher_prefix  ...                                           Keywords\n",
       "0            mrs  ...  student, reading, book, school, classroom, lea...\n",
       "1             mr  ...  student, school, supply, class, nannan, would,...\n",
       "\n",
       "[2 rows x 24 columns]"
      ]
     },
     "execution_count": 8,
     "metadata": {
      "tags": []
     },
     "output_type": "execute_result"
    }
   ],
   "source": [
    "project_data.head(2)"
   ]
  },
  {
   "cell_type": "code",
   "execution_count": 0,
   "metadata": {
    "colab": {},
    "colab_type": "code",
    "id": "4FxieNPlGNnm"
   },
   "outputs": [],
   "source": [
    "target = project_data[\"project_is_approved\"]\n",
    "features = project_data.drop([\"project_resource_summary\",\"project_is_approved\"],axis=1)"
   ]
  },
  {
   "cell_type": "markdown",
   "metadata": {
    "colab_type": "text",
    "id": "7JOWrdIOhnYK"
   },
   "source": [
    "### Loading final topic modeling features"
   ]
  },
  {
   "cell_type": "code",
   "execution_count": 0,
   "metadata": {
    "colab": {},
    "colab_type": "code",
    "id": "n4_KhPRKS2ox"
   },
   "outputs": [],
   "source": [
    "import numpy as np\n",
    "train_vecs = np.load('/content/drive/My Drive/TopicData.npy')\n",
    "train_vecs =train_vecs.tolist()"
   ]
  },
  {
   "cell_type": "code",
   "execution_count": 0,
   "metadata": {
    "colab": {},
    "colab_type": "code",
    "id": "O61a3vFGTGAd"
   },
   "outputs": [],
   "source": [
    "features['New_topic'] = train_vecs"
   ]
  },
  {
   "cell_type": "code",
   "execution_count": 0,
   "metadata": {
    "colab": {},
    "colab_type": "code",
    "id": "gKOfOe7LTQUB"
   },
   "outputs": [],
   "source": [
    "# features.head(2)"
   ]
  },
  {
   "cell_type": "markdown",
   "metadata": {
    "colab_type": "text",
    "id": "F3LIq_GMriQl"
   },
   "source": [
    "### Splitting data into train and test"
   ]
  },
  {
   "cell_type": "code",
   "execution_count": 0,
   "metadata": {
    "colab": {},
    "colab_type": "code",
    "id": "TwnCJ300GRRR"
   },
   "outputs": [],
   "source": [
    "# We split our dataset into train,cross-validation and test set\n",
    "from sklearn.model_selection import train_test_split\n",
    "X_train, X_test, y_train, y_test = train_test_split(features, target, stratify=target,test_size=0.20,random_state=123)"
   ]
  },
  {
   "cell_type": "code",
   "execution_count": 74,
   "metadata": {
    "colab": {
     "base_uri": "https://localhost:8080/",
     "height": 244
    },
    "colab_type": "code",
    "id": "KXhvrtYJ7CdK",
    "outputId": "38fbb206-546e-423a-b0ee-5596e4bc4037"
   },
   "outputs": [
    {
     "data": {
      "text/html": [
       "<div>\n",
       "<style scoped>\n",
       "    .dataframe tbody tr th:only-of-type {\n",
       "        vertical-align: middle;\n",
       "    }\n",
       "\n",
       "    .dataframe tbody tr th {\n",
       "        vertical-align: top;\n",
       "    }\n",
       "\n",
       "    .dataframe thead th {\n",
       "        text-align: right;\n",
       "    }\n",
       "</style>\n",
       "<table border=\"1\" class=\"dataframe\">\n",
       "  <thead>\n",
       "    <tr style=\"text-align: right;\">\n",
       "      <th></th>\n",
       "      <th>teacher_prefix</th>\n",
       "      <th>school_state</th>\n",
       "      <th>project_submitted_datetime</th>\n",
       "      <th>project_grade_category</th>\n",
       "      <th>project_title</th>\n",
       "      <th>project_essay_1</th>\n",
       "      <th>project_essay_2</th>\n",
       "      <th>project_essay_3</th>\n",
       "      <th>project_essay_4</th>\n",
       "      <th>teacher_number_of_previously_posted_projects</th>\n",
       "      <th>clean_categories</th>\n",
       "      <th>clean_subcategories</th>\n",
       "      <th>price</th>\n",
       "      <th>quantity</th>\n",
       "      <th>digit_in_summary</th>\n",
       "      <th>clean_text</th>\n",
       "      <th>month</th>\n",
       "      <th>weekday</th>\n",
       "      <th>hour</th>\n",
       "      <th>month_Day</th>\n",
       "      <th>project_summary_numerical</th>\n",
       "    </tr>\n",
       "  </thead>\n",
       "  <tbody>\n",
       "    <tr>\n",
       "      <th>7670</th>\n",
       "      <td>mrs</td>\n",
       "      <td>mt</td>\n",
       "      <td>2016-08-28 13:46:00</td>\n",
       "      <td>grades_prek_2</td>\n",
       "      <td>Increasing Engagement for Eager to Learn Kinders</td>\n",
       "      <td>My students are imaginative, playful, and eage...</td>\n",
       "      <td>These materials truly will make a difference i...</td>\n",
       "      <td>NaN</td>\n",
       "      <td>NaN</td>\n",
       "      <td>0</td>\n",
       "      <td>appliedlearningliteracy_language</td>\n",
       "      <td>earlydevelopmentliteracy</td>\n",
       "      <td>122.95</td>\n",
       "      <td>6</td>\n",
       "      <td>0</td>\n",
       "      <td>my students imaginative playful eager learn 5 ...</td>\n",
       "      <td>8</td>\n",
       "      <td>6</td>\n",
       "      <td>13</td>\n",
       "      <td>28</td>\n",
       "      <td>0</td>\n",
       "    </tr>\n",
       "    <tr>\n",
       "      <th>72572</th>\n",
       "      <td>mrs</td>\n",
       "      <td>co</td>\n",
       "      <td>2016-06-11 17:56:44</td>\n",
       "      <td>grades_6_8</td>\n",
       "      <td>Student Connections and Family Communication</td>\n",
       "      <td>My students come from a small town community t...</td>\n",
       "      <td>I am always looking for new ideas to improve m...</td>\n",
       "      <td>NaN</td>\n",
       "      <td>NaN</td>\n",
       "      <td>0</td>\n",
       "      <td>appliedlearning</td>\n",
       "      <td>otherparentinvolvement</td>\n",
       "      <td>114.77</td>\n",
       "      <td>12</td>\n",
       "      <td>0</td>\n",
       "      <td>my students come small town community growing ...</td>\n",
       "      <td>6</td>\n",
       "      <td>5</td>\n",
       "      <td>17</td>\n",
       "      <td>11</td>\n",
       "      <td>0</td>\n",
       "    </tr>\n",
       "  </tbody>\n",
       "</table>\n",
       "</div>"
      ],
      "text/plain": [
       "      teacher_prefix school_state  ... month_Day project_summary_numerical\n",
       "7670             mrs           mt  ...        28                         0\n",
       "72572            mrs           co  ...        11                         0\n",
       "\n",
       "[2 rows x 21 columns]"
      ]
     },
     "execution_count": 74,
     "metadata": {
      "tags": []
     },
     "output_type": "execute_result"
    }
   ],
   "source": [
    "X_train.head(2)"
   ]
  },
  {
   "cell_type": "markdown",
   "metadata": {
    "colab_type": "text",
    "id": "2GKvAaGN7MK8"
   },
   "source": [
    "## Lets check the distribution of train and test data by taking length of text of essay"
   ]
  },
  {
   "cell_type": "code",
   "execution_count": 0,
   "metadata": {
    "colab": {},
    "colab_type": "code",
    "id": "_LL1jqSI7WD7"
   },
   "outputs": [],
   "source": [
    "X_train['text_length'] =X_train['clean_text'].apply(len) \n",
    "X_test['text_length'] = X_test['clean_text'].apply(len)"
   ]
  },
  {
   "cell_type": "markdown",
   "metadata": {
    "colab_type": "text",
    "id": "Qml8zZyl63qj"
   },
   "source": [
    "### Visualizing the data"
   ]
  },
  {
   "cell_type": "code",
   "execution_count": 76,
   "metadata": {
    "colab": {
     "base_uri": "https://localhost:8080/",
     "height": 308
    },
    "colab_type": "code",
    "id": "RIar3fU967qS",
    "outputId": "d6e4aea4-8aed-4b05-9e27-8de659ff1b26"
   },
   "outputs": [
    {
     "data": {
      "text/plain": [
       "<matplotlib.axes._subplots.AxesSubplot at 0x7f33699f64a8>"
      ]
     },
     "execution_count": 76,
     "metadata": {
      "tags": []
     },
     "output_type": "execute_result"
    },
    {
     "data": {
      "image/png": "[encoded data removed]",
      "text/plain": [
       "<Figure size 432x288 with 1 Axes>"
      ]
     },
     "metadata": {
      "tags": []
     },
     "output_type": "display_data"
    }
   ],
   "source": [
    "sns.set()\n",
    "sns.distplot(X_train['text_length'])"
   ]
  },
  {
   "cell_type": "code",
   "execution_count": 77,
   "metadata": {
    "colab": {
     "base_uri": "https://localhost:8080/",
     "height": 308
    },
    "colab_type": "code",
    "id": "cJpS8AZa7sMZ",
    "outputId": "764c06de-3859-4a73-e8ab-d7338acc5c9e"
   },
   "outputs": [
    {
     "data": {
      "text/plain": [
       "<matplotlib.axes._subplots.AxesSubplot at 0x7f3369a6ddd8>"
      ]
     },
     "execution_count": 77,
     "metadata": {
      "tags": []
     },
     "output_type": "execute_result"
    },
    {
     "data": {
      "image/png": "[encoded data removed]",
      "text/plain": [
       "<Figure size 432x288 with 1 Axes>"
      ]
     },
     "metadata": {
      "tags": []
     },
     "output_type": "display_data"
    }
   ],
   "source": [
    "sns.distplot(X_test['text_length'])"
   ]
  },
  {
   "cell_type": "markdown",
   "metadata": {
    "colab_type": "text",
    "id": "g9yi9NSUrn4d"
   },
   "source": [
    "#### Vectorizing our text feature"
   ]
  },
  {
   "cell_type": "code",
   "execution_count": 0,
   "metadata": {
    "colab": {},
    "colab_type": "code",
    "id": "obx3wLdHI7Wz"
   },
   "outputs": [],
   "source": [
    "# Filtering Text Data based on idf values\n",
    "\n",
    "tfidf = TfidfVectorizer()\n",
    "train_tfidf = tfidf.fit_transform(X_train[\"clean_text\"])\n",
    "\n",
    "# converting to dictionary\n",
    "combine_dict = dict(zip(tfidf.get_feature_names(),list(tfidf.idf_)))"
   ]
  },
  {
   "cell_type": "code",
   "execution_count": 0,
   "metadata": {
    "colab": {},
    "colab_type": "code",
    "id": "amplr7H_8eBp"
   },
   "outputs": [],
   "source": [
    "test_tfidf = tfidf.transform(X_test['clean_text'])"
   ]
  },
  {
   "cell_type": "code",
   "execution_count": 0,
   "metadata": {
    "colab": {},
    "colab_type": "code",
    "id": "uCQ_rk939GN8"
   },
   "outputs": [],
   "source": [
    "tfidf_df = pd.DataFrame(list(combine_dict.items()), columns=['Words', 'IDF Values'])"
   ]
  },
  {
   "cell_type": "code",
   "execution_count": 0,
   "metadata": {
    "colab": {},
    "colab_type": "code",
    "id": "sqEGxwjU9J7c"
   },
   "outputs": [],
   "source": [
    "tfidf_df = tfidf_df.sort_values(by ='IDF Values' )"
   ]
  },
  {
   "cell_type": "code",
   "execution_count": 0,
   "metadata": {
    "colab": {},
    "colab_type": "code",
    "id": "qEzrkdw39N8S"
   },
   "outputs": [],
   "source": [
    "corpus = tfidf_df[\"Words\"].tolist()"
   ]
  },
  {
   "cell_type": "code",
   "execution_count": 0,
   "metadata": {
    "colab": {},
    "colab_type": "code",
    "id": "cc2f27XNSdiI"
   },
   "outputs": [],
   "source": [
    "# convert the sentences (strings) into integers\n",
    "tokenizer = Tokenizer()\n",
    "tokenizer.fit_on_texts(corpus)\n",
    "sequences_train = tokenizer.texts_to_sequences(X_train[\"clean_text\"])\n",
    "sequences_test = tokenizer.texts_to_sequences(X_test[\"clean_text\"])"
   ]
  },
  {
   "cell_type": "code",
   "execution_count": 84,
   "metadata": {
    "colab": {
     "base_uri": "https://localhost:8080/",
     "height": 34
    },
    "colab_type": "code",
    "id": "MJ57Z90rTVfX",
    "outputId": "7fa0a10c-2563-4260-9a42-4fd233b88ff1"
   },
   "outputs": [
    {
     "name": "stdout",
     "output_type": "stream",
     "text": [
      "Found 51720 unique tokens.\n"
     ]
    }
   ],
   "source": [
    "# get word -> integer mapping\n",
    "word2idx = tokenizer.word_index\n",
    "print('Found %s unique tokens.' % len(word2idx))"
   ]
  },
  {
   "cell_type": "code",
   "execution_count": 85,
   "metadata": {
    "colab": {
     "base_uri": "https://localhost:8080/",
     "height": 34
    },
    "colab_type": "code",
    "id": "3EN_4lpTTldT",
    "outputId": "2e14f161-d56f-47f8-84cb-3c1047365483"
   },
   "outputs": [
    {
     "name": "stdout",
     "output_type": "stream",
     "text": [
      "Shape of data tensor: (87398, 300)\n"
     ]
    }
   ],
   "source": [
    "encoded_train = pad_sequences(sequences_train,maxlen=300,padding='post', truncating='post')\n",
    "print('Shape of data tensor:', encoded_train.shape)"
   ]
  },
  {
   "cell_type": "code",
   "execution_count": 86,
   "metadata": {
    "colab": {
     "base_uri": "https://localhost:8080/",
     "height": 34
    },
    "colab_type": "code",
    "id": "6JABIn5eTqlm",
    "outputId": "d73c0e90-85da-4ed1-fc43-4c9d8055b9dd"
   },
   "outputs": [
    {
     "name": "stdout",
     "output_type": "stream",
     "text": [
      "Shape of data tensor: (21850, 300)\n"
     ]
    }
   ],
   "source": [
    "encoded_test = pad_sequences(sequences_test, maxlen=300,padding='post', truncating='post')\n",
    "print('Shape of data tensor:', encoded_test.shape)"
   ]
  },
  {
   "cell_type": "code",
   "execution_count": 0,
   "metadata": {
    "colab": {},
    "colab_type": "code",
    "id": "EAm411ywTva3"
   },
   "outputs": [],
   "source": [
    "# Loading Embedding File\n",
    "\n",
    "pickle_in = open(\"drive/My Drive/Lstm_donor_choose/glove_vectors\",\"rb\")\n",
    "glove_words = pickle.load(pickle_in)"
   ]
  },
  {
   "cell_type": "markdown",
   "metadata": {
    "colab_type": "text",
    "id": "uhG-VdSxrs90"
   },
   "source": [
    "#### Embedding matrix"
   ]
  },
  {
   "cell_type": "code",
   "execution_count": 0,
   "metadata": {
    "colab": {},
    "colab_type": "code",
    "id": "JECq4w56T3u-"
   },
   "outputs": [],
   "source": [
    "num_words = len(word2idx) + 1\n",
    "embedding_matrix = np.zeros((num_words, 300))\n",
    "for word, i in word2idx.items():\n",
    "  if i < 13271:\n",
    "    embedding_vector = glove_words.get(word)\n",
    "    if embedding_vector is not None:\n",
    "      # words not found in embedding index will be all zeros.\n",
    "      embedding_matrix[i] = embedding_vector"
   ]
  },
  {
   "cell_type": "markdown",
   "metadata": {
    "colab_type": "text",
    "id": "LmieQVhasGyl"
   },
   "source": [
    "**Using Bi-directional CUDNNGRU and CUDNNLSTM for esssay feature**"
   ]
  },
  {
   "cell_type": "code",
   "execution_count": 0,
   "metadata": {
    "colab": {},
    "colab_type": "code",
    "id": "heRez750ouSJ"
   },
   "outputs": [],
   "source": [
    "# # from keras.layers import Bidirectional,TimeDistributed,AttLayer, CuDNNGRU, CuDNNLSTM,\n",
    "# from keras.layers import Bidirectional\n",
    "# from keras.layers import TimeDistributed \n",
    "# from keras.layers import CuDNNGRU \n",
    "# from keras.layers import CuDNNLSTM\n",
    "# from keras import initializers, regularizers, constraints\n",
    "# from keras.layers import SpatialDropout1D\n",
    "# import warnings\n",
    "# warnings.filterwarnings(\"ignore\")\n",
    "\n",
    "\n",
    "# embedding_layer = Embedding(num_words,300,weights=[embedding_matrix],input_length=300,trainable=False)\n",
    "# input_text = Input(shape=(300,),name='input_text')\n",
    "# x = embedding_layer(input_text)\n",
    "# x = SpatialDropout1D(0.5)(x)\n",
    "# x = Bidirectional(CuDNNGRU(64, return_sequences=True,kernel_regularizer=regularizers.l2(5e-5),recurrent_regularizer=regularizers.l2(5e-5)))(x)\n",
    "# # x = TimeDistributed(Dense(128))(x)\n",
    "# x = Dropout(0.5)(x)\n",
    "# x = Bidirectional(CuDNNGRU(128, return_sequences=True))(x)\n",
    "# # x = Attention(x)\n",
    "# flatten_1 = Flatten()(x)"
   ]
  },
  {
   "cell_type": "code",
   "execution_count": 0,
   "metadata": {
    "colab": {},
    "colab_type": "code",
    "id": "Sl5ceilljDGP"
   },
   "outputs": [],
   "source": [
    "# X_train.head(2)"
   ]
  },
  {
   "cell_type": "markdown",
   "metadata": {
    "colab_type": "text",
    "id": "7fC52r-Ns1Tb"
   },
   "source": [
    "#### 1.) Teacher Prefix feature"
   ]
  },
  {
   "cell_type": "code",
   "execution_count": 0,
   "metadata": {
    "colab": {
     "base_uri": "https://localhost:8080/",
     "height": 34
    },
    "colab_type": "code",
    "id": "z01g9TVnNQ47",
    "outputId": "a2fccf52-4624-471f-87ea-317a67dae353"
   },
   "outputs": [
    {
     "name": "stdout",
     "output_type": "stream",
     "text": [
      "Unique Categories: 5 Embedding Size: 3\n"
     ]
    }
   ],
   "source": [
    "# Now will prepare all the remaining categorical features\n",
    "# Teacher Prefix\n",
    "no_of_unique_prefix  = X_train[\"teacher_prefix\"].nunique()\n",
    "embedding_size_prefix = int(min(np.ceil((no_of_unique_prefix)/2), 50 ))\n",
    "print('Unique Categories:', no_of_unique_prefix,'Embedding Size:', embedding_size_prefix)\n",
    "\n",
    "\n",
    "# Defining Input and Embedding Layer for the same\n",
    "\n",
    "input_prefix = Input(shape=(1,),name=\"teacher_prefix\")\n",
    "embedding_prefix = Embedding(no_of_unique_prefix,embedding_size_prefix,name=\"emb_pre\",trainable=True)(input_prefix)\n",
    "flatten_2 = Flatten()(embedding_prefix)\n",
    "\n",
    "lb = LabelEncoder()\n",
    "encoder_prefix_train = lb.fit_transform(X_train[\"teacher_prefix\"])\n",
    "# encoder_prefix_cv = lb.transform(X_cv[\"teacher_prefix\"])\n",
    "encoder_prefix_test = lb.transform(X_test[\"teacher_prefix\"])"
   ]
  },
  {
   "cell_type": "markdown",
   "metadata": {
    "colab_type": "text",
    "id": "GaK4ZCpEs6D1"
   },
   "source": [
    "#### 2.) School state feature"
   ]
  },
  {
   "cell_type": "code",
   "execution_count": 0,
   "metadata": {
    "colab": {
     "base_uri": "https://localhost:8080/",
     "height": 34
    },
    "colab_type": "code",
    "id": "xIX1N_iENQH4",
    "outputId": "9a397e35-c1e6-4417-8ad6-4c7f12deda92"
   },
   "outputs": [
    {
     "name": "stdout",
     "output_type": "stream",
     "text": [
      "Unique Categories: 51 Embedding Size: 26\n"
     ]
    }
   ],
   "source": [
    "# School State\n",
    "no_of_unique_state  = X_train[\"school_state\"].nunique()\n",
    "embedding_size_state= int(min(np.ceil((no_of_unique_state)/2), 50 ))\n",
    "print('Unique Categories:', no_of_unique_state,'Embedding Size:', embedding_size_state)\n",
    "\n",
    "input_state = Input(shape=(1,),name=\"school_prefix\")\n",
    "embedding_state = Embedding(no_of_unique_state,embedding_size_state,name=\"emb_state\",trainable=True)(input_state)\n",
    "flatten_3 = Flatten()(embedding_state)\n",
    "\n",
    "\n",
    "encoder_state_train = lb.fit_transform(X_train[\"school_state\"])\n",
    "encoder_state_test = lb.transform(X_test[\"school_state\"])"
   ]
  },
  {
   "cell_type": "markdown",
   "metadata": {
    "colab_type": "text",
    "id": "V5Pw5a3ms9_V"
   },
   "source": [
    "#### 3.)Project Grade category"
   ]
  },
  {
   "cell_type": "code",
   "execution_count": 0,
   "metadata": {
    "colab": {
     "base_uri": "https://localhost:8080/",
     "height": 34
    },
    "colab_type": "code",
    "id": "IVbUaAqrNPr5",
    "outputId": "e6777d3b-40ed-43b2-a281-98ed29b3932f"
   },
   "outputs": [
    {
     "name": "stdout",
     "output_type": "stream",
     "text": [
      "Unique Categories: 4 Embedding Size: 2\n"
     ]
    }
   ],
   "source": [
    "# For project_grade_category\n",
    "no_of_unique_grade  = X_train[\"project_grade_category\"].nunique()\n",
    "embedding_size_grade = int(min(np.ceil((no_of_unique_grade)/2), 50 ))\n",
    "print('Unique Categories:', no_of_unique_grade,'Embedding Size:', embedding_size_grade)\n",
    "\n",
    "input_grade= Input(shape=(1,),name=\"grade_cat\")\n",
    "embedding_grade = Embedding(no_of_unique_grade,embedding_size_grade,name=\"emb_grade\",trainable=True)(input_grade)\n",
    "flatten_4 = Flatten()(embedding_grade)\n",
    "\n",
    "\n",
    "encoder_grade_train = lb.fit_transform(X_train[\"project_grade_category\"])\n",
    "encoder_grade_test = lb.transform(X_test[\"project_grade_category\"])"
   ]
  },
  {
   "cell_type": "markdown",
   "metadata": {
    "colab_type": "text",
    "id": "4uo30_ZWtBy1"
   },
   "source": [
    "### Clean category"
   ]
  },
  {
   "cell_type": "code",
   "execution_count": 0,
   "metadata": {
    "colab": {
     "base_uri": "https://localhost:8080/",
     "height": 34
    },
    "colab_type": "code",
    "id": "JlQhq0lkNPJ4",
    "outputId": "ab95af59-30be-4f49-e254-30139e7579d7"
   },
   "outputs": [
    {
     "name": "stdout",
     "output_type": "stream",
     "text": [
      "Unique Categories: 51 Embedding Size: 26\n"
     ]
    }
   ],
   "source": [
    "# For project_subject_categories\n",
    "no_of_unique_subcat  = X_train[\"clean_categories\"].nunique()\n",
    "embedding_size_subcat = int(min(np.ceil((no_of_unique_subcat)/2), 50 ))\n",
    "print('Unique Categories:', no_of_unique_subcat,'Embedding Size:', embedding_size_subcat)\n",
    "\n",
    "\n",
    "# Defining Input and Embedding Layer for the same\n",
    "\n",
    "input_subcat= Input(shape=(1,),name=\"sub_cat\")\n",
    "embedding_subcat = Embedding(no_of_unique_subcat,embedding_size_subcat,name=\"emb_subcat\",trainable=True)(input_subcat)\n",
    "flatten_5 = Flatten()(embedding_subcat)\n",
    "\n",
    "\n",
    "le = LabelEncoder()\n",
    "le.fit(X_train[\"clean_categories\"])\n",
    "X_test[\"clean_categories\"] = X_test[\"clean_categories\"].map(lambda s: '<unknown>' if s not in le.classes_ else s)\n",
    "le.classes_ = np.append(le.classes_, '<unknown>')\n",
    "encoder_subcat_train = le.transform(X_train[\"clean_categories\"])\n",
    "encoder_subcat_test= le.transform(X_test[\"clean_categories\"])"
   ]
  },
  {
   "cell_type": "markdown",
   "metadata": {
    "colab_type": "text",
    "id": "lipqEgPVtFwe"
   },
   "source": [
    "### Clean sub category"
   ]
  },
  {
   "cell_type": "code",
   "execution_count": 0,
   "metadata": {
    "colab": {
     "base_uri": "https://localhost:8080/",
     "height": 34
    },
    "colab_type": "code",
    "id": "2fcAVAGnNMq3",
    "outputId": "94401822-f6b9-418c-bb90-3220d59773ee"
   },
   "outputs": [
    {
     "name": "stdout",
     "output_type": "stream",
     "text": [
      "Unique Categories: 398 Embedding Size: 50\n"
     ]
    }
   ],
   "source": [
    "# For project_subject_subcategories\n",
    "no_of_unique_subcat_1  = X_train[\"clean_subcategories\"].nunique()\n",
    "embedding_size_subcat_1 = int(min(np.ceil((no_of_unique_subcat_1)/2), 50 ))\n",
    "print('Unique Categories:', no_of_unique_subcat_1,'Embedding Size:', embedding_size_subcat_1)\n",
    "\n",
    "# Defining Input and Embedding Layer for the same\n",
    "\n",
    "input_subcat_1= Input(shape=(1,),name=\"sub_cat_1\")\n",
    "embedding_subcat_1 = Embedding(no_of_unique_subcat_1,embedding_size_subcat_1,name=\"emb_subcat_1\",trainable=True)(input_subcat_1)\n",
    "flatten_6 = Flatten()(embedding_subcat_1)\n",
    "\n",
    "\n",
    "le = LabelEncoder()\n",
    "le.fit(X_train[\"clean_subcategories\"])\n",
    "X_test[\"clean_subcategories\"] = X_test[\"clean_subcategories\"].map(lambda s: '<unknown>' if s not in le.classes_ else s)\n",
    "# X_cv[\"project_subject_subcategories\"] = X_cv[\"project_subject_subcategories\"].map(lambda s: '<unknown>' if s not in le.classes_ else s)\n",
    "le.classes_ = np.append(le.classes_, '<unknown>')\n",
    "encoder_subcat_1_train = le.transform(X_train[\"clean_subcategories\"])\n",
    "encoder_subcat_1_test= le.transform(X_test[\"clean_subcategories\"])\n",
    "# encoder_subcat_1_cv = le.transform(X_cv[\"project_subject_subcategories\"])"
   ]
  },
  {
   "cell_type": "markdown",
   "metadata": {
    "colab_type": "text",
    "id": "n4LWxp3gtJ4g"
   },
   "source": [
    "### Numerical feature"
   ]
  },
  {
   "cell_type": "markdown",
   "metadata": {
    "colab_type": "text",
    "id": "XxQKzZqctO-d"
   },
   "source": [
    "**Tried with extra time based feature result was approx same so neglected time based feature**"
   ]
  },
  {
   "cell_type": "code",
   "execution_count": 0,
   "metadata": {
    "colab": {},
    "colab_type": "code",
    "id": "oQBj37ICUreV"
   },
   "outputs": [],
   "source": [
    "num_train_1=X_train['project_summary_numerical'].values.reshape(-1, 1)\n",
    "num_train_2=X_train['price'].values.reshape(-1, 1)\n",
    "num_train_3=X_train['quantity'].values.reshape(-1, 1)\n",
    "num_train_4=X_train['teacher_number_of_previously_posted_projects'].values.reshape(-1, 1)\n",
    "# num_train_5=X_train['month'].values.reshape(-1,1) \n",
    "# num_train_6=X_train['month_Day'].values.reshape(-1,1)\n",
    "# num_train_7=X_train['weekday'].values.reshape(-1,1)\n",
    "# num_train_8=X_train['hour'].values.reshape(-1,1) \n",
    "\n",
    "\n",
    "num_test_1=X_test['project_summary_numerical'].values.reshape(-1, 1)\n",
    "num_test_2=X_test['price'].values.reshape(-1, 1)\n",
    "num_test_3=X_test['quantity'].values.reshape(-1, 1)\n",
    "num_test_4=X_test['teacher_number_of_previously_posted_projects'].values.reshape(-1, 1)\n",
    "# num_test_5=X_test['month'].values.reshape(-1,1) \n",
    "# num_test_6=X_test['month_Day'].values.reshape(-1,1)\n",
    "# num_test_7=X_test['weekday'].values.reshape(-1,1)\n",
    "# num_test_8=X_test['hour'].values.reshape(-1,1)\n",
    "\n",
    "num_train=np.concatenate((num_train_1,num_train_2,num_train_3,num_train_4),axis=1)\n",
    "\n",
    "num_test=np.concatenate((num_test_1,num_test_2,num_test_3,num_test_4),axis=1)\n"
   ]
  },
  {
   "cell_type": "markdown",
   "metadata": {
    "colab_type": "text",
    "id": "phmCP50HtZhp"
   },
   "source": [
    "**Standarize our numerical data**"
   ]
  },
  {
   "cell_type": "code",
   "execution_count": 0,
   "metadata": {
    "colab": {},
    "colab_type": "code",
    "id": "e7zhbrF-UuJw"
   },
   "outputs": [],
   "source": [
    "from sklearn.preprocessing import StandardScaler\n",
    "norm=StandardScaler()\n",
    "norm_train=norm.fit_transform(num_train)\n",
    "norm_test=norm.transform(num_test)"
   ]
  },
  {
   "cell_type": "markdown",
   "metadata": {
    "colab_type": "text",
    "id": "CzhKHg6EtgFY"
   },
   "source": [
    "### Defining Input and embedding layer for numerical data"
   ]
  },
  {
   "cell_type": "code",
   "execution_count": 0,
   "metadata": {
    "colab": {},
    "colab_type": "code",
    "id": "V6ZT1qb9UvMc"
   },
   "outputs": [],
   "source": [
    "# Defining the Input and Embedding Layer for the same\n",
    "\n",
    "num_feats = Input(shape=(4,),name=\"numerical_features\")\n",
    "num_feats_ = Dense(1000,activation=\"relu\",kernel_initializer=\"he_normal\")(num_feats)"
   ]
  },
  {
   "cell_type": "markdown",
   "metadata": {
    "colab_type": "text",
    "id": "EAjK-fzgtlte"
   },
   "source": [
    "### Concatinating our all feature last layer to single layer"
   ]
  },
  {
   "cell_type": "code",
   "execution_count": 0,
   "metadata": {
    "colab": {},
    "colab_type": "code",
    "id": "qdr01YfxUyFo"
   },
   "outputs": [],
   "source": [
    "x_concatenate = concatenate([flatten_1,flatten_2,flatten_3,flatten_4,flatten_5,flatten_6,num_feats_])\n",
    "x_concatenate = BatchNormalization()(x_concatenate)\n",
    "x = Dense(128,activation=\"relu\", kernel_initializer=\"he_normal\",kernel_regularizer=regularizers.l2(0.001))(x_concatenate)\n",
    "# x=LeakyReLU(alpha=0.3)(x)\n",
    "x = Dropout(0.5)(x)\n",
    "x = Dense(256,activation=\"relu\",kernel_initializer=\"he_normal\",kernel_regularizer=regularizers.l2(0.001))(x)\n",
    "# x=LeakyReLU(alpha=0.3)(x)\n",
    "x = Dropout(0.5)(x)\n",
    "x = Dense(64,activation=\"relu\", kernel_initializer=\"he_normal\",kernel_regularizer=regularizers.l2(0.001))(x)\n",
    "x = BatchNormalization()(x)\n",
    "# x=LeakyReLU(alpha=0.3)(x)\n",
    "output = Dense(2, activation='softmax', name='output')(x)\n",
    "model = Model(inputs=[input_text,input_prefix,input_state,input_grade,\n",
    "                        input_subcat,input_subcat_1,num_feats],outputs=[output])"
   ]
  },
  {
   "cell_type": "markdown",
   "metadata": {
    "colab_type": "text",
    "id": "k1kG70F8tunc"
   },
   "source": [
    "**Defining train and test data for simplification**"
   ]
  },
  {
   "cell_type": "code",
   "execution_count": 0,
   "metadata": {
    "colab": {},
    "colab_type": "code",
    "id": "c3Pjh-sYU8Ft"
   },
   "outputs": [],
   "source": [
    "train = [encoded_train,encoder_prefix_train,encoder_state_train,\n",
    "              encoder_grade_train,encoder_subcat_train,encoder_subcat_1_train,norm_train]\n",
    "test = [encoded_test,encoder_prefix_test,encoder_state_test,encoder_grade_test,\n",
    "             encoder_subcat_test,encoder_subcat_1_test,norm_test]\n",
    "\n",
    "from keras.utils import np_utils\n",
    "Y_train = np_utils.to_categorical(y_train, 2) \n",
    "Y_test = np_utils.to_categorical(y_test, 2)"
   ]
  },
  {
   "cell_type": "markdown",
   "metadata": {
    "colab_type": "text",
    "id": "z5EKjqQJt7Pp"
   },
   "source": [
    "<h3><b>Using keras callbacks for monitoring our model performance<b></h3>\n",
    "  \n",
    "1. Checkpoint for saving best model\n",
    "2. Earlystopping for stoping training of model if there is no change in val loss\n",
    "3. ReduceROnPlateau for tracking learning rate if there is no change in val loss we reduce the learning rate "
   ]
  },
  {
   "cell_type": "code",
   "execution_count": 0,
   "metadata": {
    "colab": {},
    "colab_type": "code",
    "id": "BK8AjOuzVFPB"
   },
   "outputs": [],
   "source": [
    "from keras.callbacks import EarlyStopping\n",
    "\n",
    "checkpoint = ModelCheckpoint(\"model.h5\",\n",
    "                             monitor=\"val_loss\",\n",
    "                             mode=\"min\",\n",
    "                             save_best_only = True,\n",
    "                             verbose=1)\n",
    "\n",
    "earlystop = EarlyStopping(monitor = 'val_loss', \n",
    "                            mode=\"min\",\n",
    "                            min_delta = 0, \n",
    "                            patience = 5,\n",
    "                            verbose = 1,\n",
    "                            restore_best_weights = True)\n",
    "\n",
    "reduce_lr = ReduceLROnPlateau(monitor = 'val_loss', factor = 0.2, patience = 2, verbose = 1, min_delta = 0.0001)\n",
    "\n",
    "#combining in single so that we will pass callbacks in model.fit\n",
    "callbacks = [checkpoint,earlystop,reduce_lr]"
   ]
  },
  {
   "cell_type": "markdown",
   "metadata": {
    "colab_type": "text",
    "id": "hb7G0jjQuolr"
   },
   "source": [
    "### Defining our own roc_auc_score "
   ]
  },
  {
   "cell_type": "markdown",
   "metadata": {
    "colab_type": "text",
    "id": "L3P7Ip2sutdD"
   },
   "source": [
    "**We can define own function for auc score or else after training the model we can use sklearn auc to calculate auc but defining function is a feasible way of doing**"
   ]
  },
  {
   "cell_type": "code",
   "execution_count": 0,
   "metadata": {
    "colab": {},
    "colab_type": "code",
    "id": "0br3eI2xVP3N"
   },
   "outputs": [],
   "source": [
    "# Defining Custom ROC-AUC Metrics\n",
    "from sklearn.metrics import roc_auc_score\n",
    "\n",
    "def auc(y_true, y_pred):\n",
    "    if len(np.unique(y_true[:,1])) == 1:\n",
    "        return 0.5\n",
    "    else:\n",
    "        return roc_auc_score(y_true, y_pred)\n",
    "\n",
    "def auroc(y_true, y_pred):\n",
    "    return tf.py_func(auc, (y_true, y_pred), tf.double)"
   ]
  },
  {
   "cell_type": "markdown",
   "metadata": {
    "colab_type": "text",
    "id": "jTF_V2aJu7bP"
   },
   "source": [
    "**We will be using adam optimizer for model training since it best for model**"
   ]
  },
  {
   "cell_type": "code",
   "execution_count": 0,
   "metadata": {
    "colab": {},
    "colab_type": "code",
    "id": "MI-lDkoYVSj8"
   },
   "outputs": [],
   "source": [
    "adam = Adam(lr=0.001, beta_1=0.9, beta_2=0.999, epsilon=None, decay=0.0, amsgrad=False)"
   ]
  },
  {
   "cell_type": "markdown",
   "metadata": {
    "colab_type": "text",
    "id": "6tgvy8Eov9wn"
   },
   "source": [
    "**Before training our model we need to compile our model why? bcoz it lets model to know what are the parameter we will be using**"
   ]
  },
  {
   "cell_type": "code",
   "execution_count": 0,
   "metadata": {
    "colab": {},
    "colab_type": "code",
    "id": "4QpIcVsiVzVz"
   },
   "outputs": [],
   "source": [
    "model.compile(optimizer=adam, loss='categorical_crossentropy', metrics=[auroc])"
   ]
  },
  {
   "cell_type": "markdown",
   "metadata": {
    "colab_type": "text",
    "id": "kWLv5W-FwOVG"
   },
   "source": [
    "### Training our model "
   ]
  },
  {
   "cell_type": "code",
   "execution_count": 65,
   "metadata": {
    "colab": {
     "base_uri": "https://localhost:8080/",
     "height": 1000
    },
    "colab_type": "code",
    "id": "4vAIPajGWbr3",
    "outputId": "7062a061-7bee-432a-c668-d2f741e7a7c7"
   },
   "outputs": [
    {
     "name": "stderr",
     "output_type": "stream",
     "text": [
      "W0905 05:51:36.580876 139860482680704 deprecation.py:323] From /usr/local/lib/python3.6/dist-packages/tensorflow/python/ops/math_grad.py:1250: add_dispatch_support.<locals>.wrapper (from tensorflow.python.ops.array_ops) is deprecated and will be removed in a future version.\n",
      "Instructions for updating:\n",
      "Use tf.where in 2.0, which has the same broadcast rule as np.where\n"
     ]
    },
    {
     "name": "stdout",
     "output_type": "stream",
     "text": [
      "Train on 87398 samples, validate on 21850 samples\n",
      "Epoch 1/30\n",
      "87398/87398 [==============================] - 52s 600us/step - loss: 1.3141 - auroc: 0.5327 - val_loss: 0.8864 - val_auroc: 0.6072\n",
      "\n",
      "Epoch 00001: val_loss improved from inf to 0.88645, saving model to model.h5\n",
      "Epoch 2/30\n",
      "87398/87398 [==============================] - 48s 551us/step - loss: 0.7387 - auroc: 0.6578 - val_loss: 0.6300 - val_auroc: 0.7304\n",
      "\n",
      "Epoch 00002: val_loss improved from 0.88645 to 0.63002, saving model to model.h5\n",
      "Epoch 3/30\n",
      "87398/87398 [==============================] - 48s 550us/step - loss: 0.5752 - auroc: 0.7266 - val_loss: 0.5339 - val_auroc: 0.7502\n",
      "\n",
      "Epoch 00003: val_loss improved from 0.63002 to 0.53393, saving model to model.h5\n",
      "Epoch 4/30\n",
      "87398/87398 [==============================] - 48s 552us/step - loss: 0.5131 - auroc: 0.7428 - val_loss: 0.5047 - val_auroc: 0.7553\n",
      "\n",
      "Epoch 00004: val_loss improved from 0.53393 to 0.50467, saving model to model.h5\n",
      "Epoch 5/30\n",
      "87398/87398 [==============================] - 48s 552us/step - loss: 0.4867 - auroc: 0.7486 - val_loss: 0.4750 - val_auroc: 0.7620\n",
      "\n",
      "Epoch 00005: val_loss improved from 0.50467 to 0.47497, saving model to model.h5\n",
      "Epoch 6/30\n",
      "87398/87398 [==============================] - 48s 552us/step - loss: 0.4781 - auroc: 0.7560 - val_loss: 0.4782 - val_auroc: 0.7600\n",
      "\n",
      "Epoch 00006: val_loss did not improve from 0.47497\n",
      "Epoch 7/30\n",
      "87398/87398 [==============================] - 48s 550us/step - loss: 0.4770 - auroc: 0.7574 - val_loss: 0.4658 - val_auroc: 0.7635\n",
      "\n",
      "Epoch 00007: val_loss improved from 0.47497 to 0.46584, saving model to model.h5\n",
      "Epoch 8/30\n",
      "87398/87398 [==============================] - 48s 551us/step - loss: 0.4746 - auroc: 0.7626 - val_loss: 0.4817 - val_auroc: 0.7656\n",
      "\n",
      "Epoch 00008: val_loss did not improve from 0.46584\n",
      "Epoch 9/30\n",
      "87398/87398 [==============================] - 48s 551us/step - loss: 0.4740 - auroc: 0.7633 - val_loss: 0.4692 - val_auroc: 0.7685\n",
      "\n",
      "Epoch 00009: val_loss did not improve from 0.46584\n",
      "\n",
      "Epoch 00009: ReduceLROnPlateau reducing learning rate to 0.00020000000949949026.\n",
      "Epoch 10/30\n",
      "87398/87398 [==============================] - 48s 551us/step - loss: 0.4262 - auroc: 0.7772 - val_loss: 0.4186 - val_auroc: 0.7721\n",
      "\n",
      "Epoch 00010: val_loss improved from 0.46584 to 0.41855, saving model to model.h5\n",
      "Epoch 11/30\n",
      "87398/87398 [==============================] - 48s 553us/step - loss: 0.4098 - auroc: 0.7822 - val_loss: 0.4189 - val_auroc: 0.7726\n",
      "\n",
      "Epoch 00011: val_loss did not improve from 0.41855\n",
      "Epoch 12/30\n",
      "87398/87398 [==============================] - 48s 552us/step - loss: 0.4133 - auroc: 0.7838 - val_loss: 0.4222 - val_auroc: 0.7714\n",
      "\n",
      "Epoch 00012: val_loss did not improve from 0.41855\n",
      "\n",
      "Epoch 00012: ReduceLROnPlateau reducing learning rate to 4.0000001899898055e-05.\n",
      "Epoch 13/30\n",
      "87398/87398 [==============================] - 48s 552us/step - loss: 0.4009 - auroc: 0.7932 - val_loss: 0.4097 - val_auroc: 0.7738\n",
      "\n",
      "Epoch 00013: val_loss improved from 0.41855 to 0.40969, saving model to model.h5\n",
      "Epoch 14/30\n",
      "87398/87398 [==============================] - 48s 552us/step - loss: 0.3914 - auroc: 0.7954 - val_loss: 0.4042 - val_auroc: 0.7733\n",
      "\n",
      "Epoch 00014: val_loss improved from 0.40969 to 0.40424, saving model to model.h5\n",
      "Epoch 15/30\n",
      "87398/87398 [==============================] - 48s 551us/step - loss: 0.3852 - auroc: 0.7977 - val_loss: 0.4018 - val_auroc: 0.7728\n",
      "\n",
      "Epoch 00015: val_loss improved from 0.40424 to 0.40181, saving model to model.h5\n",
      "Epoch 16/30\n",
      "87398/87398 [==============================] - 48s 552us/step - loss: 0.3824 - auroc: 0.8002 - val_loss: 0.4023 - val_auroc: 0.7721\n",
      "\n",
      "Epoch 00016: val_loss did not improve from 0.40181\n",
      "Epoch 17/30\n",
      "87398/87398 [==============================] - 48s 551us/step - loss: 0.3791 - auroc: 0.8039 - val_loss: 0.4018 - val_auroc: 0.7716\n",
      "\n",
      "Epoch 00017: val_loss did not improve from 0.40181\n",
      "\n",
      "Epoch 00017: ReduceLROnPlateau reducing learning rate to 8.000000525498762e-06.\n",
      "Epoch 18/30\n",
      "87398/87398 [==============================] - 48s 552us/step - loss: 0.3755 - auroc: 0.8076 - val_loss: 0.4022 - val_auroc: 0.7723\n",
      "\n",
      "Epoch 00018: val_loss did not improve from 0.40181\n",
      "Epoch 19/30\n",
      "87398/87398 [==============================] - 48s 551us/step - loss: 0.3724 - auroc: 0.8120 - val_loss: 0.4019 - val_auroc: 0.7718\n",
      "\n",
      "Epoch 00019: val_loss did not improve from 0.40181\n",
      "\n",
      "Epoch 00019: ReduceLROnPlateau reducing learning rate to 1.6000001778593287e-06.\n",
      "Epoch 20/30\n",
      "87398/87398 [==============================] - 48s 552us/step - loss: 0.3716 - auroc: 0.8113 - val_loss: 0.4027 - val_auroc: 0.7718\n",
      "\n",
      "Epoch 00020: val_loss did not improve from 0.40181\n",
      "Restoring model weights from the end of the best epoch\n",
      "Epoch 00020: early stopping\n"
     ]
    }
   ],
   "source": [
    "history = model.fit(train,Y_train,batch_size=512,\n",
    "                        epochs=30,validation_data=(test,Y_test),callbacks=callbacks)"
   ]
  },
  {
   "cell_type": "code",
   "execution_count": 66,
   "metadata": {
    "colab": {
     "base_uri": "https://localhost:8080/",
     "height": 50
    },
    "colab_type": "code",
    "id": "of2Fq723QvQC",
    "outputId": "38b18fb1-6ca0-4735-e9d0-06bb348e785d"
   },
   "outputs": [
    {
     "name": "stdout",
     "output_type": "stream",
     "text": [
      "21850/21850 [==============================] - 4s 202us/step\n"
     ]
    },
    {
     "data": {
      "text/plain": [
       "[0.40180653624731016, 0.772778339217476]"
      ]
     },
     "execution_count": 66,
     "metadata": {
      "tags": []
     },
     "output_type": "execute_result"
    }
   ],
   "source": [
    "score = model.evaluate(test,Y_test,batch_size=512)\n",
    "score"
   ]
  },
  {
   "cell_type": "markdown",
   "metadata": {
    "colab_type": "text",
    "id": "OIIO55SQwVx4"
   },
   "source": [
    "### Plot"
   ]
  },
  {
   "cell_type": "code",
   "execution_count": 67,
   "metadata": {
    "colab": {
     "base_uri": "https://localhost:8080/",
     "height": 531
    },
    "colab_type": "code",
    "id": "98ftIg7Lwf0r",
    "outputId": "6947d229-f88a-4681-934f-3fe4a1d415d7"
   },
   "outputs": [
    {
     "data": {
      "image/png": "[encoded data removed]",
      "text/plain": [
       "<Figure size 432x288 with 1 Axes>"
      ]
     },
     "metadata": {
      "tags": []
     },
     "output_type": "display_data"
    },
    {
     "data": {
      "image/png": "[encoded data removed]",
      "text/plain": [
       "<Figure size 432x288 with 1 Axes>"
      ]
     },
     "metadata": {
      "tags": []
     },
     "output_type": "display_data"
    }
   ],
   "source": [
    "sns.set()\n",
    "plt.plot(history.history['auroc'], 'r')\n",
    "plt.plot(history.history['val_auroc'], 'b')\n",
    "plt.legend({'Train ROCAUC': 'r', 'Test ROCAUC':'b'})\n",
    "plt.show()\n",
    "\n",
    "\n",
    "plt.plot(history.history['loss'], 'r')\n",
    "plt.plot(history.history['val_loss'], 'b')\n",
    "plt.legend({'Train Loss': 'r', 'Test Loss':'b'})\n",
    "plt.show()"
   ]
  },
  {
   "cell_type": "markdown",
   "metadata": {
    "colab_type": "text",
    "id": "am2z3kJLrR54"
   },
   "source": [
    "# Conclusion"
   ]
  },
  {
   "cell_type": "markdown",
   "metadata": {
    "colab_type": "text",
    "id": "vJ0fmPFNCuFV"
   },
   "source": [
    "1. First tried with simple model or baseline model got auc of 0.50 which is bad.\n",
    "2. Tried regularizer like dropout and BatchNormalization got auc more then 0.50 i.e around 0.70.\n",
    "3. Tried various featurization technique auc was approx same in every featurization.\n",
    "4. Using Bi-directional and LSTM achieved more auc then 0.70 i.e around 0.76\n",
    "5. Tried adding more features like time based, word count, text length, sentiment polarity but auc was aprrox same.\n",
    "6. Tried different NLP technique like Topic modeling got auc of 0.7751\n",
    "7. Best model was featurization and extra feature of topic modeling."
   ]
  },
  {
   "cell_type": "code",
   "execution_count": 1,
   "metadata": {
    "colab": {
     "base_uri": "https://localhost:8080/",
     "height": 151
    },
    "colab_type": "code",
    "id": "GKiGGAApC7qc",
    "outputId": "772e3e67-1cb3-43db-c166-7ad883f27649"
   },
   "outputs": [
    {
     "name": "stdout",
     "output_type": "stream",
     "text": [
      "+-----------------------------------------------------------+--------+\n",
      "|                     Model with feature                    |  AUC   |\n",
      "+-----------------------------------------------------------+--------+\n",
      "|                 Mode with countvectorizer                 |  0.76  |\n",
      "|               Model essay feature using LSTM              |  0.76  |\n",
      "|     Model essay feature using Bi-directional lstm/Gru     |  0.77  |\n",
      "|               Model with convolutional layer              |  0.77  |\n",
      "| Model essay feature with topic modeling as essay feature  | 0.7751 |\n",
      "+-----------------------------------------------------------+--------+\n"
     ]
    }
   ],
   "source": [
    "from prettytable import PrettyTable\n",
    "\n",
    "x = PrettyTable()\n",
    "x.field_names = ['Model with feature','AUC']\n",
    "x.add_row(['Mode with countvectorizer','0.76'])\n",
    "x.add_row(['Model essay feature using LSTM','0.76'])\n",
    "x.add_row(['Model essay feature using Bi-directional lstm/Gru ','0.77'])\n",
    "x.add_row(['Model with convolutional layer','0.77'])\n",
    "x.add_row(['Model essay feature with topic modeling as essay feature ','0.7751'])\n",
    "\n",
    "print(x)"
   ]
  },
  {
   "cell_type": "markdown",
   "metadata": {
    "colab_type": "text",
    "id": "LFCVsiCyCuFY"
   },
   "source": [
    "1. Importing package and loading the data<br>\n",
    "2. Performing EDA to get insgihts of data<br>\n",
    "3. Pre-processing the data and cleaning the data<br>\n",
    "4. Using featurization to convert text data into numerical form<br>\n",
    "5. Defining embedding matrix and input-output for all feature<br>\n",
    "6. Concatinating last layer of every feature to a single layer<br>\n",
    "7. Compile and training deep learning model i.e Keras<br>\n",
    "8. Tried with different hyperparameter tuning like dropout,BatchNormalization<br>\n",
    "9. Final step Conclusion<br>"
   ]
  }
 ],
 "metadata": {
  "accelerator": "GPU",
  "colab": {
   "collapsed_sections": [],
   "name": "Lstm_donor_choose_model2.ipynb",
   "provenance": [],
   "version": "0.3.2"
  },
  "kernelspec": {
   "display_name": "Python 3",
   "language": "python",
   "name": "python3"
  },
  "language_info": {
   "codemirror_mode": {
    "name": "ipython",
    "version": 3
   },
   "file_extension": ".py",
   "mimetype": "text/x-python",
   "name": "python",
   "nbconvert_exporter": "python",
   "pygments_lexer": "ipython3",
   "version": "3.6.8"
  }
 },
 "nbformat": 4,
 "nbformat_minor": 1
}
