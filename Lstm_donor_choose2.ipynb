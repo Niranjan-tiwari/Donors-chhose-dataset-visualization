{
 "cells": [
  {
   "cell_type": "code",
   "execution_count": 1,
   "metadata": {
    "colab": {
     "base_uri": "https://localhost:8080/",
     "height": 34
    },
    "colab_type": "code",
    "id": "__NukAYoi7dO",
    "outputId": "4605d679-eff5-416a-ab5d-279314c567cb"
   },
   "outputs": [
    {
     "name": "stdout",
     "output_type": "stream",
     "text": [
      "Drive already mounted at /content/drive; to attempt to forcibly remount, call drive.mount(\"/content/drive\", force_remount=True).\n"
     ]
    }
   ],
   "source": [
    "from google.colab import drive\n",
    "drive.mount('/content/drive')"
   ]
  },
  {
   "cell_type": "markdown",
   "metadata": {
    "colab_type": "text",
    "id": "KDmz3fIlhV74"
   },
   "source": [
    "# Importing prequiste package for case study"
   ]
  },
  {
   "cell_type": "code",
   "execution_count": 2,
   "metadata": {
    "colab": {
     "base_uri": "https://localhost:8080/",
     "height": 34
    },
    "colab_type": "code",
    "id": "Lf6WdgPF2BEt",
    "outputId": "363b1fff-377b-4038-b2dc-3aa64ee18ec9"
   },
   "outputs": [
    {
     "name": "stderr",
     "output_type": "stream",
     "text": [
      "Using TensorFlow backend.\n"
     ]
    }
   ],
   "source": [
    "# importing required libraries\n",
    "import warnings\n",
    "warnings.filterwarnings(\"ignore\")\n",
    "import pandas as pd\n",
    "import numpy as np\n",
    "from keras.layers import Input, Embedding, LSTM, Dropout, BatchNormalization, Dense, concatenate, Flatten, Conv1D, MaxPool1D, LeakyReLU, ELU, SpatialDropout1D, MaxPooling1D, GlobalAveragePooling1D, GlobalMaxPooling1D\n",
    "from keras.preprocessing.text import Tokenizer, one_hot\n",
    "from keras.preprocessing.sequence import pad_sequences\n",
    "from keras.models import Model, load_model\n",
    "from keras import regularizers\n",
    "from keras.optimizers import *\n",
    "from keras.callbacks import ModelCheckpoint, EarlyStopping, TensorBoard, ReduceLROnPlateau\n",
    "from sklearn.feature_extraction.text import TfidfVectorizer, CountVectorizer\n",
    "from sklearn.metrics import roc_auc_score\n",
    "import tensorflow as tf\n",
    "import matplotlib.pyplot as plt\n",
    "%matplotlib inline\n",
    "import re\n",
    "from tqdm import tqdm\n",
    "from sklearn.preprocessing import LabelEncoder\n",
    "import seaborn as sns\n",
    "import pickle"
   ]
  },
  {
   "cell_type": "markdown",
   "metadata": {
    "colab_type": "text",
    "id": "Dd3vRzEXhcly"
   },
   "source": [
    "### Pre-processing steps"
   ]
  },
  {
   "cell_type": "code",
   "execution_count": 0,
   "metadata": {
    "colab": {},
    "colab_type": "code",
    "id": "7jMmPn3J2SfJ"
   },
   "outputs": [],
   "source": [
    "# We clean the essay text data\n",
    "# For this task, we have defined some helper functions\n",
    "# The same function and code snippet will be used to clean project title\n",
    "# https://stackoverflow.com/a/47091490/4084039\n",
    "\n",
    "def decontracted(phrase):\n",
    "    # specific\n",
    "    phrase = re.sub(r\"won't\", \"will not\", phrase)\n",
    "    phrase = re.sub(r\"can\\'t\", \"can not\", phrase)\n",
    "\n",
    "    # general\n",
    "    phrase = re.sub(r\"n\\'t\", \" not\", phrase)\n",
    "    phrase = re.sub(r\"\\'re\", \" are\", phrase)\n",
    "    phrase = re.sub(r\"\\'s\", \" is\", phrase)\n",
    "    phrase = re.sub(r\"\\'d\", \" would\", phrase)\n",
    "    phrase = re.sub(r\"\\'ll\", \" will\", phrase)\n",
    "    phrase = re.sub(r\"\\'t\", \" not\", phrase)\n",
    "    phrase = re.sub(r\"\\'ve\", \" have\", phrase)\n",
    "    phrase = re.sub(r\"\\'m\", \" am\", phrase)\n",
    "    return phrase\n",
    "\n",
    "# https://gist.github.com/sebleier/554280\n",
    "\n",
    "stopwords= ['i', 'me', 'my', 'myself', 'we', 'our', 'ours', 'ourselves', 'you', \"you're\", \"you've\",\\\n",
    "            \"you'll\", \"you'd\", 'your', 'yours', 'yourself', 'yourselves', 'he', 'him', 'his', 'himself', \\\n",
    "            'she', \"she's\", 'her', 'hers', 'herself', 'it', \"it's\", 'its', 'itself', 'they', 'them', 'their',\\\n",
    "            'theirs', 'themselves', 'what', 'which', 'who', 'whom', 'this', 'that', \"that'll\", 'these', 'those', \\\n",
    "            'am', 'is', 'are', 'was', 'were', 'be', 'been', 'being', 'have', 'has', 'had', 'having', 'do', 'does', \\\n",
    "            'did', 'doing', 'a', 'an', 'the', 'and', 'but', 'if', 'or', 'because', 'as', 'until', 'while', 'of', \\\n",
    "            'at', 'by', 'for', 'with', 'about', 'against', 'between', 'into', 'through', 'during', 'before', 'after',\\\n",
    "            'above', 'below', 'to', 'from', 'up', 'down', 'in', 'out', 'on', 'off', 'over', 'under', 'again', 'further',\\\n",
    "            'then', 'once', 'here', 'there', 'when', 'where', 'why', 'how', 'all', 'any', 'both', 'each', 'few', 'more',\\\n",
    "            'most', 'other', 'some', 'such', 'only', 'own', 'same', 'so', 'than', 'too', 'very', \\\n",
    "            's', 't', 'can', 'will', 'just', 'don', \"don't\", 'should', \"should've\", 'now', 'd', 'll', 'm', 'o', 're', \\\n",
    "            've', 'y', 'ain', 'aren', \"aren't\", 'couldn', \"couldn't\", 'didn', \"didn't\", 'doesn', \"doesn't\", 'hadn',\\\n",
    "            \"hadn't\", 'hasn', \"hasn't\", 'haven', \"haven't\", 'isn', \"isn't\", 'ma', 'mightn', \"mightn't\", 'mustn',\\\n",
    "            \"mustn't\", 'needn', \"needn't\", 'shan', \"shan't\", 'shouldn', \"shouldn't\", 'wasn', \"wasn't\", 'weren', \"weren't\", \\\n",
    "            'won', \"won't\", 'wouldn', \"wouldn't\"]"
   ]
  },
  {
   "cell_type": "code",
   "execution_count": 0,
   "metadata": {
    "colab": {
     "base_uri": "https://localhost:8080/",
     "height": 34
    },
    "colab_type": "code",
    "id": "2EVJ0roL25m8",
    "outputId": "f87b562c-43a2-421c-e0b2-ab0d3f010936"
   },
   "outputs": [
    {
     "name": "stderr",
     "output_type": "stream",
     "text": [
      "100%|██████████| 109248/109248 [01:00<00:00, 1818.57it/s]\n"
     ]
    }
   ],
   "source": [
    "# Cleaning Text feature\n",
    "preprocessed_text = []\n",
    "# tqdm is for printing the status bar\n",
    "for sentance in tqdm(project_data['text'].values):\n",
    "    sent = decontracted(sentance)\n",
    "    sent = sent.replace('\\\\r', ' ')\n",
    "    sent = sent.replace('\\\\\"', ' ')\n",
    "    sent = sent.replace('\\\\n', ' ')\n",
    "    sent = re.sub('[^A-Za-z0-9]+', ' ', sent)\n",
    "    # https://gist.github.com/sebleier/554280\n",
    "    sent = ' '.join(e for e in sent.split() if e not in stopwords)\n",
    "    preprocessed_text.append(sent.lower().strip())"
   ]
  },
  {
   "cell_type": "code",
   "execution_count": 0,
   "metadata": {
    "colab": {},
    "colab_type": "code",
    "id": "U17OhDeb7_Ef"
   },
   "outputs": [],
   "source": [
    "project_data[\"clean_text\"] = preprocessed_text"
   ]
  },
  {
   "cell_type": "code",
   "execution_count": 0,
   "metadata": {
    "colab": {},
    "colab_type": "code",
    "id": "9fAjL07B8BAN"
   },
   "outputs": [],
   "source": [
    "project_data = project_data.drop(['Unnamed: 0', 'id', 'teacher_id',\n",
    "                                  'project_submitted_datetime','text'],axis=1)"
   ]
  },
  {
   "cell_type": "code",
   "execution_count": 0,
   "metadata": {
    "colab": {},
    "colab_type": "code",
    "id": "1qm33b-g8Dfk"
   },
   "outputs": [],
   "source": [
    "# we have categorical features also, will do cleaning one by one\n",
    "\n",
    "# https://stackoverflow.com/questions/36383821/pandas-dataframe-apply-function-to-column-strings-based-on-other-column-value\n",
    "project_data['project_grade_category'] = project_data['project_grade_category'].str.replace(' ','_')\n",
    "project_data['project_grade_category'] = project_data['project_grade_category'].str.replace('-','_')\n",
    "project_data['project_grade_category'] = project_data['project_grade_category'].str.lower()\n",
    "\n",
    "\n",
    "project_data['project_subject_categories'] = project_data['project_subject_categories'].str.replace(' The ','')\n",
    "project_data['project_subject_categories'] = project_data['project_subject_categories'].str.replace(' ','')\n",
    "project_data['project_subject_categories'] = project_data['project_subject_categories'].str.replace('&','_')\n",
    "project_data['project_subject_categories'] = project_data['project_subject_categories'].str.replace(',','_')\n",
    "project_data['project_subject_categories'] = project_data['project_subject_categories'].str.lower()\n",
    "\n",
    "\n",
    "project_data['teacher_prefix']=project_data['teacher_prefix'].fillna('Mrs.')\n",
    "project_data['teacher_prefix'] = project_data['teacher_prefix'].str.replace('.','')\n",
    "project_data['teacher_prefix'] = project_data['teacher_prefix'].str.lower()\n",
    "\n",
    "\n",
    "project_data['project_subject_subcategories'] = project_data['project_subject_subcategories'].str.replace(' The ','')\n",
    "project_data['project_subject_subcategories'] = project_data['project_subject_subcategories'].str.replace(' ','')\n",
    "project_data['project_subject_subcategories'] = project_data['project_subject_subcategories'].str.replace('&','_')\n",
    "project_data['project_subject_subcategories'] = project_data['project_subject_subcategories'].str.replace(',','_')\n",
    "project_data['project_subject_subcategories'] = project_data['project_subject_subcategories'].str.lower()\n",
    "\n",
    "project_data['school_state'] = project_data['school_state'].str.lower()"
   ]
  },
  {
   "cell_type": "code",
   "execution_count": 0,
   "metadata": {
    "colab": {
     "base_uri": "https://localhost:8080/",
     "height": 34
    },
    "colab_type": "code",
    "id": "Vol78Lg18FuF",
    "outputId": "8446c94f-1e13-47bb-f063-df7a9a91c718"
   },
   "outputs": [
    {
     "name": "stderr",
     "output_type": "stream",
     "text": [
      "100%|██████████| 109248/109248 [00:01<00:00, 71911.93it/s]\n"
     ]
    }
   ],
   "source": [
    "# we will extract numerical digits from the project resource summary\n",
    "\n",
    "project_summary_numerical = []\n",
    "for sentance in tqdm(project_data['project_resource_summary']):\n",
    "    sent1 = decontracted(sentance)\n",
    "    sent1 = ' '.join(e for e in sent1.split() if e.isdigit())\n",
    "    k=len(sent1)\n",
    "    project_summary_numerical.append(k)\n",
    "\n",
    "project_data[\"project_summary_numerical\"] = project_summary_numerical"
   ]
  },
  {
   "cell_type": "markdown",
   "metadata": {
    "colab_type": "text",
    "id": "NJRb9SdOhiEf"
   },
   "source": [
    "### Loading data and topic modeling feature files"
   ]
  },
  {
   "cell_type": "code",
   "execution_count": 0,
   "metadata": {
    "colab": {},
    "colab_type": "code",
    "id": "wGr2-wZEZSQ0"
   },
   "outputs": [],
   "source": [
    "project_data = pd.read_csv('/content/drive/My Drive/project_data2.csv')"
   ]
  },
  {
   "cell_type": "code",
   "execution_count": 0,
   "metadata": {
    "colab": {},
    "colab_type": "code",
    "id": "h8jN7Q8ujTLi"
   },
   "outputs": [],
   "source": [
    "Topic_modeling_keywords = pd.read_csv('/content/drive/My Drive/Topic_modeling_donor_choose.csv')"
   ]
  },
  {
   "cell_type": "code",
   "execution_count": 5,
   "metadata": {
    "colab": {
     "base_uri": "https://localhost:8080/",
     "height": 195
    },
    "colab_type": "code",
    "id": "a2Rqzi84jcHz",
    "outputId": "4fed63c6-dd60-4949-8b68-cfeccc2687a6"
   },
   "outputs": [
    {
     "data": {
      "text/html": [
       "<div>\n",
       "<style scoped>\n",
       "    .dataframe tbody tr th:only-of-type {\n",
       "        vertical-align: middle;\n",
       "    }\n",
       "\n",
       "    .dataframe tbody tr th {\n",
       "        vertical-align: top;\n",
       "    }\n",
       "\n",
       "    .dataframe thead th {\n",
       "        text-align: right;\n",
       "    }\n",
       "</style>\n",
       "<table border=\"1\" class=\"dataframe\">\n",
       "  <thead>\n",
       "    <tr style=\"text-align: right;\">\n",
       "      <th></th>\n",
       "      <th>Unnamed: 0</th>\n",
       "      <th>Document_No</th>\n",
       "      <th>Dominant_Topic</th>\n",
       "      <th>Topic_Perc_Contrib</th>\n",
       "      <th>Keywords</th>\n",
       "      <th>Text</th>\n",
       "    </tr>\n",
       "  </thead>\n",
       "  <tbody>\n",
       "    <tr>\n",
       "      <th>0</th>\n",
       "      <td>0</td>\n",
       "      <td>0</td>\n",
       "      <td>0.0</td>\n",
       "      <td>0.7253</td>\n",
       "      <td>student, reading, book, school, classroom, lea...</td>\n",
       "      <td>['student', 'english', 'learner', 'working', '...</td>\n",
       "    </tr>\n",
       "    <tr>\n",
       "      <th>1</th>\n",
       "      <td>1</td>\n",
       "      <td>1</td>\n",
       "      <td>1.0</td>\n",
       "      <td>0.0621</td>\n",
       "      <td>student, school, supply, class, nannan, would,...</td>\n",
       "      <td>['student', 'arrive', 'school', 'eager', 'lear...</td>\n",
       "    </tr>\n",
       "    <tr>\n",
       "      <th>2</th>\n",
       "      <td>2</td>\n",
       "      <td>2</td>\n",
       "      <td>0.0</td>\n",
       "      <td>0.1493</td>\n",
       "      <td>student, reading, book, school, classroom, lea...</td>\n",
       "      <td>['champion', 'always', 'quote', 'describe', 's...</td>\n",
       "    </tr>\n",
       "    <tr>\n",
       "      <th>3</th>\n",
       "      <td>3</td>\n",
       "      <td>3</td>\n",
       "      <td>0.0</td>\n",
       "      <td>0.3968</td>\n",
       "      <td>student, reading, book, school, classroom, lea...</td>\n",
       "      <td>['unique', 'school', 'fill', 'english', 'secon...</td>\n",
       "    </tr>\n",
       "    <tr>\n",
       "      <th>4</th>\n",
       "      <td>4</td>\n",
       "      <td>4</td>\n",
       "      <td>0.0</td>\n",
       "      <td>0.6579</td>\n",
       "      <td>student, reading, book, school, classroom, lea...</td>\n",
       "      <td>['second', 'grade', 'classroom', 'around', 'co...</td>\n",
       "    </tr>\n",
       "  </tbody>\n",
       "</table>\n",
       "</div>"
      ],
      "text/plain": [
       "   Unnamed: 0  ...                                               Text\n",
       "0           0  ...  ['student', 'english', 'learner', 'working', '...\n",
       "1           1  ...  ['student', 'arrive', 'school', 'eager', 'lear...\n",
       "2           2  ...  ['champion', 'always', 'quote', 'describe', 's...\n",
       "3           3  ...  ['unique', 'school', 'fill', 'english', 'secon...\n",
       "4           4  ...  ['second', 'grade', 'classroom', 'around', 'co...\n",
       "\n",
       "[5 rows x 6 columns]"
      ]
     },
     "execution_count": 5,
     "metadata": {
      "tags": []
     },
     "output_type": "execute_result"
    }
   ],
   "source": [
    "Topic_modeling_keywords.head()"
   ]
  },
  {
   "cell_type": "code",
   "execution_count": 0,
   "metadata": {
    "colab": {},
    "colab_type": "code",
    "id": "SJWB2VsDjkq6"
   },
   "outputs": [],
   "source": [
    "topic_keywords = Topic_modeling_keywords.drop(['Document_No','Dominant_Topic','Topic_Perc_Contrib','Text','Unnamed: 0'],axis=1)"
   ]
  },
  {
   "cell_type": "code",
   "execution_count": 0,
   "metadata": {
    "colab": {},
    "colab_type": "code",
    "id": "A_JkghCtkNU_"
   },
   "outputs": [],
   "source": [
    "project_data = pd.concat([project_data, topic_keywords],axis=1)"
   ]
  },
  {
   "cell_type": "code",
   "execution_count": 8,
   "metadata": {
    "colab": {
     "base_uri": "https://localhost:8080/",
     "height": 294
    },
    "colab_type": "code",
    "id": "TKqqaiDzkTMv",
    "outputId": "2d1f512c-58dc-4fe5-8a31-6a63176ef24f"
   },
   "outputs": [
    {
     "data": {
      "text/html": [
       "<div>\n",
       "<style scoped>\n",
       "    .dataframe tbody tr th:only-of-type {\n",
       "        vertical-align: middle;\n",
       "    }\n",
       "\n",
       "    .dataframe tbody tr th {\n",
       "        vertical-align: top;\n",
       "    }\n",
       "\n",
       "    .dataframe thead th {\n",
       "        text-align: right;\n",
       "    }\n",
       "</style>\n",
       "<table border=\"1\" class=\"dataframe\">\n",
       "  <thead>\n",
       "    <tr style=\"text-align: right;\">\n",
       "      <th></th>\n",
       "      <th>teacher_prefix</th>\n",
       "      <th>school_state</th>\n",
       "      <th>project_submitted_datetime</th>\n",
       "      <th>project_grade_category</th>\n",
       "      <th>project_title</th>\n",
       "      <th>project_essay_1</th>\n",
       "      <th>project_essay_2</th>\n",
       "      <th>project_essay_3</th>\n",
       "      <th>project_essay_4</th>\n",
       "      <th>project_resource_summary</th>\n",
       "      <th>teacher_number_of_previously_posted_projects</th>\n",
       "      <th>project_is_approved</th>\n",
       "      <th>clean_categories</th>\n",
       "      <th>clean_subcategories</th>\n",
       "      <th>price</th>\n",
       "      <th>quantity</th>\n",
       "      <th>digit_in_summary</th>\n",
       "      <th>clean_text</th>\n",
       "      <th>month</th>\n",
       "      <th>weekday</th>\n",
       "      <th>hour</th>\n",
       "      <th>month_Day</th>\n",
       "      <th>project_summary_numerical</th>\n",
       "      <th>Keywords</th>\n",
       "    </tr>\n",
       "  </thead>\n",
       "  <tbody>\n",
       "    <tr>\n",
       "      <th>0</th>\n",
       "      <td>mrs</td>\n",
       "      <td>in</td>\n",
       "      <td>2016-12-05 13:43:57</td>\n",
       "      <td>grades_prek_2</td>\n",
       "      <td>Educational Support for English Learners at Home</td>\n",
       "      <td>My students are English learners that are work...</td>\n",
       "      <td>\\\"The limits of your language are the limits o...</td>\n",
       "      <td>NaN</td>\n",
       "      <td>NaN</td>\n",
       "      <td>My students need opportunities to practice beg...</td>\n",
       "      <td>0</td>\n",
       "      <td>0</td>\n",
       "      <td>literacy_language</td>\n",
       "      <td>eslliteracy</td>\n",
       "      <td>154.6</td>\n",
       "      <td>23</td>\n",
       "      <td>0</td>\n",
       "      <td>my students english learners working english s...</td>\n",
       "      <td>12</td>\n",
       "      <td>0</td>\n",
       "      <td>13</td>\n",
       "      <td>5</td>\n",
       "      <td>0</td>\n",
       "      <td>student, reading, book, school, classroom, lea...</td>\n",
       "    </tr>\n",
       "    <tr>\n",
       "      <th>1</th>\n",
       "      <td>mr</td>\n",
       "      <td>fl</td>\n",
       "      <td>2016-10-25 09:22:10</td>\n",
       "      <td>grades_6_8</td>\n",
       "      <td>Wanted: Projector for Hungry Learners</td>\n",
       "      <td>Our students arrive to our school eager to lea...</td>\n",
       "      <td>The projector we need for our school is very c...</td>\n",
       "      <td>NaN</td>\n",
       "      <td>NaN</td>\n",
       "      <td>My students need a projector to help with view...</td>\n",
       "      <td>7</td>\n",
       "      <td>1</td>\n",
       "      <td>history_civicshealth_sports</td>\n",
       "      <td>civics_governmentteamsports</td>\n",
       "      <td>299.0</td>\n",
       "      <td>1</td>\n",
       "      <td>0</td>\n",
       "      <td>our students arrive school eager learn they po...</td>\n",
       "      <td>10</td>\n",
       "      <td>1</td>\n",
       "      <td>9</td>\n",
       "      <td>25</td>\n",
       "      <td>0</td>\n",
       "      <td>student, school, supply, class, nannan, would,...</td>\n",
       "    </tr>\n",
       "  </tbody>\n",
       "</table>\n",
       "</div>"
      ],
      "text/plain": [
       "  teacher_prefix  ...                                           Keywords\n",
       "0            mrs  ...  student, reading, book, school, classroom, lea...\n",
       "1             mr  ...  student, school, supply, class, nannan, would,...\n",
       "\n",
       "[2 rows x 24 columns]"
      ]
     },
     "execution_count": 8,
     "metadata": {
      "tags": []
     },
     "output_type": "execute_result"
    }
   ],
   "source": [
    "project_data.head(2)"
   ]
  },
  {
   "cell_type": "code",
   "execution_count": 0,
   "metadata": {
    "colab": {},
    "colab_type": "code",
    "id": "4FxieNPlGNnm"
   },
   "outputs": [],
   "source": [
    "target = project_data[\"project_is_approved\"]\n",
    "features = project_data.drop([\"project_resource_summary\",\"project_is_approved\"],axis=1)"
   ]
  },
  {
   "cell_type": "markdown",
   "metadata": {
    "colab_type": "text",
    "id": "7JOWrdIOhnYK"
   },
   "source": [
    "### Loading final topic modeling features"
   ]
  },
  {
   "cell_type": "code",
   "execution_count": 0,
   "metadata": {
    "colab": {},
    "colab_type": "code",
    "id": "n4_KhPRKS2ox"
   },
   "outputs": [],
   "source": [
    "import numpy as np\n",
    "train_vecs = np.load('/content/drive/My Drive/TopicData.npy')\n",
    "train_vecs =train_vecs.tolist()"
   ]
  },
  {
   "cell_type": "code",
   "execution_count": 0,
   "metadata": {
    "colab": {},
    "colab_type": "code",
    "id": "O61a3vFGTGAd"
   },
   "outputs": [],
   "source": [
    "features['New_topic'] = train_vecs"
   ]
  },
  {
   "cell_type": "code",
   "execution_count": 0,
   "metadata": {
    "colab": {},
    "colab_type": "code",
    "id": "gKOfOe7LTQUB"
   },
   "outputs": [],
   "source": [
    "# features.head(2)"
   ]
  },
  {
   "cell_type": "markdown",
   "metadata": {
    "colab_type": "text",
    "id": "F3LIq_GMriQl"
   },
   "source": [
    "### Splitting data into train and test"
   ]
  },
  {
   "cell_type": "code",
   "execution_count": 0,
   "metadata": {
    "colab": {},
    "colab_type": "code",
    "id": "TwnCJ300GRRR"
   },
   "outputs": [],
   "source": [
    "# We split our dataset into train,cross-validation and test set\n",
    "from sklearn.model_selection import train_test_split\n",
    "X_train, X_test, y_train, y_test = train_test_split(features, target, stratify=target,test_size=0.20,random_state=123)"
   ]
  },
  {
   "cell_type": "markdown",
   "metadata": {
    "colab_type": "text",
    "id": "g9yi9NSUrn4d"
   },
   "source": [
    "#### Vectorizing our text feature"
   ]
  },
  {
   "cell_type": "code",
   "execution_count": 0,
   "metadata": {
    "colab": {},
    "colab_type": "code",
    "id": "obx3wLdHI7Wz"
   },
   "outputs": [],
   "source": [
    "# Filtering Text Data based on idf values\n",
    "\n",
    "tfidf = TfidfVectorizer()\n",
    "combine_tfidf = tfidf.fit_transform(X_train[\"clean_text\"])\n",
    "\n",
    "# converting to dictionary\n",
    "combine_dict = dict(zip(tfidf.get_feature_names(),list(tfidf.idf_)))"
   ]
  },
  {
   "cell_type": "code",
   "execution_count": 0,
   "metadata": {
    "colab": {},
    "colab_type": "code",
    "id": "MOokcKFcjNqK"
   },
   "outputs": [],
   "source": [
    "tfidf_df = pd.DataFrame(list(combine_dict.items()), columns=['Words', 'IDF Values'])"
   ]
  },
  {
   "cell_type": "code",
   "execution_count": 0,
   "metadata": {
    "colab": {},
    "colab_type": "code",
    "id": "ixQx4A6EjTXd"
   },
   "outputs": [],
   "source": [
    "tfidf_df = tfidf_df.sort_values(by ='IDF Values' )"
   ]
  },
  {
   "cell_type": "code",
   "execution_count": 0,
   "metadata": {
    "colab": {},
    "colab_type": "code",
    "id": "oPBZyQ75QXcz"
   },
   "outputs": [],
   "source": [
    "tfidf_filtered = tfidf_df[tfidf_df[\"IDF Values\"] <=  np.percentile(tfidf_df['IDF Values'],25)] # considering only tdf value which are more than 25%"
   ]
  },
  {
   "cell_type": "code",
   "execution_count": 0,
   "metadata": {
    "colab": {},
    "colab_type": "code",
    "id": "x4t_RAmGQ8Qr"
   },
   "outputs": [],
   "source": [
    "corpus = tfidf_filtered[\"Words\"].tolist()"
   ]
  },
  {
   "cell_type": "code",
   "execution_count": 0,
   "metadata": {
    "colab": {},
    "colab_type": "code",
    "id": "cc2f27XNSdiI"
   },
   "outputs": [],
   "source": [
    "# convert the sentences (strings) into integers\n",
    "tokenizer = Tokenizer()\n",
    "tokenizer.fit_on_texts(corpus)\n",
    "sequences_train = tokenizer.texts_to_sequences(X_train[\"clean_text\"])\n",
    "sequences_test = tokenizer.texts_to_sequences(X_test[\"clean_text\"])"
   ]
  },
  {
   "cell_type": "code",
   "execution_count": 18,
   "metadata": {
    "colab": {
     "base_uri": "https://localhost:8080/",
     "height": 34
    },
    "colab_type": "code",
    "id": "MJ57Z90rTVfX",
    "outputId": "bb2eee64-8dc5-485c-d10b-8a4f68f4bc69"
   },
   "outputs": [
    {
     "name": "stdout",
     "output_type": "stream",
     "text": [
      "Found 13271 unique tokens.\n"
     ]
    }
   ],
   "source": [
    "# get word -> integer mapping\n",
    "word2idx = tokenizer.word_index\n",
    "print('Found %s unique tokens.' % len(word2idx))"
   ]
  },
  {
   "cell_type": "code",
   "execution_count": 19,
   "metadata": {
    "colab": {
     "base_uri": "https://localhost:8080/",
     "height": 34
    },
    "colab_type": "code",
    "id": "3EN_4lpTTldT",
    "outputId": "9c52a754-7a02-46fc-ff5b-d98b7cb5bac9"
   },
   "outputs": [
    {
     "name": "stdout",
     "output_type": "stream",
     "text": [
      "Shape of data tensor: (87398, 300)\n"
     ]
    }
   ],
   "source": [
    "encoded_train = pad_sequences(sequences_train,maxlen=300,padding='post', truncating='post')\n",
    "print('Shape of data tensor:', encoded_train.shape)"
   ]
  },
  {
   "cell_type": "code",
   "execution_count": 20,
   "metadata": {
    "colab": {
     "base_uri": "https://localhost:8080/",
     "height": 34
    },
    "colab_type": "code",
    "id": "6JABIn5eTqlm",
    "outputId": "f7e87cb5-e401-47aa-c4c2-704455847657"
   },
   "outputs": [
    {
     "name": "stdout",
     "output_type": "stream",
     "text": [
      "Shape of data tensor: (21850, 300)\n"
     ]
    }
   ],
   "source": [
    "encoded_test = pad_sequences(sequences_test, maxlen=300,padding='post', truncating='post')\n",
    "print('Shape of data tensor:', encoded_test.shape)"
   ]
  },
  {
   "cell_type": "code",
   "execution_count": 0,
   "metadata": {
    "colab": {},
    "colab_type": "code",
    "id": "EAm411ywTva3"
   },
   "outputs": [],
   "source": [
    "# Loading Embedding File\n",
    "\n",
    "pickle_in = open(\"drive/My Drive/Lstm_donor_choose/glove_vectors\",\"rb\")\n",
    "glove_words = pickle.load(pickle_in)"
   ]
  },
  {
   "cell_type": "markdown",
   "metadata": {
    "colab_type": "text",
    "id": "uhG-VdSxrs90"
   },
   "source": [
    "#### Embedding matrix"
   ]
  },
  {
   "cell_type": "code",
   "execution_count": 0,
   "metadata": {
    "colab": {},
    "colab_type": "code",
    "id": "JECq4w56T3u-"
   },
   "outputs": [],
   "source": [
    "num_words = len(word2idx) + 1\n",
    "embedding_matrix = np.zeros((num_words, 300))\n",
    "for word, i in word2idx.items():\n",
    "  if i < 13271:\n",
    "    embedding_vector = glove_words.get(word)\n",
    "    if embedding_vector is not None:\n",
    "      # words not found in embedding index will be all zeros.\n",
    "      embedding_matrix[i] = embedding_vector"
   ]
  },
  {
   "cell_type": "code",
   "execution_count": 0,
   "metadata": {
    "colab": {},
    "colab_type": "code",
    "id": "Hr9PlJSRUGQo"
   },
   "outputs": [],
   "source": [
    "# # load pre-trained word embeddings into an Embedding layer\n",
    "# # note that we set trainable = False so as to keep the embeddings fixed\n",
    "# embedding_layer = Embedding(\n",
    "#   num_words,\n",
    "#   300,\n",
    "#   weights=[embedding_matrix],\n",
    "#   input_length=300,\n",
    "#   trainable=False\n",
    "# )\n",
    "# input_text = Input(shape=(300,),name=\"input_text\")\n",
    "# x = embedding_layer(input_text)\n",
    "# x = LSTM(100,recurrent_dropout=0.5,kernel_regularizer=regularizers.l2(0.001),return_sequences=True)(x) # dropout=0.5\n",
    "# # x = SpatialDropout1D(0.5)(x)\n",
    "# flatten_1 = Flatten()(x)"
   ]
  },
  {
   "cell_type": "markdown",
   "metadata": {
    "colab_type": "text",
    "id": "LmieQVhasGyl"
   },
   "source": [
    "**Using Bi-directional CUDNNGRU and CUDNNLSTM for esssay feature**"
   ]
  },
  {
   "cell_type": "code",
   "execution_count": 0,
   "metadata": {
    "colab": {},
    "colab_type": "code",
    "id": "heRez750ouSJ"
   },
   "outputs": [],
   "source": [
    "# from keras.layers import Bidirectional,TimeDistributed,AttLayer, CuDNNGRU, CuDNNLSTM,\n",
    "from keras.layers import Bidirectional\n",
    "from keras.layers import TimeDistributed \n",
    "from keras.layers import CuDNNGRU \n",
    "from keras.layers import CuDNNLSTM\n",
    "from keras import initializers, regularizers, constraints\n",
    "from keras.layers import SpatialDropout1D\n",
    "import warnings\n",
    "warnings.filterwarnings(\"ignore\")\n",
    "\n",
    "\n",
    "embedding_layer = Embedding(num_words,300,weights=[embedding_matrix],input_length=300,trainable=False)\n",
    "input_text = Input(shape=(300,),name='input_text')\n",
    "x = embedding_layer(input_text)\n",
    "x = SpatialDropout1D(0.5)(x)\n",
    "x = Bidirectional(CuDNNGRU(64, return_sequences=True,kernel_regularizer=regularizers.l2(5e-5),recurrent_regularizer=regularizers.l2(5e-5)))(x)\n",
    "# x = TimeDistributed(Dense(128))(x)\n",
    "x = Dropout(0.5)(x)\n",
    "x = Bidirectional(CuDNNGRU(128, return_sequences=True))(x)\n",
    "# x = Attention(x)\n",
    "flatten_1 = Flatten()(x)"
   ]
  },
  {
   "cell_type": "code",
   "execution_count": 29,
   "metadata": {
    "colab": {
     "base_uri": "https://localhost:8080/",
     "height": 294
    },
    "colab_type": "code",
    "id": "Sl5ceilljDGP",
    "outputId": "8035bbec-3568-4db9-9b1f-1c58a68b727e"
   },
   "outputs": [
    {
     "data": {
      "text/html": [
       "<div>\n",
       "<style scoped>\n",
       "    .dataframe tbody tr th:only-of-type {\n",
       "        vertical-align: middle;\n",
       "    }\n",
       "\n",
       "    .dataframe tbody tr th {\n",
       "        vertical-align: top;\n",
       "    }\n",
       "\n",
       "    .dataframe thead th {\n",
       "        text-align: right;\n",
       "    }\n",
       "</style>\n",
       "<table border=\"1\" class=\"dataframe\">\n",
       "  <thead>\n",
       "    <tr style=\"text-align: right;\">\n",
       "      <th></th>\n",
       "      <th>teacher_prefix</th>\n",
       "      <th>school_state</th>\n",
       "      <th>project_submitted_datetime</th>\n",
       "      <th>project_grade_category</th>\n",
       "      <th>project_title</th>\n",
       "      <th>project_essay_1</th>\n",
       "      <th>project_essay_2</th>\n",
       "      <th>project_essay_3</th>\n",
       "      <th>project_essay_4</th>\n",
       "      <th>teacher_number_of_previously_posted_projects</th>\n",
       "      <th>clean_categories</th>\n",
       "      <th>clean_subcategories</th>\n",
       "      <th>price</th>\n",
       "      <th>quantity</th>\n",
       "      <th>digit_in_summary</th>\n",
       "      <th>clean_text</th>\n",
       "      <th>month</th>\n",
       "      <th>weekday</th>\n",
       "      <th>hour</th>\n",
       "      <th>month_Day</th>\n",
       "      <th>project_summary_numerical</th>\n",
       "      <th>Keywords</th>\n",
       "    </tr>\n",
       "  </thead>\n",
       "  <tbody>\n",
       "    <tr>\n",
       "      <th>7670</th>\n",
       "      <td>mrs</td>\n",
       "      <td>mt</td>\n",
       "      <td>2016-08-28 13:46:00</td>\n",
       "      <td>grades_prek_2</td>\n",
       "      <td>Increasing Engagement for Eager to Learn Kinders</td>\n",
       "      <td>My students are imaginative, playful, and eage...</td>\n",
       "      <td>These materials truly will make a difference i...</td>\n",
       "      <td>NaN</td>\n",
       "      <td>NaN</td>\n",
       "      <td>0</td>\n",
       "      <td>appliedlearningliteracy_language</td>\n",
       "      <td>earlydevelopmentliteracy</td>\n",
       "      <td>122.95</td>\n",
       "      <td>6</td>\n",
       "      <td>0</td>\n",
       "      <td>my students imaginative playful eager learn 5 ...</td>\n",
       "      <td>8</td>\n",
       "      <td>6</td>\n",
       "      <td>13</td>\n",
       "      <td>28</td>\n",
       "      <td>0</td>\n",
       "      <td>student, reading, book, school, classroom, lea...</td>\n",
       "    </tr>\n",
       "    <tr>\n",
       "      <th>72572</th>\n",
       "      <td>mrs</td>\n",
       "      <td>co</td>\n",
       "      <td>2016-06-11 17:56:44</td>\n",
       "      <td>grades_6_8</td>\n",
       "      <td>Student Connections and Family Communication</td>\n",
       "      <td>My students come from a small town community t...</td>\n",
       "      <td>I am always looking for new ideas to improve m...</td>\n",
       "      <td>NaN</td>\n",
       "      <td>NaN</td>\n",
       "      <td>0</td>\n",
       "      <td>appliedlearning</td>\n",
       "      <td>otherparentinvolvement</td>\n",
       "      <td>114.77</td>\n",
       "      <td>12</td>\n",
       "      <td>0</td>\n",
       "      <td>my students come small town community growing ...</td>\n",
       "      <td>6</td>\n",
       "      <td>5</td>\n",
       "      <td>17</td>\n",
       "      <td>11</td>\n",
       "      <td>0</td>\n",
       "      <td>student, reading, book, school, classroom, lea...</td>\n",
       "    </tr>\n",
       "  </tbody>\n",
       "</table>\n",
       "</div>"
      ],
      "text/plain": [
       "      teacher_prefix  ...                                           Keywords\n",
       "7670             mrs  ...  student, reading, book, school, classroom, lea...\n",
       "72572            mrs  ...  student, reading, book, school, classroom, lea...\n",
       "\n",
       "[2 rows x 22 columns]"
      ]
     },
     "execution_count": 29,
     "metadata": {
      "tags": []
     },
     "output_type": "execute_result"
    }
   ],
   "source": [
    "X_train.head(2)"
   ]
  },
  {
   "cell_type": "markdown",
   "metadata": {
    "colab_type": "text",
    "id": "TsLL-e1vk9lj"
   },
   "source": [
    "**Topic modeling feature**"
   ]
  },
  {
   "cell_type": "markdown",
   "metadata": {
    "colab_type": "text",
    "id": "AHvw2zXisbUr"
   },
   "source": [
    "Trying bidirectional lstm for topic modeling "
   ]
  },
  {
   "cell_type": "code",
   "execution_count": 0,
   "metadata": {
    "colab": {},
    "colab_type": "code",
    "id": "fdt9h91OQgTI"
   },
   "outputs": [],
   "source": [
    "# no_of_unique_topic  = X_train[\"Keywords\"].nunique()\n",
    "# embedding_size_topic = int(min(np.ceil((no_of_unique_topic)/2), 50 ))\n",
    "# print('Unique Categories:', no_of_unique_topic,'Embedding Size:', embedding_size_topic)\n",
    "\n",
    "\n",
    "# # Defining Input and Embedding Layer for the same\n",
    "\n",
    "# input_topic = Input(shape=(20,),name=\"topic\")\n",
    "# embedding_topic = Embedding(no_of_unique_topic,embedding_size_topic,name=\"emb_topic\",trainable=True)(input_topic)\n",
    "# x = SpatialDropout1D(0.5)(embedding_topic)\n",
    "# x = Bidirectional(CuDNNGRU(64, return_sequences=True,kernel_regularizer=regularizers.l2(5e-5),recurrent_regularizer=regularizers.l2(5e-5)))(x)\n",
    "# # x = TimeDistributed(Dense(128))(x)\n",
    "# x = Dropout(0.5)(x)\n",
    "# x = Bidirectional(CuDNNGRU(128, return_sequences=True))(x)\n",
    "# flatten_topic = Flatten()(x)"
   ]
  },
  {
   "cell_type": "markdown",
   "metadata": {
    "colab_type": "text",
    "id": "xE7lzHLzssg0"
   },
   "source": [
    "**Label encoding for topic modeling feature**"
   ]
  },
  {
   "cell_type": "code",
   "execution_count": 32,
   "metadata": {
    "colab": {
     "base_uri": "https://localhost:8080/",
     "height": 34
    },
    "colab_type": "code",
    "id": "6RA1E2_slBAu",
    "outputId": "d1f1bad9-27c7-4b4c-979e-905117e874fb"
   },
   "outputs": [
    {
     "name": "stdout",
     "output_type": "stream",
     "text": [
      "Unique Categories: 5 Embedding Size: 3\n"
     ]
    }
   ],
   "source": [
    "no_of_unique_topic  = X_train[\"Keywords\"].nunique()\n",
    "embedding_size_topic = int(min(np.ceil((no_of_unique_topic)/2), 50 ))\n",
    "print('Unique Categories:', no_of_unique_topic,'Embedding Size:', embedding_size_topic)\n",
    "\n",
    "\n",
    "# Defining Input and Embedding Layer for the same\n",
    "\n",
    "input_topic = Input(shape=(1,),name=\"topic\")\n",
    "embedding_topic = Embedding(no_of_unique_topic,embedding_size_topic,name=\"emb_topic\",trainable=True)(input_topic)\n",
    "flatten_topic = Flatten()(embedding_topic)\n",
    "\n",
    "lbtopic = LabelEncoder()\n",
    "encoder_topic_train = lbtopic.fit_transform(X_train[\"Keywords\"])\n",
    "# encoder_prefix_cv = lb.transform(X_cv[\"teacher_prefix\"])\n",
    "encoder_topic_test = lbtopic.transform(X_test[\"Keywords\"])"
   ]
  },
  {
   "cell_type": "markdown",
   "metadata": {
    "colab_type": "text",
    "id": "7fC52r-Ns1Tb"
   },
   "source": [
    "#### Teacher Prefix feature"
   ]
  },
  {
   "cell_type": "code",
   "execution_count": 33,
   "metadata": {
    "colab": {
     "base_uri": "https://localhost:8080/",
     "height": 34
    },
    "colab_type": "code",
    "id": "vPrm1wdOUar2",
    "outputId": "d98a7572-d751-4611-8786-a071ff512565"
   },
   "outputs": [
    {
     "name": "stdout",
     "output_type": "stream",
     "text": [
      "Unique Categories: 5 Embedding Size: 3\n"
     ]
    }
   ],
   "source": [
    "# Now will prepare all the remaining categorical features\n",
    "# Teacher Prefix\n",
    "no_of_unique_prefix  = X_train[\"teacher_prefix\"].nunique()\n",
    "embedding_size_prefix = int(min(np.ceil((no_of_unique_prefix)/2), 50 ))\n",
    "print('Unique Categories:', no_of_unique_prefix,'Embedding Size:', embedding_size_prefix)\n",
    "\n",
    "\n",
    "# Defining Input and Embedding Layer for the same\n",
    "\n",
    "input_prefix = Input(shape=(1,),name=\"teacher_prefix\")\n",
    "embedding_prefix = Embedding(no_of_unique_prefix,embedding_size_prefix,name=\"emb_pre\",trainable=True)(input_prefix)\n",
    "flatten_2 = Flatten()(embedding_prefix)\n",
    "\n",
    "lb = LabelEncoder()\n",
    "encoder_prefix_train = lb.fit_transform(X_train[\"teacher_prefix\"])\n",
    "# encoder_prefix_cv = lb.transform(X_cv[\"teacher_prefix\"])\n",
    "encoder_prefix_test = lb.transform(X_test[\"teacher_prefix\"])"
   ]
  },
  {
   "cell_type": "markdown",
   "metadata": {
    "colab_type": "text",
    "id": "GaK4ZCpEs6D1"
   },
   "source": [
    "### School state feature"
   ]
  },
  {
   "cell_type": "code",
   "execution_count": 34,
   "metadata": {
    "colab": {
     "base_uri": "https://localhost:8080/",
     "height": 34
    },
    "colab_type": "code",
    "id": "XqMhsGeGUbS5",
    "outputId": "928ac4ef-b1aa-4826-a1d0-5e1e71a2bc51"
   },
   "outputs": [
    {
     "name": "stdout",
     "output_type": "stream",
     "text": [
      "Unique Categories: 51 Embedding Size: 26\n"
     ]
    }
   ],
   "source": [
    "# School State\n",
    "no_of_unique_state  = X_train[\"school_state\"].nunique()\n",
    "embedding_size_state= int(min(np.ceil((no_of_unique_state)/2), 50 ))\n",
    "print('Unique Categories:', no_of_unique_state,'Embedding Size:', embedding_size_state)\n",
    "\n",
    "input_state = Input(shape=(1,),name=\"school_prefix\")\n",
    "embedding_state = Embedding(no_of_unique_state,embedding_size_state,name=\"emb_state\",trainable=True)(input_state)\n",
    "flatten_3 = Flatten()(embedding_state)\n",
    "\n",
    "\n",
    "encoder_state_train = lb.fit_transform(X_train[\"school_state\"])\n",
    "encoder_state_test = lb.transform(X_test[\"school_state\"])"
   ]
  },
  {
   "cell_type": "markdown",
   "metadata": {
    "colab_type": "text",
    "id": "V5Pw5a3ms9_V"
   },
   "source": [
    "### Project Grade category"
   ]
  },
  {
   "cell_type": "code",
   "execution_count": 35,
   "metadata": {
    "colab": {
     "base_uri": "https://localhost:8080/",
     "height": 34
    },
    "colab_type": "code",
    "id": "FZWQUDo6UfT9",
    "outputId": "3f2eb8cc-1f7e-44ec-f6ce-a7e56a55cf91"
   },
   "outputs": [
    {
     "name": "stdout",
     "output_type": "stream",
     "text": [
      "Unique Categories: 4 Embedding Size: 2\n"
     ]
    }
   ],
   "source": [
    "# For project_grade_category\n",
    "no_of_unique_grade  = X_train[\"project_grade_category\"].nunique()\n",
    "embedding_size_grade = int(min(np.ceil((no_of_unique_grade)/2), 50 ))\n",
    "print('Unique Categories:', no_of_unique_grade,'Embedding Size:', embedding_size_grade)\n",
    "\n",
    "input_grade= Input(shape=(1,),name=\"grade_cat\")\n",
    "embedding_grade = Embedding(no_of_unique_grade,embedding_size_grade,name=\"emb_grade\",trainable=True)(input_grade)\n",
    "flatten_4 = Flatten()(embedding_grade)\n",
    "\n",
    "\n",
    "encoder_grade_train = lb.fit_transform(X_train[\"project_grade_category\"])\n",
    "encoder_grade_test = lb.transform(X_test[\"project_grade_category\"])"
   ]
  },
  {
   "cell_type": "markdown",
   "metadata": {
    "colab_type": "text",
    "id": "4uo30_ZWtBy1"
   },
   "source": [
    "### Clean category"
   ]
  },
  {
   "cell_type": "code",
   "execution_count": 36,
   "metadata": {
    "colab": {
     "base_uri": "https://localhost:8080/",
     "height": 34
    },
    "colab_type": "code",
    "id": "159yl5QSUiVb",
    "outputId": "61cc43bd-9ae4-42ed-bc15-c15152b88753"
   },
   "outputs": [
    {
     "name": "stdout",
     "output_type": "stream",
     "text": [
      "Unique Categories: 51 Embedding Size: 26\n"
     ]
    }
   ],
   "source": [
    "# For project_subject_categories\n",
    "no_of_unique_subcat  = X_train[\"clean_categories\"].nunique()\n",
    "embedding_size_subcat = int(min(np.ceil((no_of_unique_subcat)/2), 50 ))\n",
    "print('Unique Categories:', no_of_unique_subcat,'Embedding Size:', embedding_size_subcat)\n",
    "\n",
    "\n",
    "# Defining Input and Embedding Layer for the same\n",
    "\n",
    "input_subcat= Input(shape=(1,),name=\"sub_cat\")\n",
    "embedding_subcat = Embedding(no_of_unique_subcat,embedding_size_subcat,name=\"emb_subcat\",trainable=True)(input_subcat)\n",
    "flatten_5 = Flatten()(embedding_subcat)\n",
    "\n",
    "\n",
    "le = LabelEncoder()\n",
    "le.fit(X_train[\"clean_categories\"])\n",
    "X_test[\"clean_categories\"] = X_test[\"clean_categories\"].map(lambda s: '<unknown>' if s not in le.classes_ else s)\n",
    "le.classes_ = np.append(le.classes_, '<unknown>')\n",
    "encoder_subcat_train = le.transform(X_train[\"clean_categories\"])\n",
    "encoder_subcat_test= le.transform(X_test[\"clean_categories\"])"
   ]
  },
  {
   "cell_type": "markdown",
   "metadata": {
    "colab_type": "text",
    "id": "lipqEgPVtFwe"
   },
   "source": [
    "### Clean sub category"
   ]
  },
  {
   "cell_type": "code",
   "execution_count": 37,
   "metadata": {
    "colab": {
     "base_uri": "https://localhost:8080/",
     "height": 34
    },
    "colab_type": "code",
    "id": "8jIyrt_vUl-z",
    "outputId": "c4ed65d2-0439-40b6-c549-3014646483e6"
   },
   "outputs": [
    {
     "name": "stdout",
     "output_type": "stream",
     "text": [
      "Unique Categories: 398 Embedding Size: 50\n"
     ]
    }
   ],
   "source": [
    "# For project_subject_subcategories\n",
    "no_of_unique_subcat_1  = X_train[\"clean_subcategories\"].nunique()\n",
    "embedding_size_subcat_1 = int(min(np.ceil((no_of_unique_subcat_1)/2), 50 ))\n",
    "print('Unique Categories:', no_of_unique_subcat_1,'Embedding Size:', embedding_size_subcat_1)\n",
    "\n",
    "# Defining Input and Embedding Layer for the same\n",
    "\n",
    "input_subcat_1= Input(shape=(1,),name=\"sub_cat_1\")\n",
    "embedding_subcat_1 = Embedding(no_of_unique_subcat_1,embedding_size_subcat_1,name=\"emb_subcat_1\",trainable=True)(input_subcat_1)\n",
    "flatten_6 = Flatten()(embedding_subcat_1)\n",
    "\n",
    "\n",
    "le = LabelEncoder()\n",
    "le.fit(X_train[\"clean_subcategories\"])\n",
    "X_test[\"clean_subcategories\"] = X_test[\"clean_subcategories\"].map(lambda s: '<unknown>' if s not in le.classes_ else s)\n",
    "# X_cv[\"project_subject_subcategories\"] = X_cv[\"project_subject_subcategories\"].map(lambda s: '<unknown>' if s not in le.classes_ else s)\n",
    "le.classes_ = np.append(le.classes_, '<unknown>')\n",
    "encoder_subcat_1_train = le.transform(X_train[\"clean_subcategories\"])\n",
    "encoder_subcat_1_test= le.transform(X_test[\"clean_subcategories\"])\n",
    "# encoder_subcat_1_cv = le.transform(X_cv[\"project_subject_subcategories\"])"
   ]
  },
  {
   "cell_type": "markdown",
   "metadata": {
    "colab_type": "text",
    "id": "n4LWxp3gtJ4g"
   },
   "source": [
    "### Numerical feature"
   ]
  },
  {
   "cell_type": "markdown",
   "metadata": {
    "colab_type": "text",
    "id": "XxQKzZqctO-d"
   },
   "source": [
    "**Tried with extra time based feature result was approx same so neglected time based feature**"
   ]
  },
  {
   "cell_type": "code",
   "execution_count": 0,
   "metadata": {
    "colab": {},
    "colab_type": "code",
    "id": "oQBj37ICUreV"
   },
   "outputs": [],
   "source": [
    "num_train_1=X_train['project_summary_numerical'].values.reshape(-1, 1)\n",
    "num_train_2=X_train['price'].values.reshape(-1, 1)\n",
    "num_train_3=X_train['quantity'].values.reshape(-1, 1)\n",
    "num_train_4=X_train['teacher_number_of_previously_posted_projects'].values.reshape(-1, 1)\n",
    "# num_train_5=X_train['month'].values.reshape(-1,1) \n",
    "# num_train_6=X_train['month_Day'].values.reshape(-1,1)\n",
    "# num_train_7=X_train['weekday'].values.reshape(-1,1)\n",
    "# num_train_8=X_train['hour'].values.reshape(-1,1) \n",
    "\n",
    "\n",
    "num_test_1=X_test['project_summary_numerical'].values.reshape(-1, 1)\n",
    "num_test_2=X_test['price'].values.reshape(-1, 1)\n",
    "num_test_3=X_test['quantity'].values.reshape(-1, 1)\n",
    "num_test_4=X_test['teacher_number_of_previously_posted_projects'].values.reshape(-1, 1)\n",
    "# num_test_5=X_test['month'].values.reshape(-1,1) \n",
    "# num_test_6=X_test['month_Day'].values.reshape(-1,1)\n",
    "# num_test_7=X_test['weekday'].values.reshape(-1,1)\n",
    "# num_test_8=X_test['hour'].values.reshape(-1,1)\n",
    "\n",
    "num_train=np.concatenate((num_train_1,num_train_2,num_train_3,num_train_4),axis=1)\n",
    "\n",
    "num_test=np.concatenate((num_test_1,num_test_2,num_test_3,num_test_4),axis=1)\n"
   ]
  },
  {
   "cell_type": "markdown",
   "metadata": {
    "colab_type": "text",
    "id": "phmCP50HtZhp"
   },
   "source": [
    "**Standarize our numerical data**"
   ]
  },
  {
   "cell_type": "code",
   "execution_count": 0,
   "metadata": {
    "colab": {},
    "colab_type": "code",
    "id": "e7zhbrF-UuJw"
   },
   "outputs": [],
   "source": [
    "from sklearn.preprocessing import StandardScaler\n",
    "norm=StandardScaler()\n",
    "norm_train=norm.fit_transform(num_train)\n",
    "norm_test=norm.transform(num_test)"
   ]
  },
  {
   "cell_type": "markdown",
   "metadata": {
    "colab_type": "text",
    "id": "CzhKHg6EtgFY"
   },
   "source": [
    "### Defining Input and embedding layer for numerical data"
   ]
  },
  {
   "cell_type": "code",
   "execution_count": 0,
   "metadata": {
    "colab": {},
    "colab_type": "code",
    "id": "V6ZT1qb9UvMc"
   },
   "outputs": [],
   "source": [
    "# Defining the Input and Embedding Layer for the same\n",
    "\n",
    "num_feats = Input(shape=(4,),name=\"numerical_features\")\n",
    "num_feats_ = Dense(1000,activation=\"relu\",kernel_initializer=\"he_normal\")(num_feats)"
   ]
  },
  {
   "cell_type": "markdown",
   "metadata": {
    "colab_type": "text",
    "id": "EAjK-fzgtlte"
   },
   "source": [
    "### Concatinating our all feature last layer to single layer"
   ]
  },
  {
   "cell_type": "code",
   "execution_count": 0,
   "metadata": {
    "colab": {},
    "colab_type": "code",
    "id": "qdr01YfxUyFo"
   },
   "outputs": [],
   "source": [
    "x_concatenate = concatenate([flatten_1,flatten_topic,flatten_2,flatten_3,flatten_4,flatten_5,flatten_6,num_feats_])\n",
    "x_concatenate = BatchNormalization()(x_concatenate)\n",
    "x = Dense(128,activation=\"relu\", kernel_initializer=\"he_normal\",kernel_regularizer=regularizers.l2(0.001))(x_concatenate)\n",
    "# x=LeakyReLU(alpha=0.3)(x)\n",
    "x = Dropout(0.5)(x)\n",
    "x = Dense(256,activation=\"relu\",kernel_initializer=\"he_normal\",kernel_regularizer=regularizers.l2(0.001))(x)\n",
    "# x=LeakyReLU(alpha=0.3)(x)\n",
    "x = Dropout(0.5)(x)\n",
    "x = Dense(64,activation=\"relu\", kernel_initializer=\"he_normal\",kernel_regularizer=regularizers.l2(0.001))(x)\n",
    "x = BatchNormalization()(x)\n",
    "# x=LeakyReLU(alpha=0.3)(x)\n",
    "output = Dense(2, activation='softmax', name='output')(x)\n",
    "model = Model(inputs=[input_text,input_topic,input_prefix,input_state,input_grade,\n",
    "                        input_subcat,input_subcat_1,num_feats],outputs=[output])"
   ]
  },
  {
   "cell_type": "markdown",
   "metadata": {
    "colab_type": "text",
    "id": "k1kG70F8tunc"
   },
   "source": [
    "**Defining train and test data for simplification**"
   ]
  },
  {
   "cell_type": "code",
   "execution_count": 0,
   "metadata": {
    "colab": {},
    "colab_type": "code",
    "id": "c3Pjh-sYU8Ft"
   },
   "outputs": [],
   "source": [
    "train = [encoded_train,encoder_topic_train,encoder_prefix_train,encoder_state_train,\n",
    "              encoder_grade_train,encoder_subcat_train,encoder_subcat_1_train,norm_train]\n",
    "test = [encoded_test,encoder_topic_test,encoder_prefix_test,encoder_state_test,encoder_grade_test,\n",
    "             encoder_subcat_test,encoder_subcat_1_test,norm_test]\n",
    "\n",
    "from keras.utils import np_utils\n",
    "Y_train = np_utils.to_categorical(y_train, 2) \n",
    "Y_test = np_utils.to_categorical(y_test, 2)"
   ]
  },
  {
   "cell_type": "markdown",
   "metadata": {
    "colab_type": "text",
    "id": "z5EKjqQJt7Pp"
   },
   "source": [
    "<h3><b>Using keras callbacks for monitoring our model performance<b></h3>\n",
    "  \n",
    "1. Checkpoint for saving best model\n",
    "2. Earlystopping for stoping training of model if there is no change in val loss\n",
    "3. ReduceROnPlateau for tracking learning rate if there is no change in val loss we reduce the learning rate "
   ]
  },
  {
   "cell_type": "code",
   "execution_count": 0,
   "metadata": {
    "colab": {},
    "colab_type": "code",
    "id": "BK8AjOuzVFPB"
   },
   "outputs": [],
   "source": [
    "from keras.callbacks import EarlyStopping\n",
    "\n",
    "checkpoint = ModelCheckpoint(\"model.h5\",\n",
    "                             monitor=\"val_loss\",\n",
    "                             mode=\"min\",\n",
    "                             save_best_only = True,\n",
    "                             verbose=1)\n",
    "\n",
    "earlystop = EarlyStopping(monitor = 'val_loss', \n",
    "                            mode=\"min\",\n",
    "                            min_delta = 0, \n",
    "                            patience = 5,\n",
    "                            verbose = 1,\n",
    "                            restore_best_weights = True)\n",
    "\n",
    "reduce_lr = ReduceLROnPlateau(monitor = 'val_loss', factor = 0.2, patience = 2, verbose = 1, min_delta = 0.0001)\n",
    "\n",
    "#combining in single so that we will pass callbacks in model.fit\n",
    "callbacks = [checkpoint,earlystop,reduce_lr]"
   ]
  },
  {
   "cell_type": "markdown",
   "metadata": {
    "colab_type": "text",
    "id": "hb7G0jjQuolr"
   },
   "source": [
    "### Defining our own roc_auc_score "
   ]
  },
  {
   "cell_type": "markdown",
   "metadata": {
    "colab_type": "text",
    "id": "L3P7Ip2sutdD"
   },
   "source": [
    "**We can define own function for auc score or else after training the model we can use sklearn auc to calculate auc but defining function is a feasible way of doing**"
   ]
  },
  {
   "cell_type": "code",
   "execution_count": 0,
   "metadata": {
    "colab": {},
    "colab_type": "code",
    "id": "0br3eI2xVP3N"
   },
   "outputs": [],
   "source": [
    "# Defining Custom ROC-AUC Metrics\n",
    "from sklearn.metrics import roc_auc_score\n",
    "\n",
    "def auc(y_true, y_pred):\n",
    "    if len(np.unique(y_true[:,1])) == 1:\n",
    "        return 0.5\n",
    "    else:\n",
    "        return roc_auc_score(y_true, y_pred)\n",
    "\n",
    "def auroc(y_true, y_pred):\n",
    "    return tf.py_func(auc, (y_true, y_pred), tf.double)"
   ]
  },
  {
   "cell_type": "markdown",
   "metadata": {
    "colab_type": "text",
    "id": "jTF_V2aJu7bP"
   },
   "source": [
    "**We will be using adam optimizer for model training since it best for model**"
   ]
  },
  {
   "cell_type": "code",
   "execution_count": 0,
   "metadata": {
    "colab": {},
    "colab_type": "code",
    "id": "MI-lDkoYVSj8"
   },
   "outputs": [],
   "source": [
    "adam = Adam(lr=0.001, beta_1=0.9, beta_2=0.999, epsilon=None, decay=0.0, amsgrad=False)"
   ]
  },
  {
   "cell_type": "markdown",
   "metadata": {
    "colab_type": "text",
    "id": "6tgvy8Eov9wn"
   },
   "source": [
    "**Before training our model we need to compile our model why? bcoz it lets model to know what are the parameter we will be using**"
   ]
  },
  {
   "cell_type": "code",
   "execution_count": 47,
   "metadata": {
    "colab": {
     "base_uri": "https://localhost:8080/",
     "height": 289
    },
    "colab_type": "code",
    "id": "4QpIcVsiVzVz",
    "outputId": "2fff7374-bb1b-41b8-9856-8c8f0658c270"
   },
   "outputs": [
    {
     "name": "stderr",
     "output_type": "stream",
     "text": [
      "W0901 07:13:27.547238 140233264437120 deprecation_wrapper.py:119] From /usr/local/lib/python3.6/dist-packages/keras/optimizers.py:793: The name tf.train.Optimizer is deprecated. Please use tf.compat.v1.train.Optimizer instead.\n",
      "\n",
      "W0901 07:13:27.582907 140233264437120 deprecation.py:323] From <ipython-input-45-574376673a91>:10: py_func (from tensorflow.python.ops.script_ops) is deprecated and will be removed in a future version.\n",
      "Instructions for updating:\n",
      "tf.py_func is deprecated in TF V2. Instead, there are two\n",
      "    options available in V2.\n",
      "    - tf.py_function takes a python function which manipulates tf eager\n",
      "    tensors instead of numpy arrays. It's easy to convert a tf eager tensor to\n",
      "    an ndarray (just call tensor.numpy()) but having access to eager tensors\n",
      "    means `tf.py_function`s can use accelerators such as GPUs as well as\n",
      "    being differentiable using a gradient tape.\n",
      "    - tf.numpy_function maintains the semantics of the deprecated tf.py_func\n",
      "    (it is not differentiable, and manipulates numpy arrays). It drops the\n",
      "    stateful argument making all functions stateful.\n",
      "    \n"
     ]
    }
   ],
   "source": [
    "model.compile(optimizer=adam, loss='categorical_crossentropy', metrics=[auroc])"
   ]
  },
  {
   "cell_type": "markdown",
   "metadata": {
    "colab_type": "text",
    "id": "kWLv5W-FwOVG"
   },
   "source": [
    "### Training our model "
   ]
  },
  {
   "cell_type": "code",
   "execution_count": 0,
   "metadata": {
    "colab": {
     "base_uri": "https://localhost:8080/",
     "height": 1000
    },
    "colab_type": "code",
    "id": "4vAIPajGWbr3",
    "outputId": "3acb67c7-5136-4d6c-8af9-24b47a49a7ea",
    "scrolled": false
   },
   "outputs": [
    {
     "name": "stderr",
     "output_type": "stream",
     "text": [
      "W0828 11:11:33.544186 140394388805504 deprecation.py:323] From /usr/local/lib/python3.6/dist-packages/tensorflow/python/ops/math_grad.py:1250: add_dispatch_support.<locals>.wrapper (from tensorflow.python.ops.array_ops) is deprecated and will be removed in a future version.\n",
      "Instructions for updating:\n",
      "Use tf.where in 2.0, which has the same broadcast rule as np.where\n"
     ]
    },
    {
     "name": "stdout",
     "output_type": "stream",
     "text": [
      "Train on 87398 samples, validate on 21850 samples\n"
     ]
    },
    {
     "name": "stderr",
     "output_type": "stream",
     "text": [
      "W0828 11:11:36.701762 140394388805504 deprecation_wrapper.py:119] From /usr/local/lib/python3.6/dist-packages/keras/callbacks.py:850: The name tf.summary.merge_all is deprecated. Please use tf.compat.v1.summary.merge_all instead.\n",
      "\n",
      "W0828 11:11:36.703585 140394388805504 deprecation_wrapper.py:119] From /usr/local/lib/python3.6/dist-packages/keras/callbacks.py:853: The name tf.summary.FileWriter is deprecated. Please use tf.compat.v1.summary.FileWriter instead.\n",
      "\n"
     ]
    },
    {
     "name": "stdout",
     "output_type": "stream",
     "text": [
      "Epoch 1/50\n",
      "87398/87398 [==============================] - 111s 1ms/step - loss: 1.2320 - auroc: 0.5311 - val_loss: 0.8054 - val_auroc: 0.5428\n",
      "\n",
      "Epoch 00001: val_loss improved from inf to 0.80541, saving model to model.h5\n",
      "Epoch 2/50\n",
      "87398/87398 [==============================] - 107s 1ms/step - loss: 0.6732 - auroc: 0.6605 - val_loss: 0.5797 - val_auroc: 0.7252\n",
      "\n",
      "Epoch 00002: val_loss improved from 0.80541 to 0.57965, saving model to model.h5\n",
      "Epoch 3/50\n",
      "87398/87398 [==============================] - 106s 1ms/step - loss: 0.5365 - auroc: 0.7276 - val_loss: 0.5095 - val_auroc: 0.7505\n",
      "\n",
      "Epoch 00003: val_loss improved from 0.57965 to 0.50950, saving model to model.h5\n",
      "Epoch 4/50\n",
      "87398/87398 [==============================] - 106s 1ms/step - loss: 0.4948 - auroc: 0.7411 - val_loss: 0.4832 - val_auroc: 0.7575\n",
      "\n",
      "Epoch 00004: val_loss improved from 0.50950 to 0.48325, saving model to model.h5\n",
      "Epoch 5/50\n",
      "87398/87398 [==============================] - 106s 1ms/step - loss: 0.4782 - auroc: 0.7507 - val_loss: 0.4774 - val_auroc: 0.7610\n",
      "\n",
      "Epoch 00005: val_loss improved from 0.48325 to 0.47744, saving model to model.h5\n",
      "Epoch 6/50\n",
      "87398/87398 [==============================] - 106s 1ms/step - loss: 0.4801 - auroc: 0.7566 - val_loss: 0.4794 - val_auroc: 0.7635\n",
      "\n",
      "Epoch 00006: val_loss did not improve from 0.47744\n",
      "Epoch 7/50\n",
      "87398/87398 [==============================] - 106s 1ms/step - loss: 0.4791 - auroc: 0.7587 - val_loss: 0.4778 - val_auroc: 0.7647\n",
      "\n",
      "Epoch 00007: val_loss did not improve from 0.47744\n",
      "\n",
      "Epoch 00007: ReduceLROnPlateau reducing learning rate to 0.00020000000949949026.\n",
      "Epoch 8/50\n",
      "87398/87398 [==============================] - 107s 1ms/step - loss: 0.4345 - auroc: 0.7742 - val_loss: 0.4212 - val_auroc: 0.7701\n",
      "\n",
      "Epoch 00008: val_loss improved from 0.47744 to 0.42118, saving model to model.h5\n",
      "Epoch 9/50\n",
      "87398/87398 [==============================] - 107s 1ms/step - loss: 0.4138 - auroc: 0.7773 - val_loss: 0.4174 - val_auroc: 0.7731\n",
      "\n",
      "Epoch 00009: val_loss improved from 0.42118 to 0.41737, saving model to model.h5\n",
      "Epoch 10/50\n",
      "87398/87398 [==============================] - 107s 1ms/step - loss: 0.4125 - auroc: 0.7796 - val_loss: 0.4183 - val_auroc: 0.7713\n",
      "\n",
      "Epoch 00010: val_loss did not improve from 0.41737\n",
      "Epoch 11/50\n",
      "87398/87398 [==============================] - 107s 1ms/step - loss: 0.4115 - auroc: 0.7824 - val_loss: 0.4178 - val_auroc: 0.7754\n",
      "\n",
      "Epoch 00011: val_loss did not improve from 0.41737\n",
      "\n",
      "Epoch 00011: ReduceLROnPlateau reducing learning rate to 4.0000001899898055e-05.\n",
      "Epoch 12/50\n",
      "87398/87398 [==============================] - 107s 1ms/step - loss: 0.4012 - auroc: 0.7915 - val_loss: 0.4063 - val_auroc: 0.7766\n",
      "\n",
      "Epoch 00012: val_loss improved from 0.41737 to 0.40629, saving model to model.h5\n",
      "Epoch 13/50\n",
      "87398/87398 [==============================] - 106s 1ms/step - loss: 0.3911 - auroc: 0.7940 - val_loss: 0.4030 - val_auroc: 0.7762\n",
      "\n",
      "Epoch 00013: val_loss improved from 0.40629 to 0.40297, saving model to model.h5\n",
      "Epoch 14/50\n",
      "87398/87398 [==============================] - 106s 1ms/step - loss: 0.3852 - auroc: 0.7963 - val_loss: 0.4001 - val_auroc: 0.7756\n",
      "\n",
      "Epoch 00014: val_loss improved from 0.40297 to 0.40014, saving model to model.h5\n",
      "Epoch 15/50\n",
      "87398/87398 [==============================] - 106s 1ms/step - loss: 0.3811 - auroc: 0.8001 - val_loss: 0.3986 - val_auroc: 0.7758\n",
      "\n",
      "Epoch 00015: val_loss improved from 0.40014 to 0.39858, saving model to model.h5\n",
      "Epoch 16/50\n",
      "87398/87398 [==============================] - 107s 1ms/step - loss: 0.3788 - auroc: 0.8028 - val_loss: 0.4005 - val_auroc: 0.7752\n",
      "\n",
      "Epoch 00016: val_loss did not improve from 0.39858\n",
      "Epoch 17/50\n",
      "87398/87398 [==============================] - 107s 1ms/step - loss: 0.3784 - auroc: 0.8034 - val_loss: 0.4005 - val_auroc: 0.7747\n",
      "\n",
      "Epoch 00017: val_loss did not improve from 0.39858\n",
      "\n",
      "Epoch 00017: ReduceLROnPlateau reducing learning rate to 8.000000525498762e-06.\n",
      "Epoch 18/50\n",
      "87398/87398 [==============================] - 107s 1ms/step - loss: 0.3730 - auroc: 0.8109 - val_loss: 0.4007 - val_auroc: 0.7748\n",
      "\n",
      "Epoch 00018: val_loss did not improve from 0.39858\n",
      "Epoch 19/50\n",
      "87398/87398 [==============================] - 107s 1ms/step - loss: 0.3715 - auroc: 0.8133 - val_loss: 0.4010 - val_auroc: 0.7744\n",
      "\n",
      "Epoch 00019: val_loss did not improve from 0.39858\n",
      "\n",
      "Epoch 00019: ReduceLROnPlateau reducing learning rate to 1.6000001778593287e-06.\n",
      "Epoch 20/50\n",
      "87398/87398 [==============================] - 107s 1ms/step - loss: 0.3692 - auroc: 0.8163 - val_loss: 0.4019 - val_auroc: 0.7745\n",
      "\n",
      "Epoch 00020: val_loss did not improve from 0.39858\n",
      "Restoring model weights from the end of the best epoch\n",
      "Epoch 00020: early stopping\n"
     ]
    }
   ],
   "source": [
    "history = model.fit(train_data_2,Y_train,batch_size=512,\n",
    "                        epochs=50,validation_data=(test_data_2,Y_test),callbacks=callbacks)"
   ]
  },
  {
   "cell_type": "code",
   "execution_count": 0,
   "metadata": {
    "colab": {
     "base_uri": "https://localhost:8080/",
     "height": 50
    },
    "colab_type": "code",
    "id": "of2Fq723QvQC",
    "outputId": "6d1000a0-d32f-4b3d-d000-9e73b97c34c1"
   },
   "outputs": [
    {
     "name": "stdout",
     "output_type": "stream",
     "text": [
      "21850/21850 [==============================] - 9s 406us/step\n"
     ]
    },
    {
     "data": {
      "text/plain": [
       "[0.4268264434730434, 0.7644445356184982]"
      ]
     },
     "execution_count": 79,
     "metadata": {
      "tags": []
     },
     "output_type": "execute_result"
    }
   ],
   "source": [
    "score = model.evaluate(test,Y_test,batch_size=512)\n",
    "score"
   ]
  },
  {
   "cell_type": "markdown",
   "metadata": {
    "colab_type": "text",
    "id": "i9c8DqimuN0a"
   },
   "source": [
    "**Topic modeling**"
   ]
  },
  {
   "cell_type": "code",
   "execution_count": 0,
   "metadata": {
    "colab": {
     "base_uri": "https://localhost:8080/",
     "height": 50
    },
    "colab_type": "code",
    "id": "LLM_ILJfEJAP",
    "outputId": "09a5370c-ffa3-4da7-88e7-e80c382d763f"
   },
   "outputs": [
    {
     "name": "stdout",
     "output_type": "stream",
     "text": [
      "21850/21850 [==============================] - 9s 409us/step\n"
     ]
    },
    {
     "data": {
      "text/plain": [
       "[0.3985768213724926, 0.7757516821346923]"
      ]
     },
     "execution_count": 54,
     "metadata": {
      "tags": []
     },
     "output_type": "execute_result"
    }
   ],
   "source": [
    "score = model.evaluate(test,Y_test,batch_size=512)\n",
    "score"
   ]
  },
  {
   "cell_type": "markdown",
   "metadata": {
    "colab_type": "text",
    "id": "OIIO55SQwVx4"
   },
   "source": [
    "### Plot"
   ]
  },
  {
   "cell_type": "code",
   "execution_count": 0,
   "metadata": {
    "colab": {
     "base_uri": "https://localhost:8080/",
     "height": 530
    },
    "colab_type": "code",
    "id": "98ftIg7Lwf0r",
    "outputId": "5fc3cc78-80b1-4ba3-de2d-2361bdc59518"
   },
   "outputs": [
    {
     "data": {
      "image/png": "[encoded data removed]",
      "text/plain": [
       "<Figure size 432x288 with 1 Axes>"
      ]
     },
     "metadata": {
      "tags": []
     },
     "output_type": "display_data"
    },
    {
     "data": {
      "image/png": "[encoded data removed]",
      "text/plain": [
       "<Figure size 432x288 with 1 Axes>"
      ]
     },
     "metadata": {
      "tags": []
     },
     "output_type": "display_data"
    }
   ],
   "source": [
    "sns.set()\n",
    "plt.plot(history.history['auroc'], 'r')\n",
    "plt.plot(history.history['val_auroc'], 'b')\n",
    "plt.legend({'Train ROCAUC': 'r', 'Test ROCAUC':'b'})\n",
    "plt.show()\n",
    "\n",
    "\n",
    "plt.plot(history.history['loss'], 'r')\n",
    "plt.plot(history.history['val_loss'], 'b')\n",
    "plt.legend({'Train Loss': 'r', 'Test Loss':'b'})\n",
    "plt.show()"
   ]
  },
  {
   "cell_type": "markdown",
   "metadata": {
    "colab_type": "text",
    "id": "am2z3kJLrR54"
   },
   "source": [
    "# Conclusion"
   ]
  },
  {
   "cell_type": "markdown",
   "metadata": {},
   "source": [
    "1. First tried with simple model or baseline model got auc of 0.50 which is bad.\n",
    "2. Tried regularizer like dropout and BatchNormalization got auc more then 0.50 i.e around 0.70.\n",
    "3. Tried various featurization technique auc was approx same in every featurization.\n",
    "4. Using Bi-directional and LSTM achieved more auc then 0.70 i.e around 0.76\n",
    "5. Tried adding more features like time based, word count, text length, sentiment polarity but auc was aprrox same.\n",
    "6. Tried different NLP technique like Topic modeling got auc of 0.7751\n",
    "7. Best model was featurization and extra feature of topic modeling."
   ]
  },
  {
   "cell_type": "code",
   "execution_count": 2,
   "metadata": {
    "colab": {},
    "colab_type": "code",
    "id": "FFaEwsJtqTSz"
   },
   "outputs": [
    {
     "name": "stdout",
     "output_type": "stream",
     "text": [
      "+-----------------------------------------------------------+--------+\n",
      "|                     Model with feature                    |  AUC   |\n",
      "+-----------------------------------------------------------+--------+\n",
      "|                 Mode with countvectorizer                 |  0.70  |\n",
      "|               Model essay feature using LSTM              |  0.74  |\n",
      "|     Model essay feature using Bi-directional lstm/Gru     |  0.76  |\n",
      "| Model essay feature with topic modeling as essay feature  | 0.7751 |\n",
      "+-----------------------------------------------------------+--------+\n"
     ]
    }
   ],
   "source": [
    "from prettytable import PrettyTable\n",
    "\n",
    "x = PrettyTable()\n",
    "x.field_names = ['Model with feature','AUC']\n",
    "x.add_row(['Mode with countvectorizer','0.70'])\n",
    "x.add_row(['Model essay feature using LSTM','0.74'])\n",
    "x.add_row(['Model essay feature using Bi-directional lstm/Gru ','0.76'])\n",
    "x.add_row(['Model essay feature with topic modeling as essay feature ','0.7751'])\n",
    "\n",
    "print(x)"
   ]
  },
  {
   "cell_type": "markdown",
   "metadata": {},
   "source": [
    "# Steps followed"
   ]
  },
  {
   "cell_type": "markdown",
   "metadata": {},
   "source": [
    "1. Importing package and loading the data<br>\n",
    "2. Performing EDA to get insgihts of data<br>\n",
    "3. Pre-processing the data and cleaning the data<br>\n",
    "4. Using featurization to convert text data into numerical form<br>\n",
    "5. Defining embedding matrix and input-output for all feature<br>\n",
    "6. Concatinating last layer of every feature to a single layer<br>\n",
    "7. Compile and training deep learning model i.e Keras<br>\n",
    "8. Tried with different hyperparameter tuning like dropout,BatchNormalization<br>\n",
    "9. Final step Conclusion<br>"
   ]
  },
  {
   "cell_type": "code",
   "execution_count": null,
   "metadata": {},
   "outputs": [],
   "source": []
  }
 ],
 "metadata": {
  "accelerator": "GPU",
  "colab": {
   "collapsed_sections": [],
   "name": "Lstm_donor_choose1.ipynb",
   "provenance": [],
   "version": "0.3.2"
  },
  "kernelspec": {
   "display_name": "Python 3",
   "language": "python",
   "name": "python3"
  },
  "language_info": {
   "codemirror_mode": {
    "name": "ipython",
    "version": 3
   },
   "file_extension": ".py",
   "mimetype": "text/x-python",
   "name": "python",
   "nbconvert_exporter": "python",
   "pygments_lexer": "ipython3",
   "version": "3.6.8"
  }
 },
 "nbformat": 4,
 "nbformat_minor": 1
}
