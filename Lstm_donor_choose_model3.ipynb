{
 "cells": [
  {
   "cell_type": "code",
   "execution_count": 1,
   "metadata": {
    "colab": {
     "base_uri": "https://localhost:8080/",
     "height": 34
    },
    "colab_type": "code",
    "id": "__NukAYoi7dO",
    "outputId": "5a71ffc8-7deb-4e96-f505-2b8581034026"
   },
   "outputs": [
    {
     "name": "stdout",
     "output_type": "stream",
     "text": [
      "Drive already mounted at /content/drive; to attempt to forcibly remount, call drive.mount(\"/content/drive\", force_remount=True).\n"
     ]
    }
   ],
   "source": [
    "from google.colab import drive\n",
    "drive.mount('/content/drive')"
   ]
  },
  {
   "cell_type": "markdown",
   "metadata": {
    "colab_type": "text",
    "id": "KDmz3fIlhV74"
   },
   "source": [
    "# Importing prequiste package for case study"
   ]
  },
  {
   "cell_type": "code",
   "execution_count": 2,
   "metadata": {
    "colab": {
     "base_uri": "https://localhost:8080/",
     "height": 34
    },
    "colab_type": "code",
    "id": "Lf6WdgPF2BEt",
    "outputId": "8774af2d-d546-43d5-c589-4d8620c330c3"
   },
   "outputs": [
    {
     "name": "stderr",
     "output_type": "stream",
     "text": [
      "Using TensorFlow backend.\n"
     ]
    }
   ],
   "source": [
    "# importing required libraries\n",
    "import warnings\n",
    "warnings.filterwarnings(\"ignore\")\n",
    "import pandas as pd\n",
    "import numpy as np\n",
    "from keras.layers import Input, Embedding, LSTM, Dropout, BatchNormalization, Dense, concatenate, Flatten, Conv1D, MaxPool1D, LeakyReLU, ELU, SpatialDropout1D, MaxPooling1D, GlobalAveragePooling1D, GlobalMaxPooling1D\n",
    "from keras.preprocessing.text import Tokenizer, one_hot\n",
    "from keras.preprocessing.sequence import pad_sequences\n",
    "from keras.models import Model, load_model\n",
    "from keras import regularizers\n",
    "from keras.optimizers import *\n",
    "from keras.callbacks import ModelCheckpoint, EarlyStopping, TensorBoard, ReduceLROnPlateau\n",
    "from sklearn.feature_extraction.text import TfidfVectorizer, CountVectorizer\n",
    "from sklearn.metrics import roc_auc_score\n",
    "import tensorflow as tf\n",
    "import matplotlib.pyplot as plt\n",
    "%matplotlib inline\n",
    "import re\n",
    "from tqdm import tqdm\n",
    "from sklearn.preprocessing import LabelEncoder\n",
    "import seaborn as sns\n",
    "import pickle"
   ]
  },
  {
   "cell_type": "markdown",
   "metadata": {
    "colab_type": "text",
    "id": "Dd3vRzEXhcly"
   },
   "source": [
    "### Pre-processing steps"
   ]
  },
  {
   "cell_type": "code",
   "execution_count": 0,
   "metadata": {
    "colab": {},
    "colab_type": "code",
    "id": "7jMmPn3J2SfJ"
   },
   "outputs": [],
   "source": [
    "# We clean the essay text data\n",
    "# For this task, we have defined some helper functions\n",
    "# The same function and code snippet will be used to clean project title\n",
    "# https://stackoverflow.com/a/47091490/4084039\n",
    "\n",
    "def decontracted(phrase):\n",
    "    # specific\n",
    "    phrase = re.sub(r\"won't\", \"will not\", phrase)\n",
    "    phrase = re.sub(r\"can\\'t\", \"can not\", phrase)\n",
    "\n",
    "    # general\n",
    "    phrase = re.sub(r\"n\\'t\", \" not\", phrase)\n",
    "    phrase = re.sub(r\"\\'re\", \" are\", phrase)\n",
    "    phrase = re.sub(r\"\\'s\", \" is\", phrase)\n",
    "    phrase = re.sub(r\"\\'d\", \" would\", phrase)\n",
    "    phrase = re.sub(r\"\\'ll\", \" will\", phrase)\n",
    "    phrase = re.sub(r\"\\'t\", \" not\", phrase)\n",
    "    phrase = re.sub(r\"\\'ve\", \" have\", phrase)\n",
    "    phrase = re.sub(r\"\\'m\", \" am\", phrase)\n",
    "    return phrase\n",
    "\n",
    "# https://gist.github.com/sebleier/554280\n",
    "\n",
    "stopwords= ['i', 'me', 'my', 'myself', 'we', 'our', 'ours', 'ourselves', 'you', \"you're\", \"you've\",\\\n",
    "            \"you'll\", \"you'd\", 'your', 'yours', 'yourself', 'yourselves', 'he', 'him', 'his', 'himself', \\\n",
    "            'she', \"she's\", 'her', 'hers', 'herself', 'it', \"it's\", 'its', 'itself', 'they', 'them', 'their',\\\n",
    "            'theirs', 'themselves', 'what', 'which', 'who', 'whom', 'this', 'that', \"that'll\", 'these', 'those', \\\n",
    "            'am', 'is', 'are', 'was', 'were', 'be', 'been', 'being', 'have', 'has', 'had', 'having', 'do', 'does', \\\n",
    "            'did', 'doing', 'a', 'an', 'the', 'and', 'but', 'if', 'or', 'because', 'as', 'until', 'while', 'of', \\\n",
    "            'at', 'by', 'for', 'with', 'about', 'against', 'between', 'into', 'through', 'during', 'before', 'after',\\\n",
    "            'above', 'below', 'to', 'from', 'up', 'down', 'in', 'out', 'on', 'off', 'over', 'under', 'again', 'further',\\\n",
    "            'then', 'once', 'here', 'there', 'when', 'where', 'why', 'how', 'all', 'any', 'both', 'each', 'few', 'more',\\\n",
    "            'most', 'other', 'some', 'such', 'only', 'own', 'same', 'so', 'than', 'too', 'very', \\\n",
    "            's', 't', 'can', 'will', 'just', 'don', \"don't\", 'should', \"should've\", 'now', 'd', 'll', 'm', 'o', 're', \\\n",
    "            've', 'y', 'ain', 'aren', \"aren't\", 'couldn', \"couldn't\", 'didn', \"didn't\", 'doesn', \"doesn't\", 'hadn',\\\n",
    "            \"hadn't\", 'hasn', \"hasn't\", 'haven', \"haven't\", 'isn', \"isn't\", 'ma', 'mightn', \"mightn't\", 'mustn',\\\n",
    "            \"mustn't\", 'needn', \"needn't\", 'shan', \"shan't\", 'shouldn', \"shouldn't\", 'wasn', \"wasn't\", 'weren', \"weren't\", \\\n",
    "            'won', \"won't\", 'wouldn', \"wouldn't\"]"
   ]
  },
  {
   "cell_type": "code",
   "execution_count": 0,
   "metadata": {
    "colab": {
     "base_uri": "https://localhost:8080/",
     "height": 34
    },
    "colab_type": "code",
    "id": "2EVJ0roL25m8",
    "outputId": "f87b562c-43a2-421c-e0b2-ab0d3f010936"
   },
   "outputs": [
    {
     "name": "stderr",
     "output_type": "stream",
     "text": [
      "100%|██████████| 109248/109248 [01:00<00:00, 1818.57it/s]\n"
     ]
    }
   ],
   "source": [
    "# Cleaning Text feature\n",
    "preprocessed_text = []\n",
    "# tqdm is for printing the status bar\n",
    "for sentance in tqdm(project_data['text'].values):\n",
    "    sent = decontracted(sentance)\n",
    "    sent = sent.replace('\\\\r', ' ')\n",
    "    sent = sent.replace('\\\\\"', ' ')\n",
    "    sent = sent.replace('\\\\n', ' ')\n",
    "    sent = re.sub('[^A-Za-z0-9]+', ' ', sent)\n",
    "    # https://gist.github.com/sebleier/554280\n",
    "    sent = ' '.join(e for e in sent.split() if e not in stopwords)\n",
    "    preprocessed_text.append(sent.lower().strip())"
   ]
  },
  {
   "cell_type": "code",
   "execution_count": 0,
   "metadata": {
    "colab": {},
    "colab_type": "code",
    "id": "U17OhDeb7_Ef"
   },
   "outputs": [],
   "source": [
    "project_data[\"clean_text\"] = preprocessed_text"
   ]
  },
  {
   "cell_type": "code",
   "execution_count": 0,
   "metadata": {
    "colab": {},
    "colab_type": "code",
    "id": "9fAjL07B8BAN"
   },
   "outputs": [],
   "source": [
    "project_data = project_data.drop(['Unnamed: 0', 'id', 'teacher_id',\n",
    "                                  'project_submitted_datetime','text'],axis=1)"
   ]
  },
  {
   "cell_type": "code",
   "execution_count": 0,
   "metadata": {
    "colab": {},
    "colab_type": "code",
    "id": "1qm33b-g8Dfk"
   },
   "outputs": [],
   "source": [
    "# we have categorical features also, will do cleaning one by one\n",
    "\n",
    "# https://stackoverflow.com/questions/36383821/pandas-dataframe-apply-function-to-column-strings-based-on-other-column-value\n",
    "project_data['project_grade_category'] = project_data['project_grade_category'].str.replace(' ','_')\n",
    "project_data['project_grade_category'] = project_data['project_grade_category'].str.replace('-','_')\n",
    "project_data['project_grade_category'] = project_data['project_grade_category'].str.lower()\n",
    "\n",
    "\n",
    "project_data['project_subject_categories'] = project_data['project_subject_categories'].str.replace(' The ','')\n",
    "project_data['project_subject_categories'] = project_data['project_subject_categories'].str.replace(' ','')\n",
    "project_data['project_subject_categories'] = project_data['project_subject_categories'].str.replace('&','_')\n",
    "project_data['project_subject_categories'] = project_data['project_subject_categories'].str.replace(',','_')\n",
    "project_data['project_subject_categories'] = project_data['project_subject_categories'].str.lower()\n",
    "\n",
    "\n",
    "project_data['teacher_prefix']=project_data['teacher_prefix'].fillna('Mrs.')\n",
    "project_data['teacher_prefix'] = project_data['teacher_prefix'].str.replace('.','')\n",
    "project_data['teacher_prefix'] = project_data['teacher_prefix'].str.lower()\n",
    "\n",
    "\n",
    "project_data['project_subject_subcategories'] = project_data['project_subject_subcategories'].str.replace(' The ','')\n",
    "project_data['project_subject_subcategories'] = project_data['project_subject_subcategories'].str.replace(' ','')\n",
    "project_data['project_subject_subcategories'] = project_data['project_subject_subcategories'].str.replace('&','_')\n",
    "project_data['project_subject_subcategories'] = project_data['project_subject_subcategories'].str.replace(',','_')\n",
    "project_data['project_subject_subcategories'] = project_data['project_subject_subcategories'].str.lower()\n",
    "\n",
    "project_data['school_state'] = project_data['school_state'].str.lower()"
   ]
  },
  {
   "cell_type": "code",
   "execution_count": 0,
   "metadata": {
    "colab": {
     "base_uri": "https://localhost:8080/",
     "height": 34
    },
    "colab_type": "code",
    "id": "Vol78Lg18FuF",
    "outputId": "8446c94f-1e13-47bb-f063-df7a9a91c718"
   },
   "outputs": [
    {
     "name": "stderr",
     "output_type": "stream",
     "text": [
      "100%|██████████| 109248/109248 [00:01<00:00, 71911.93it/s]\n"
     ]
    }
   ],
   "source": [
    "# we will extract numerical digits from the project resource summary\n",
    "\n",
    "project_summary_numerical = []\n",
    "for sentance in tqdm(project_data['project_resource_summary']):\n",
    "    sent1 = decontracted(sentance)\n",
    "    sent1 = ' '.join(e for e in sent1.split() if e.isdigit())\n",
    "    k=len(sent1)\n",
    "    project_summary_numerical.append(k)\n",
    "\n",
    "project_data[\"project_summary_numerical\"] = project_summary_numerical"
   ]
  },
  {
   "cell_type": "markdown",
   "metadata": {
    "colab_type": "text",
    "id": "NJRb9SdOhiEf"
   },
   "source": [
    "### Loading data and topic modeling feature files"
   ]
  },
  {
   "cell_type": "code",
   "execution_count": 0,
   "metadata": {
    "colab": {},
    "colab_type": "code",
    "id": "wGr2-wZEZSQ0"
   },
   "outputs": [],
   "source": [
    "project_data = pd.read_csv('/content/drive/My Drive/project_data2.csv')"
   ]
  },
  {
   "cell_type": "code",
   "execution_count": 4,
   "metadata": {
    "colab": {
     "base_uri": "https://localhost:8080/",
     "height": 244
    },
    "colab_type": "code",
    "id": "TKqqaiDzkTMv",
    "outputId": "b7a4ba09-5c69-46b8-ba6e-2a81b0bb8db0"
   },
   "outputs": [
    {
     "data": {
      "text/html": [
       "<div>\n",
       "<style scoped>\n",
       "    .dataframe tbody tr th:only-of-type {\n",
       "        vertical-align: middle;\n",
       "    }\n",
       "\n",
       "    .dataframe tbody tr th {\n",
       "        vertical-align: top;\n",
       "    }\n",
       "\n",
       "    .dataframe thead th {\n",
       "        text-align: right;\n",
       "    }\n",
       "</style>\n",
       "<table border=\"1\" class=\"dataframe\">\n",
       "  <thead>\n",
       "    <tr style=\"text-align: right;\">\n",
       "      <th></th>\n",
       "      <th>teacher_prefix</th>\n",
       "      <th>school_state</th>\n",
       "      <th>project_submitted_datetime</th>\n",
       "      <th>project_grade_category</th>\n",
       "      <th>project_title</th>\n",
       "      <th>project_essay_1</th>\n",
       "      <th>project_essay_2</th>\n",
       "      <th>project_essay_3</th>\n",
       "      <th>project_essay_4</th>\n",
       "      <th>project_resource_summary</th>\n",
       "      <th>teacher_number_of_previously_posted_projects</th>\n",
       "      <th>project_is_approved</th>\n",
       "      <th>clean_categories</th>\n",
       "      <th>clean_subcategories</th>\n",
       "      <th>price</th>\n",
       "      <th>quantity</th>\n",
       "      <th>digit_in_summary</th>\n",
       "      <th>clean_text</th>\n",
       "      <th>month</th>\n",
       "      <th>weekday</th>\n",
       "      <th>hour</th>\n",
       "      <th>month_Day</th>\n",
       "      <th>project_summary_numerical</th>\n",
       "    </tr>\n",
       "  </thead>\n",
       "  <tbody>\n",
       "    <tr>\n",
       "      <th>0</th>\n",
       "      <td>mrs</td>\n",
       "      <td>in</td>\n",
       "      <td>2016-12-05 13:43:57</td>\n",
       "      <td>grades_prek_2</td>\n",
       "      <td>Educational Support for English Learners at Home</td>\n",
       "      <td>My students are English learners that are work...</td>\n",
       "      <td>\\\"The limits of your language are the limits o...</td>\n",
       "      <td>NaN</td>\n",
       "      <td>NaN</td>\n",
       "      <td>My students need opportunities to practice beg...</td>\n",
       "      <td>0</td>\n",
       "      <td>0</td>\n",
       "      <td>literacy_language</td>\n",
       "      <td>eslliteracy</td>\n",
       "      <td>154.6</td>\n",
       "      <td>23</td>\n",
       "      <td>0</td>\n",
       "      <td>my students english learners working english s...</td>\n",
       "      <td>12</td>\n",
       "      <td>0</td>\n",
       "      <td>13</td>\n",
       "      <td>5</td>\n",
       "      <td>0</td>\n",
       "    </tr>\n",
       "    <tr>\n",
       "      <th>1</th>\n",
       "      <td>mr</td>\n",
       "      <td>fl</td>\n",
       "      <td>2016-10-25 09:22:10</td>\n",
       "      <td>grades_6_8</td>\n",
       "      <td>Wanted: Projector for Hungry Learners</td>\n",
       "      <td>Our students arrive to our school eager to lea...</td>\n",
       "      <td>The projector we need for our school is very c...</td>\n",
       "      <td>NaN</td>\n",
       "      <td>NaN</td>\n",
       "      <td>My students need a projector to help with view...</td>\n",
       "      <td>7</td>\n",
       "      <td>1</td>\n",
       "      <td>history_civicshealth_sports</td>\n",
       "      <td>civics_governmentteamsports</td>\n",
       "      <td>299.0</td>\n",
       "      <td>1</td>\n",
       "      <td>0</td>\n",
       "      <td>our students arrive school eager learn they po...</td>\n",
       "      <td>10</td>\n",
       "      <td>1</td>\n",
       "      <td>9</td>\n",
       "      <td>25</td>\n",
       "      <td>0</td>\n",
       "    </tr>\n",
       "  </tbody>\n",
       "</table>\n",
       "</div>"
      ],
      "text/plain": [
       "  teacher_prefix school_state  ... month_Day project_summary_numerical\n",
       "0            mrs           in  ...         5                         0\n",
       "1             mr           fl  ...        25                         0\n",
       "\n",
       "[2 rows x 23 columns]"
      ]
     },
     "execution_count": 4,
     "metadata": {
      "tags": []
     },
     "output_type": "execute_result"
    }
   ],
   "source": [
    "project_data.head(2)"
   ]
  },
  {
   "cell_type": "code",
   "execution_count": 0,
   "metadata": {
    "colab": {},
    "colab_type": "code",
    "id": "4FxieNPlGNnm"
   },
   "outputs": [],
   "source": [
    "target = project_data[\"project_is_approved\"]\n",
    "features = project_data.drop([\"project_resource_summary\",\"project_is_approved\"],axis=1)"
   ]
  },
  {
   "cell_type": "markdown",
   "metadata": {
    "colab_type": "text",
    "id": "F3LIq_GMriQl"
   },
   "source": [
    "### Splitting data into train and test"
   ]
  },
  {
   "cell_type": "code",
   "execution_count": 0,
   "metadata": {
    "colab": {},
    "colab_type": "code",
    "id": "TwnCJ300GRRR"
   },
   "outputs": [],
   "source": [
    "# We split our dataset into train,cross-validation and test set\n",
    "from sklearn.model_selection import train_test_split\n",
    "X_train, X_test, y_train, y_test = train_test_split(features, target, stratify=target,test_size=0.20,random_state=123)"
   ]
  },
  {
   "cell_type": "markdown",
   "metadata": {
    "colab_type": "text",
    "id": "g9yi9NSUrn4d"
   },
   "source": [
    "#### Vectorizing our text feature"
   ]
  },
  {
   "cell_type": "code",
   "execution_count": 0,
   "metadata": {
    "colab": {},
    "colab_type": "code",
    "id": "obx3wLdHI7Wz"
   },
   "outputs": [],
   "source": [
    "# Filtering Text Data based on idf values\n",
    "\n",
    "tfidf = TfidfVectorizer()\n",
    "combine_tfidf = tfidf.fit_transform(X_train[\"clean_text\"])\n",
    "\n",
    "# converting to dictionary\n",
    "combine_dict = dict(zip(tfidf.get_feature_names(),list(tfidf.idf_)))"
   ]
  },
  {
   "cell_type": "code",
   "execution_count": 0,
   "metadata": {
    "colab": {},
    "colab_type": "code",
    "id": "MOokcKFcjNqK"
   },
   "outputs": [],
   "source": [
    "tfidf_df = pd.DataFrame(list(combine_dict.items()), columns=['Words', 'IDF Values'])"
   ]
  },
  {
   "cell_type": "code",
   "execution_count": 0,
   "metadata": {
    "colab": {},
    "colab_type": "code",
    "id": "ixQx4A6EjTXd"
   },
   "outputs": [],
   "source": [
    "tfidf_df = tfidf_df.sort_values(by ='IDF Values' )"
   ]
  },
  {
   "cell_type": "code",
   "execution_count": 0,
   "metadata": {
    "colab": {},
    "colab_type": "code",
    "id": "x4t_RAmGQ8Qr"
   },
   "outputs": [],
   "source": [
    "corpus = tfidf_df[\"Words\"].tolist()"
   ]
  },
  {
   "cell_type": "code",
   "execution_count": 0,
   "metadata": {
    "colab": {},
    "colab_type": "code",
    "id": "cc2f27XNSdiI"
   },
   "outputs": [],
   "source": [
    "# convert the sentences (strings) into integers\n",
    "tokenizer = Tokenizer()\n",
    "tokenizer.fit_on_texts(corpus)\n",
    "sequences_train = tokenizer.texts_to_sequences(X_train[\"clean_text\"])\n",
    "sequences_test = tokenizer.texts_to_sequences(X_test[\"clean_text\"])"
   ]
  },
  {
   "cell_type": "code",
   "execution_count": 12,
   "metadata": {
    "colab": {
     "base_uri": "https://localhost:8080/",
     "height": 34
    },
    "colab_type": "code",
    "id": "MJ57Z90rTVfX",
    "outputId": "89a22cb1-1b94-4915-c12c-8b6f2d2b6b81"
   },
   "outputs": [
    {
     "name": "stdout",
     "output_type": "stream",
     "text": [
      "Found 51720 unique tokens.\n"
     ]
    }
   ],
   "source": [
    "# get word -> integer mapping\n",
    "word2idx = tokenizer.word_index\n",
    "print('Found %s unique tokens.' % len(word2idx))"
   ]
  },
  {
   "cell_type": "code",
   "execution_count": 13,
   "metadata": {
    "colab": {
     "base_uri": "https://localhost:8080/",
     "height": 34
    },
    "colab_type": "code",
    "id": "3EN_4lpTTldT",
    "outputId": "8fdc8c8b-030f-4749-e80b-05cbe16f3053"
   },
   "outputs": [
    {
     "name": "stdout",
     "output_type": "stream",
     "text": [
      "Shape of data tensor: (87398, 300)\n"
     ]
    }
   ],
   "source": [
    "encoded_train = pad_sequences(sequences_train,maxlen=300,padding='post', truncating='post')\n",
    "print('Shape of data tensor:', encoded_train.shape)"
   ]
  },
  {
   "cell_type": "code",
   "execution_count": 14,
   "metadata": {
    "colab": {
     "base_uri": "https://localhost:8080/",
     "height": 34
    },
    "colab_type": "code",
    "id": "6JABIn5eTqlm",
    "outputId": "50fed050-f7d6-4566-d178-03143e04c187"
   },
   "outputs": [
    {
     "name": "stdout",
     "output_type": "stream",
     "text": [
      "Shape of data tensor: (21850, 300)\n"
     ]
    }
   ],
   "source": [
    "encoded_test = pad_sequences(sequences_test, maxlen=300,padding='post', truncating='post')\n",
    "print('Shape of data tensor:', encoded_test.shape)"
   ]
  },
  {
   "cell_type": "code",
   "execution_count": 0,
   "metadata": {
    "colab": {},
    "colab_type": "code",
    "id": "EAm411ywTva3"
   },
   "outputs": [],
   "source": [
    "# Loading Embedding File\n",
    "\n",
    "pickle_in = open(\"drive/My Drive/Lstm_donor_choose/glove_vectors\",\"rb\")\n",
    "glove_words = pickle.load(pickle_in)"
   ]
  },
  {
   "cell_type": "markdown",
   "metadata": {
    "colab_type": "text",
    "id": "uhG-VdSxrs90"
   },
   "source": [
    "#### Embedding matrix"
   ]
  },
  {
   "cell_type": "code",
   "execution_count": 0,
   "metadata": {
    "colab": {},
    "colab_type": "code",
    "id": "JECq4w56T3u-"
   },
   "outputs": [],
   "source": [
    "num_words = len(word2idx) + 1\n",
    "embedding_matrix = np.zeros((num_words, 300))\n",
    "for word, i in word2idx.items():\n",
    "  if i < 13271:\n",
    "    embedding_vector = glove_words.get(word)\n",
    "    if embedding_vector is not None:\n",
    "      # words not found in embedding index will be all zeros.\n",
    "      embedding_matrix[i] = embedding_vector"
   ]
  },
  {
   "cell_type": "code",
   "execution_count": 17,
   "metadata": {
    "colab": {
     "base_uri": "https://localhost:8080/",
     "height": 272
    },
    "colab_type": "code",
    "id": "Hr9PlJSRUGQo",
    "outputId": "420660df-e499-4867-b6dc-3ab6873c9a45"
   },
   "outputs": [
    {
     "name": "stderr",
     "output_type": "stream",
     "text": [
      "WARNING: Logging before flag parsing goes to stderr.\n",
      "W0905 08:04:48.295456 140092391679872 deprecation_wrapper.py:119] From /usr/local/lib/python3.6/dist-packages/keras/backend/tensorflow_backend.py:66: The name tf.get_default_graph is deprecated. Please use tf.compat.v1.get_default_graph instead.\n",
      "\n",
      "W0905 08:04:48.316234 140092391679872 deprecation_wrapper.py:119] From /usr/local/lib/python3.6/dist-packages/keras/backend/tensorflow_backend.py:541: The name tf.placeholder is deprecated. Please use tf.compat.v1.placeholder instead.\n",
      "\n",
      "W0905 08:04:48.319796 140092391679872 deprecation_wrapper.py:119] From /usr/local/lib/python3.6/dist-packages/keras/backend/tensorflow_backend.py:4432: The name tf.random_uniform is deprecated. Please use tf.random.uniform instead.\n",
      "\n",
      "W0905 08:04:48.331636 140092391679872 deprecation_wrapper.py:119] From /usr/local/lib/python3.6/dist-packages/keras/backend/tensorflow_backend.py:190: The name tf.get_default_session is deprecated. Please use tf.compat.v1.get_default_session instead.\n",
      "\n",
      "W0905 08:04:48.332684 140092391679872 deprecation_wrapper.py:119] From /usr/local/lib/python3.6/dist-packages/keras/backend/tensorflow_backend.py:197: The name tf.ConfigProto is deprecated. Please use tf.compat.v1.ConfigProto instead.\n",
      "\n",
      "W0905 08:04:49.384975 140092391679872 deprecation.py:506] From /usr/local/lib/python3.6/dist-packages/keras/backend/tensorflow_backend.py:3733: calling dropout (from tensorflow.python.ops.nn_ops) with keep_prob is deprecated and will be removed in a future version.\n",
      "Instructions for updating:\n",
      "Please use `rate` instead of `keep_prob`. Rate should be set to `rate = 1 - keep_prob`.\n"
     ]
    }
   ],
   "source": [
    "# load pre-trained word embeddings into an Embedding layer which already trained on text data\n",
    "embedding_layer = Embedding(\n",
    "  num_words,\n",
    "  300,\n",
    "  weights=[embedding_matrix],\n",
    "  input_length=300,\n",
    "  trainable=False\n",
    ")\n",
    "input_essay_text = Input(shape=(300,),name=\"input_text\")\n",
    "x = embedding_layer(input_essay_text)\n",
    "x = LSTM(100,recurrent_dropout=0.5,kernel_regularizer=regularizers.l2(0.001),return_sequences=True)(x)\n",
    "flatten_essay_layer = Flatten()(x)"
   ]
  },
  {
   "cell_type": "markdown",
   "metadata": {
    "colab_type": "text",
    "id": "FJbxKnh-JpuK"
   },
   "source": [
    "## Here we will be using Countvectorizer for remaining features"
   ]
  },
  {
   "cell_type": "markdown",
   "metadata": {
    "colab_type": "text",
    "id": "7fC52r-Ns1Tb"
   },
   "source": [
    "#### Teacher Prefix feature"
   ]
  },
  {
   "cell_type": "code",
   "execution_count": 0,
   "metadata": {
    "colab": {},
    "colab_type": "code",
    "id": "vPrm1wdOUar2"
   },
   "outputs": [],
   "source": [
    "prefix_vectorizer = CountVectorizer(binary=True)\n",
    "\n",
    "encoder_prefix_train = prefix_vectorizer.fit_transform(X_train[\"teacher_prefix\"])\n",
    "encoder_prefix_test = prefix_vectorizer.transform(X_test[\"teacher_prefix\"])"
   ]
  },
  {
   "cell_type": "markdown",
   "metadata": {
    "colab_type": "text",
    "id": "GaK4ZCpEs6D1"
   },
   "source": [
    "### School state feature"
   ]
  },
  {
   "cell_type": "code",
   "execution_count": 0,
   "metadata": {
    "colab": {},
    "colab_type": "code",
    "id": "XqMhsGeGUbS5"
   },
   "outputs": [],
   "source": [
    "school_state_vectorizer = CountVectorizer(binary=True)\n",
    "\n",
    "encoder_state_train = school_state_vectorizer.fit_transform(X_train[\"school_state\"])\n",
    "encoder_state_test = school_state_vectorizer.transform(X_test[\"school_state\"])"
   ]
  },
  {
   "cell_type": "markdown",
   "metadata": {
    "colab_type": "text",
    "id": "V5Pw5a3ms9_V"
   },
   "source": [
    "### Project Grade category"
   ]
  },
  {
   "cell_type": "code",
   "execution_count": 0,
   "metadata": {
    "colab": {},
    "colab_type": "code",
    "id": "FZWQUDo6UfT9"
   },
   "outputs": [],
   "source": [
    "project_grade_vectorizer = CountVectorizer(binary=True)\n",
    "\n",
    "encoder_grade_train = project_grade_vectorizer.fit_transform(X_train[\"project_grade_category\"])\n",
    "encoder_grade_test = project_grade_vectorizer.transform(X_test[\"project_grade_category\"])"
   ]
  },
  {
   "cell_type": "markdown",
   "metadata": {
    "colab_type": "text",
    "id": "4uo30_ZWtBy1"
   },
   "source": [
    "### Clean category"
   ]
  },
  {
   "cell_type": "code",
   "execution_count": 0,
   "metadata": {
    "colab": {},
    "colab_type": "code",
    "id": "159yl5QSUiVb"
   },
   "outputs": [],
   "source": [
    "project_category_vectorizer = CountVectorizer(binary=True)\n",
    "\n",
    "encoder_cat_train = project_category_vectorizer.fit_transform(X_train[\"clean_categories\"])\n",
    "encoder_cat_test = project_category_vectorizer.transform(X_test[\"clean_categories\"])"
   ]
  },
  {
   "cell_type": "markdown",
   "metadata": {
    "colab_type": "text",
    "id": "lipqEgPVtFwe"
   },
   "source": [
    "### Clean sub category"
   ]
  },
  {
   "cell_type": "code",
   "execution_count": 0,
   "metadata": {
    "colab": {},
    "colab_type": "code",
    "id": "8jIyrt_vUl-z"
   },
   "outputs": [],
   "source": [
    "project_subcategory_vectorizer = CountVectorizer(binary=True)\n",
    "\n",
    "encoder_subcat_train = project_subcategory_vectorizer.fit_transform(X_train[\"clean_subcategories\"])\n",
    "encoder_subcat_test = project_subcategory_vectorizer.transform(X_test[\"clean_subcategories\"])"
   ]
  },
  {
   "cell_type": "markdown",
   "metadata": {
    "colab_type": "text",
    "id": "n4LWxp3gtJ4g"
   },
   "source": [
    "### Numerical feature"
   ]
  },
  {
   "cell_type": "markdown",
   "metadata": {
    "colab_type": "text",
    "id": "XxQKzZqctO-d"
   },
   "source": [
    "**Tried with extra time based feature result was approx same so neglected time based feature**"
   ]
  },
  {
   "cell_type": "code",
   "execution_count": 0,
   "metadata": {
    "colab": {},
    "colab_type": "code",
    "id": "oQBj37ICUreV"
   },
   "outputs": [],
   "source": [
    "num_train_1=X_train['project_summary_numerical'].values.reshape(-1, 1)\n",
    "num_train_2=X_train['price'].values.reshape(-1, 1)\n",
    "num_train_3=X_train['quantity'].values.reshape(-1, 1)\n",
    "num_train_4=X_train['teacher_number_of_previously_posted_projects'].values.reshape(-1, 1)\n",
    "# num_train_5=X_train['month'].values.reshape(-1,1) \n",
    "# num_train_6=X_train['month_Day'].values.reshape(-1,1)\n",
    "# num_train_7=X_train['weekday'].values.reshape(-1,1)\n",
    "# num_train_8=X_train['hour'].values.reshape(-1,1) \n",
    "\n",
    "\n",
    "num_test_1=X_test['project_summary_numerical'].values.reshape(-1, 1)\n",
    "num_test_2=X_test['price'].values.reshape(-1, 1)\n",
    "num_test_3=X_test['quantity'].values.reshape(-1, 1)\n",
    "num_test_4=X_test['teacher_number_of_previously_posted_projects'].values.reshape(-1, 1)\n",
    "# num_test_5=X_test['month'].values.reshape(-1,1) \n",
    "# num_test_6=X_test['month_Day'].values.reshape(-1,1)\n",
    "# num_test_7=X_test['weekday'].values.reshape(-1,1)\n",
    "# num_test_8=X_test['hour'].values.reshape(-1,1)\n",
    "\n",
    "num_train=np.concatenate((num_train_1,num_train_2,num_train_3,num_train_4),axis=1)\n",
    "\n",
    "num_test=np.concatenate((num_test_1,num_test_2,num_test_3,num_test_4),axis=1)\n"
   ]
  },
  {
   "cell_type": "markdown",
   "metadata": {
    "colab_type": "text",
    "id": "phmCP50HtZhp"
   },
   "source": [
    "**Standarize our numerical data**"
   ]
  },
  {
   "cell_type": "code",
   "execution_count": 0,
   "metadata": {
    "colab": {},
    "colab_type": "code",
    "id": "e7zhbrF-UuJw"
   },
   "outputs": [],
   "source": [
    "from sklearn.preprocessing import StandardScaler\n",
    "scaler=StandardScaler()\n",
    "numerical_train=scaler.fit_transform(num_train)\n",
    "numerical_test=scaler.transform(num_test)"
   ]
  },
  {
   "cell_type": "code",
   "execution_count": 0,
   "metadata": {
    "colab": {},
    "colab_type": "code",
    "id": "YpUOtFmQJ5Ut"
   },
   "outputs": [],
   "source": [
    "from scipy.sparse import hstack\n",
    "\n",
    "train1 = hstack([encoder_prefix_train,encoder_state_train,encoder_grade_train,encoder_cat_train,encoder_subcat_train]).todense()\n",
    "test1 = hstack([encoder_prefix_test,encoder_state_test,encoder_grade_test,encoder_cat_test,encoder_subcat_test]).todense()"
   ]
  },
  {
   "cell_type": "code",
   "execution_count": 0,
   "metadata": {
    "colab": {},
    "colab_type": "code",
    "id": "uwgSbjfvKk7Q"
   },
   "outputs": [],
   "source": [
    "train2 = np.hstack((train1,numerical_train))\n",
    "test2 = np.hstack((test1,numerical_test))"
   ]
  },
  {
   "cell_type": "code",
   "execution_count": 0,
   "metadata": {
    "colab": {},
    "colab_type": "code",
    "id": "FNt1kId9LQGt"
   },
   "outputs": [],
   "source": [
    "train3 = np.expand_dims(train2,2)\n",
    "test3 = np.expand_dims(test2,2)"
   ]
  },
  {
   "cell_type": "code",
   "execution_count": 28,
   "metadata": {
    "colab": {
     "base_uri": "https://localhost:8080/",
     "height": 34
    },
    "colab_type": "code",
    "id": "pHvrc8scLf0H",
    "outputId": "fa2a9f92-dbee-476a-c26f-692fdd69d6ae"
   },
   "outputs": [
    {
     "data": {
      "text/plain": [
       "(87398, 513, 1)"
      ]
     },
     "execution_count": 28,
     "metadata": {
      "tags": []
     },
     "output_type": "execute_result"
    }
   ],
   "source": [
    "train3.shape"
   ]
  },
  {
   "cell_type": "markdown",
   "metadata": {
    "colab_type": "text",
    "id": "CzhKHg6EtgFY"
   },
   "source": [
    "### Defining Convolutional Layer "
   ]
  },
  {
   "cell_type": "code",
   "execution_count": 0,
   "metadata": {
    "colab": {},
    "colab_type": "code",
    "id": "V6ZT1qb9UvMc"
   },
   "outputs": [],
   "source": [
    "inp_conv =  Input(shape=(513, 1),name='Combine_feature')\n",
    "x1 = Conv1D(filters=128, kernel_size=3, activation='relu',kernel_initializer=\"he_normal\")(inp_conv)\n",
    "x1 = Conv1D(filters=128, kernel_size=3, activation='relu',kernel_initializer=\"he_normal\")(x1)\n",
    "x3 = Flatten()(x1)"
   ]
  },
  {
   "cell_type": "markdown",
   "metadata": {
    "colab_type": "text",
    "id": "EAjK-fzgtlte"
   },
   "source": [
    "### Concatinating our all feature last layer to single layer"
   ]
  },
  {
   "cell_type": "code",
   "execution_count": 0,
   "metadata": {
    "colab": {},
    "colab_type": "code",
    "id": "qdr01YfxUyFo"
   },
   "outputs": [],
   "source": [
    "x_concatenate = concatenate([flatten_essay_layer,x3])\n",
    "# x_concatenate = BatchNormalization()(x_concatenate)\n",
    "x = Dense(128,activation=\"relu\",kernel_initializer=\"he_normal\",kernel_regularizer=regularizers.l2(0.001))(x_concatenate)\n",
    "# x=LeakyReLU(alpha=0.3)(x)\n",
    "x=Dropout(0.5)(x)\n",
    "x = Dense(64,activation=\"relu\",kernel_initializer=\"he_normal\",kernel_regularizer=regularizers.l2(0.001))(x)\n",
    "# x=LeakyReLU(alpha=0.3)(x)\n",
    "x=Dropout(0.3)(x)\n",
    "x = Dense(32,activation=\"relu\",kernel_initializer=\"he_normal\",kernel_regularizer=regularizers.l2(0.001))(x)\n",
    "# x = BatchNormalization()(x)\n",
    "# x=LeakyReLU(alpha=0.3)(x)\n",
    "output = Dense(2, activation='softmax', name='output')(x)\n",
    "model = Model(inputs=[input_essay_text,inp_conv],outputs=[output])"
   ]
  },
  {
   "cell_type": "code",
   "execution_count": 42,
   "metadata": {
    "colab": {
     "base_uri": "https://localhost:8080/",
     "height": 607
    },
    "colab_type": "code",
    "id": "_q49ch8gMYu_",
    "outputId": "6ef2a90b-37ba-45bc-91f2-407d4f26f48b"
   },
   "outputs": [
    {
     "data": {
      "image/png": "[encoded data removed]",
      "text/plain": [
       "<IPython.core.display.Image object>"
      ]
     },
     "execution_count": 42,
     "metadata": {
      "image/png": {
       "height": 590,
       "width": 466
      },
      "tags": []
     },
     "output_type": "execute_result"
    }
   ],
   "source": [
    "from keras.utils import plot_model\n",
    "import pydot_ng as pydot\n",
    "plot_model(model, show_shapes=True, show_layer_names=True, to_file='model3.png')\n",
    "from IPython.display import Image\n",
    "Image(retina=True, filename='model3.png')"
   ]
  },
  {
   "cell_type": "markdown",
   "metadata": {
    "colab_type": "text",
    "id": "k1kG70F8tunc"
   },
   "source": [
    "**Defining train and test data for simplification**"
   ]
  },
  {
   "cell_type": "code",
   "execution_count": 0,
   "metadata": {
    "colab": {},
    "colab_type": "code",
    "id": "c3Pjh-sYU8Ft"
   },
   "outputs": [],
   "source": [
    "train = [encoded_train,train3]\n",
    "test = [encoded_test,test3]\n",
    "\n",
    "from keras.utils import np_utils\n",
    "Y_train = np_utils.to_categorical(y_train, 2) \n",
    "Y_test = np_utils.to_categorical(y_test, 2)"
   ]
  },
  {
   "cell_type": "markdown",
   "metadata": {
    "colab_type": "text",
    "id": "z5EKjqQJt7Pp"
   },
   "source": [
    "<h3><b>Using keras callbacks for monitoring our model performance<b></h3>\n",
    "  \n",
    "1. Checkpoint for saving best model\n",
    "2. Earlystopping for stoping training of model if there is no change in val loss\n",
    "3. ReduceROnPlateau for tracking learning rate if there is no change in val loss we reduce the learning rate "
   ]
  },
  {
   "cell_type": "code",
   "execution_count": 0,
   "metadata": {
    "colab": {},
    "colab_type": "code",
    "id": "BK8AjOuzVFPB"
   },
   "outputs": [],
   "source": [
    "from keras.callbacks import EarlyStopping\n",
    "\n",
    "checkpoint = ModelCheckpoint(\"model3.h5\",\n",
    "                             monitor=\"val_loss\",\n",
    "                             mode=\"min\",\n",
    "                             save_best_only = True,\n",
    "                             verbose=1)\n",
    "\n",
    "earlystop = EarlyStopping(monitor = 'val_loss', \n",
    "                            mode=\"min\",\n",
    "                            min_delta = 0, \n",
    "                            patience = 5,\n",
    "                            verbose = 1,\n",
    "                            restore_best_weights = True)\n",
    "\n",
    "reduce_lr = ReduceLROnPlateau(monitor = 'val_loss', factor = 0.2, patience = 2, verbose = 1, min_delta = 0.0001)\n",
    "\n",
    "#combining in single so that we will pass callbacks in model.fit\n",
    "callbacks = [checkpoint,earlystop,reduce_lr]"
   ]
  },
  {
   "cell_type": "markdown",
   "metadata": {
    "colab_type": "text",
    "id": "hb7G0jjQuolr"
   },
   "source": [
    "### Defining our own roc_auc_score "
   ]
  },
  {
   "cell_type": "markdown",
   "metadata": {
    "colab_type": "text",
    "id": "L3P7Ip2sutdD"
   },
   "source": [
    "**We can define own function for auc score or else after training the model we can use sklearn auc to calculate auc but defining function is a feasible way of doing**"
   ]
  },
  {
   "cell_type": "code",
   "execution_count": 0,
   "metadata": {
    "colab": {},
    "colab_type": "code",
    "id": "0br3eI2xVP3N"
   },
   "outputs": [],
   "source": [
    "# Defining Custom ROC-AUC Metrics\n",
    "from sklearn.metrics import roc_auc_score\n",
    "\n",
    "def auc(y_true, y_pred):\n",
    "    if len(np.unique(y_true[:,1])) == 1:\n",
    "        return 0.5\n",
    "    else:\n",
    "        return roc_auc_score(y_true, y_pred)\n",
    "\n",
    "def auroc(y_true, y_pred):\n",
    "    return tf.py_func(auc, (y_true, y_pred), tf.double)"
   ]
  },
  {
   "cell_type": "markdown",
   "metadata": {
    "colab_type": "text",
    "id": "jTF_V2aJu7bP"
   },
   "source": [
    "**We will be using adam optimizer for model training since it best for model**"
   ]
  },
  {
   "cell_type": "code",
   "execution_count": 0,
   "metadata": {
    "colab": {},
    "colab_type": "code",
    "id": "MI-lDkoYVSj8"
   },
   "outputs": [],
   "source": [
    "adam = Adam(lr=0.001, beta_1=0.9, beta_2=0.999, epsilon=None, decay=0.0, amsgrad=False)"
   ]
  },
  {
   "cell_type": "markdown",
   "metadata": {
    "colab_type": "text",
    "id": "6tgvy8Eov9wn"
   },
   "source": [
    "**Before training our model we need to compile our model why? bcoz it lets model to know what are the parameter we will be using**"
   ]
  },
  {
   "cell_type": "code",
   "execution_count": 35,
   "metadata": {
    "colab": {
     "base_uri": "https://localhost:8080/",
     "height": 289
    },
    "colab_type": "code",
    "id": "4QpIcVsiVzVz",
    "outputId": "664bfb9b-7b95-4d2d-ccae-ca2dacff2839"
   },
   "outputs": [
    {
     "name": "stderr",
     "output_type": "stream",
     "text": [
      "W0905 08:05:11.168302 140092391679872 deprecation_wrapper.py:119] From /usr/local/lib/python3.6/dist-packages/keras/optimizers.py:793: The name tf.train.Optimizer is deprecated. Please use tf.compat.v1.train.Optimizer instead.\n",
      "\n",
      "W0905 08:05:11.194102 140092391679872 deprecation.py:323] From <ipython-input-33-574376673a91>:10: py_func (from tensorflow.python.ops.script_ops) is deprecated and will be removed in a future version.\n",
      "Instructions for updating:\n",
      "tf.py_func is deprecated in TF V2. Instead, there are two\n",
      "    options available in V2.\n",
      "    - tf.py_function takes a python function which manipulates tf eager\n",
      "    tensors instead of numpy arrays. It's easy to convert a tf eager tensor to\n",
      "    an ndarray (just call tensor.numpy()) but having access to eager tensors\n",
      "    means `tf.py_function`s can use accelerators such as GPUs as well as\n",
      "    being differentiable using a gradient tape.\n",
      "    - tf.numpy_function maintains the semantics of the deprecated tf.py_func\n",
      "    (it is not differentiable, and manipulates numpy arrays). It drops the\n",
      "    stateful argument making all functions stateful.\n",
      "    \n"
     ]
    }
   ],
   "source": [
    "model.compile(optimizer=adam, loss='categorical_crossentropy', metrics=[auroc])"
   ]
  },
  {
   "cell_type": "markdown",
   "metadata": {
    "colab_type": "text",
    "id": "kWLv5W-FwOVG"
   },
   "source": [
    "### Training our model "
   ]
  },
  {
   "cell_type": "code",
   "execution_count": 48,
   "metadata": {
    "colab": {
     "base_uri": "https://localhost:8080/",
     "height": 1000
    },
    "colab_type": "code",
    "id": "4vAIPajGWbr3",
    "outputId": "ca62e584-273a-4a9c-aa42-089fce5f2696"
   },
   "outputs": [
    {
     "name": "stderr",
     "output_type": "stream",
     "text": [
      "W0905 06:53:48.954840 139875144828800 deprecation.py:323] From /usr/local/lib/python3.6/dist-packages/tensorflow/python/ops/math_grad.py:1250: add_dispatch_support.<locals>.wrapper (from tensorflow.python.ops.array_ops) is deprecated and will be removed in a future version.\n",
      "Instructions for updating:\n",
      "Use tf.where in 2.0, which has the same broadcast rule as np.where\n"
     ]
    },
    {
     "name": "stdout",
     "output_type": "stream",
     "text": [
      "Train on 87398 samples, validate on 21850 samples\n",
      "Epoch 1/30\n",
      "87398/87398 [==============================] - 104s 1ms/step - loss: 0.7335 - auroc: 0.6728 - val_loss: 0.5553 - val_auroc: 0.7408\n",
      "\n",
      "Epoch 00001: val_loss improved from inf to 0.55533, saving model to model3.h5\n",
      "Epoch 2/30\n",
      "87398/87398 [==============================] - 99s 1ms/step - loss: 0.4970 - auroc: 0.7390 - val_loss: 0.4866 - val_auroc: 0.7563\n",
      "\n",
      "Epoch 00002: val_loss improved from 0.55533 to 0.48660, saving model to model3.h5\n",
      "Epoch 3/30\n",
      "87398/87398 [==============================] - 99s 1ms/step - loss: 0.4470 - auroc: 0.7544 - val_loss: 0.4344 - val_auroc: 0.7602\n",
      "\n",
      "Epoch 00003: val_loss improved from 0.48660 to 0.43443, saving model to model3.h5\n",
      "Epoch 4/30\n",
      "87398/87398 [==============================] - 100s 1ms/step - loss: 0.4235 - auroc: 0.7606 - val_loss: 0.4297 - val_auroc: 0.7648\n",
      "\n",
      "Epoch 00004: val_loss improved from 0.43443 to 0.42970, saving model to model3.h5\n",
      "Epoch 5/30\n",
      "87398/87398 [==============================] - 100s 1ms/step - loss: 0.4105 - auroc: 0.7629 - val_loss: 0.4071 - val_auroc: 0.7651\n",
      "\n",
      "Epoch 00005: val_loss improved from 0.42970 to 0.40706, saving model to model3.h5\n",
      "Epoch 6/30\n",
      "87398/87398 [==============================] - 100s 1ms/step - loss: 0.4016 - auroc: 0.7643 - val_loss: 0.4029 - val_auroc: 0.7657\n",
      "\n",
      "Epoch 00006: val_loss improved from 0.40706 to 0.40293, saving model to model3.h5\n",
      "Epoch 7/30\n",
      "87398/87398 [==============================] - 101s 1ms/step - loss: 0.3954 - auroc: 0.7675 - val_loss: 0.3942 - val_auroc: 0.7658\n",
      "\n",
      "Epoch 00007: val_loss improved from 0.40293 to 0.39416, saving model to model3.h5\n",
      "Epoch 8/30\n",
      "87398/87398 [==============================] - 100s 1ms/step - loss: 0.3901 - auroc: 0.7693 - val_loss: 0.3918 - val_auroc: 0.7658\n",
      "\n",
      "Epoch 00008: val_loss improved from 0.39416 to 0.39176, saving model to model3.h5\n",
      "Epoch 9/30\n",
      "87398/87398 [==============================] - 100s 1ms/step - loss: 0.3880 - auroc: 0.7690 - val_loss: 0.3881 - val_auroc: 0.7662\n",
      "\n",
      "Epoch 00009: val_loss improved from 0.39176 to 0.38808, saving model to model3.h5\n",
      "Epoch 10/30\n",
      "87398/87398 [==============================] - 101s 1ms/step - loss: 0.3842 - auroc: 0.7715 - val_loss: 0.3883 - val_auroc: 0.7680\n",
      "\n",
      "Epoch 00010: val_loss did not improve from 0.38808\n",
      "Epoch 11/30\n",
      "87398/87398 [==============================] - 100s 1ms/step - loss: 0.3822 - auroc: 0.7723 - val_loss: 0.3872 - val_auroc: 0.7676\n",
      "\n",
      "Epoch 00011: val_loss improved from 0.38808 to 0.38719, saving model to model3.h5\n",
      "Epoch 12/30\n",
      "87398/87398 [==============================] - 100s 1ms/step - loss: 0.3809 - auroc: 0.7732 - val_loss: 0.3824 - val_auroc: 0.7688\n",
      "\n",
      "Epoch 00012: val_loss improved from 0.38719 to 0.38236, saving model to model3.h5\n",
      "Epoch 13/30\n",
      "87398/87398 [==============================] - 101s 1ms/step - loss: 0.3799 - auroc: 0.7723 - val_loss: 0.3819 - val_auroc: 0.7680\n",
      "\n",
      "Epoch 00013: val_loss improved from 0.38236 to 0.38190, saving model to model3.h5\n",
      "Epoch 14/30\n",
      "87398/87398 [==============================] - 100s 1ms/step - loss: 0.3779 - auroc: 0.7744 - val_loss: 0.3794 - val_auroc: 0.7710\n",
      "\n",
      "Epoch 00014: val_loss improved from 0.38190 to 0.37943, saving model to model3.h5\n",
      "Epoch 15/30\n",
      "87398/87398 [==============================] - 100s 1ms/step - loss: 0.3778 - auroc: 0.7751 - val_loss: 0.3789 - val_auroc: 0.7706\n",
      "\n",
      "Epoch 00015: val_loss improved from 0.37943 to 0.37885, saving model to model3.h5\n",
      "Epoch 16/30\n",
      "87398/87398 [==============================] - 100s 1ms/step - loss: 0.3756 - auroc: 0.7761 - val_loss: 0.3807 - val_auroc: 0.7702\n",
      "\n",
      "Epoch 00016: val_loss did not improve from 0.37885\n",
      "Epoch 17/30\n",
      "87398/87398 [==============================] - 100s 1ms/step - loss: 0.3758 - auroc: 0.7767 - val_loss: 0.3813 - val_auroc: 0.7673\n",
      "\n",
      "Epoch 00017: val_loss did not improve from 0.37885\n",
      "\n",
      "Epoch 00017: ReduceLROnPlateau reducing learning rate to 0.00020000000949949026.\n",
      "Epoch 18/30\n",
      "87398/87398 [==============================] - 100s 1ms/step - loss: 0.3667 - auroc: 0.7823 - val_loss: 0.3724 - val_auroc: 0.7726\n",
      "\n",
      "Epoch 00018: val_loss improved from 0.37885 to 0.37238, saving model to model3.h5\n",
      "Epoch 19/30\n",
      "87398/87398 [==============================] - 101s 1ms/step - loss: 0.3615 - auroc: 0.7867 - val_loss: 0.3732 - val_auroc: 0.7717\n",
      "\n",
      "Epoch 00019: val_loss did not improve from 0.37238\n",
      "Epoch 20/30\n",
      "87398/87398 [==============================] - 100s 1ms/step - loss: 0.3610 - auroc: 0.7875 - val_loss: 0.3718 - val_auroc: 0.7729\n",
      "\n",
      "Epoch 00020: val_loss improved from 0.37238 to 0.37177, saving model to model3.h5\n",
      "Epoch 21/30\n",
      "87398/87398 [==============================] - 102s 1ms/step - loss: 0.3606 - auroc: 0.7884 - val_loss: 0.3727 - val_auroc: 0.7728\n",
      "\n",
      "Epoch 00021: val_loss did not improve from 0.37177\n",
      "Epoch 22/30\n",
      "87398/87398 [==============================] - 100s 1ms/step - loss: 0.3599 - auroc: 0.7892 - val_loss: 0.3736 - val_auroc: 0.7716\n",
      "\n",
      "Epoch 00022: val_loss did not improve from 0.37177\n",
      "\n",
      "Epoch 00022: ReduceLROnPlateau reducing learning rate to 4.0000001899898055e-05.\n",
      "Epoch 23/30\n",
      "87398/87398 [==============================] - 100s 1ms/step - loss: 0.3561 - auroc: 0.7948 - val_loss: 0.3725 - val_auroc: 0.7726\n",
      "\n",
      "Epoch 00023: val_loss did not improve from 0.37177\n",
      "Epoch 24/30\n",
      "87398/87398 [==============================] - 100s 1ms/step - loss: 0.3543 - auroc: 0.7972 - val_loss: 0.3725 - val_auroc: 0.7725\n",
      "\n",
      "Epoch 00024: val_loss did not improve from 0.37177\n",
      "\n",
      "Epoch 00024: ReduceLROnPlateau reducing learning rate to 8.000000525498762e-06.\n",
      "Epoch 25/30\n",
      "87398/87398 [==============================] - 100s 1ms/step - loss: 0.3541 - auroc: 0.7965 - val_loss: 0.3725 - val_auroc: 0.7724\n",
      "\n",
      "Epoch 00025: val_loss did not improve from 0.37177\n",
      "Restoring model weights from the end of the best epoch\n",
      "Epoch 00025: early stopping\n"
     ]
    }
   ],
   "source": [
    "history = model.fit(train,Y_train,batch_size=512,\n",
    "                        epochs=30,validation_data=(test,Y_test),callbacks=callbacks)"
   ]
  },
  {
   "cell_type": "code",
   "execution_count": 49,
   "metadata": {
    "colab": {
     "base_uri": "https://localhost:8080/",
     "height": 50
    },
    "colab_type": "code",
    "id": "of2Fq723QvQC",
    "outputId": "52ba1088-ba82-4e3e-ed5d-e86e2fdb6203"
   },
   "outputs": [
    {
     "name": "stdout",
     "output_type": "stream",
     "text": [
      "21850/21850 [==============================] - 9s 427us/step\n"
     ]
    },
    {
     "data": {
      "text/plain": [
       "[0.3717727485128617, 0.7729222032900412]"
      ]
     },
     "execution_count": 49,
     "metadata": {
      "tags": []
     },
     "output_type": "execute_result"
    }
   ],
   "source": [
    "score = model.evaluate(test,Y_test,batch_size=512)\n",
    "score"
   ]
  },
  {
   "cell_type": "markdown",
   "metadata": {
    "colab_type": "text",
    "id": "OIIO55SQwVx4"
   },
   "source": [
    "### Plot"
   ]
  },
  {
   "cell_type": "code",
   "execution_count": 50,
   "metadata": {
    "colab": {
     "base_uri": "https://localhost:8080/",
     "height": 531
    },
    "colab_type": "code",
    "id": "98ftIg7Lwf0r",
    "outputId": "e28d7ede-5791-404b-a551-77c9eeee79c0"
   },
   "outputs": [
    {
     "data": {
      "image/png": "[encoded data removed]",
      "text/plain": [
       "<Figure size 432x288 with 1 Axes>"
      ]
     },
     "metadata": {
      "tags": []
     },
     "output_type": "display_data"
    },
    {
     "data": {
      "image/png": "[encoded data removed]",
      "text/plain": [
       "<Figure size 432x288 with 1 Axes>"
      ]
     },
     "metadata": {
      "tags": []
     },
     "output_type": "display_data"
    }
   ],
   "source": [
    "sns.set()\n",
    "plt.plot(history.history['auroc'], 'r')\n",
    "plt.plot(history.history['val_auroc'], 'b')\n",
    "plt.legend({'Train ROCAUC': 'r', 'Test ROCAUC':'b'})\n",
    "plt.show()\n",
    "\n",
    "\n",
    "plt.plot(history.history['loss'], 'r')\n",
    "plt.plot(history.history['val_loss'], 'b')\n",
    "plt.legend({'Train Loss': 'r', 'Test Loss':'b'})\n",
    "plt.show()"
   ]
  },
  {
   "cell_type": "markdown",
   "metadata": {
    "colab_type": "text",
    "id": "wRpTcR0vdM_4"
   },
   "source": [
    "# Model with 4 layer"
   ]
  },
  {
   "cell_type": "code",
   "execution_count": 0,
   "metadata": {
    "colab": {},
    "colab_type": "code",
    "id": "5EPkTbfidTau"
   },
   "outputs": [],
   "source": [
    "inp_conv =  Input(shape=(513, 1),name='Combine_feature')\n",
    "x1 = Conv1D(filters=128, kernel_size=3, activation='relu',kernel_initializer=\"he_normal\")(inp_conv)\n",
    "x1 = Conv1D(filters=256, kernel_size=5, activation='relu',kernel_initializer=\"he_normal\")(x1)\n",
    "x1 = Conv1D(filters=128, kernel_size=5, activation='relu',kernel_initializer=\"he_normal\")(x1)\n",
    "x3 = Flatten()(x1)\n",
    "\n",
    "x = concatenate([flatten_essay_layer,x3])\n",
    "x = BatchNormalization()(x)\n",
    "x = Dense(128,activation=\"relu\",kernel_initializer=\"he_normal\",kernel_regularizer=regularizers.l2(0.001))(x)\n",
    "x = Dropout(0.5)(x)\n",
    "x = Dense(64,activation=\"relu\",kernel_initializer=\"he_normal\",kernel_regularizer=regularizers.l2(0.001))(x)\n",
    "x = Dropout(0.3)(x)\n",
    "x = Dense(32,activation=\"relu\",kernel_initializer=\"he_normal\",kernel_regularizer=regularizers.l2(0.001))(x)\n",
    "x = BatchNormalization()(x)\n",
    "output = Dense(2, activation='softmax', name='output_model_4_layer')(x)\n",
    "model = Model(inputs=[input_essay_text,inp_conv],outputs=[output])"
   ]
  },
  {
   "cell_type": "code",
   "execution_count": 0,
   "metadata": {
    "colab": {},
    "colab_type": "code",
    "id": "YQqeMyGJeDvW"
   },
   "outputs": [],
   "source": [
    "model.compile(optimizer=adam, loss='categorical_crossentropy', metrics=[auroc])"
   ]
  },
  {
   "cell_type": "code",
   "execution_count": 42,
   "metadata": {
    "colab": {
     "base_uri": "https://localhost:8080/",
     "height": 1000
    },
    "colab_type": "code",
    "id": "wKvF3gHddTln",
    "outputId": "f37a1e5e-fce4-4d2b-d860-c37349ffd844"
   },
   "outputs": [
    {
     "name": "stdout",
     "output_type": "stream",
     "text": [
      "Train on 87398 samples, validate on 21850 samples\n",
      "Epoch 1/20\n",
      "87398/87398 [==============================] - 129s 1ms/step - loss: 0.8286 - auroc: 0.5767 - val_loss: 0.6382 - val_auroc: 0.6942\n",
      "\n",
      "Epoch 00001: val_loss improved from inf to 0.63817, saving model to model3.h5\n",
      "Epoch 2/20\n",
      "87398/87398 [==============================] - 127s 1ms/step - loss: 0.5838 - auroc: 0.7061 - val_loss: 0.5460 - val_auroc: 0.7373\n",
      "\n",
      "Epoch 00002: val_loss improved from 0.63817 to 0.54598, saving model to model3.h5\n",
      "Epoch 3/20\n",
      "87398/87398 [==============================] - 126s 1ms/step - loss: 0.5096 - auroc: 0.7372 - val_loss: 0.4860 - val_auroc: 0.7483\n",
      "\n",
      "Epoch 00003: val_loss improved from 0.54598 to 0.48603, saving model to model3.h5\n",
      "Epoch 4/20\n",
      "87398/87398 [==============================] - 127s 1ms/step - loss: 0.4742 - auroc: 0.7520 - val_loss: 0.4667 - val_auroc: 0.7572\n",
      "\n",
      "Epoch 00004: val_loss improved from 0.48603 to 0.46670, saving model to model3.h5\n",
      "Epoch 5/20\n",
      "87398/87398 [==============================] - 127s 1ms/step - loss: 0.4530 - auroc: 0.7610 - val_loss: 0.4434 - val_auroc: 0.7624\n",
      "\n",
      "Epoch 00005: val_loss improved from 0.46670 to 0.44344, saving model to model3.h5\n",
      "Epoch 6/20\n",
      "87398/87398 [==============================] - 127s 1ms/step - loss: 0.4399 - auroc: 0.7617 - val_loss: 0.4506 - val_auroc: 0.7630\n",
      "\n",
      "Epoch 00006: val_loss did not improve from 0.44344\n",
      "Epoch 7/20\n",
      "87398/87398 [==============================] - 127s 1ms/step - loss: 0.4289 - auroc: 0.7678 - val_loss: 0.4296 - val_auroc: 0.7621\n",
      "\n",
      "Epoch 00007: val_loss improved from 0.44344 to 0.42962, saving model to model3.h5\n",
      "Epoch 8/20\n",
      "87398/87398 [==============================] - 127s 1ms/step - loss: 0.4255 - auroc: 0.7684 - val_loss: 0.4233 - val_auroc: 0.7616\n",
      "\n",
      "Epoch 00008: val_loss improved from 0.42962 to 0.42330, saving model to model3.h5\n",
      "Epoch 9/20\n",
      "87398/87398 [==============================] - 127s 1ms/step - loss: 0.4213 - auroc: 0.7711 - val_loss: 0.4253 - val_auroc: 0.7613\n",
      "\n",
      "Epoch 00009: val_loss did not improve from 0.42330\n",
      "Epoch 10/20\n",
      "87398/87398 [==============================] - 127s 1ms/step - loss: 0.4178 - auroc: 0.7733 - val_loss: 0.4259 - val_auroc: 0.7651\n",
      "\n",
      "Epoch 00010: val_loss did not improve from 0.42330\n",
      "\n",
      "Epoch 00010: ReduceLROnPlateau reducing learning rate to 0.00020000000949949026.\n",
      "Epoch 11/20\n",
      "87398/87398 [==============================] - 127s 1ms/step - loss: 0.3892 - auroc: 0.7928 - val_loss: 0.4032 - val_auroc: 0.7668\n",
      "\n",
      "Epoch 00011: val_loss improved from 0.42330 to 0.40323, saving model to model3.h5\n",
      "Epoch 12/20\n",
      "87398/87398 [==============================] - 127s 1ms/step - loss: 0.3808 - auroc: 0.8033 - val_loss: 0.4085 - val_auroc: 0.7647\n",
      "\n",
      "Epoch 00012: val_loss did not improve from 0.40323\n",
      "Epoch 13/20\n",
      "87398/87398 [==============================] - 127s 1ms/step - loss: 0.3824 - auroc: 0.8136 - val_loss: 0.4234 - val_auroc: 0.7641\n",
      "\n",
      "Epoch 00013: val_loss did not improve from 0.40323\n",
      "\n",
      "Epoch 00013: ReduceLROnPlateau reducing learning rate to 4.0000001899898055e-05.\n",
      "Epoch 14/20\n",
      "87398/87398 [==============================] - 127s 1ms/step - loss: 0.3493 - auroc: 0.8534 - val_loss: 0.4347 - val_auroc: 0.7471\n",
      "\n",
      "Epoch 00014: val_loss did not improve from 0.40323\n",
      "Epoch 15/20\n",
      "87398/87398 [==============================] - 127s 1ms/step - loss: 0.3204 - auroc: 0.8795 - val_loss: 0.4500 - val_auroc: 0.7368\n",
      "\n",
      "Epoch 00015: val_loss did not improve from 0.40323\n",
      "\n",
      "Epoch 00015: ReduceLROnPlateau reducing learning rate to 8.000000525498762e-06.\n",
      "Epoch 16/20\n",
      "87398/87398 [==============================] - 127s 1ms/step - loss: 0.2869 - auroc: 0.9066 - val_loss: 0.4701 - val_auroc: 0.7262\n",
      "\n",
      "Epoch 00016: val_loss did not improve from 0.40323\n",
      "Restoring model weights from the end of the best epoch\n",
      "Epoch 00016: early stopping\n"
     ]
    }
   ],
   "source": [
    "history = model.fit(train,Y_train,batch_size=512,epochs=20,validation_data=(test,Y_test),callbacks=callbacks)"
   ]
  },
  {
   "cell_type": "code",
   "execution_count": 43,
   "metadata": {
    "colab": {
     "base_uri": "https://localhost:8080/",
     "height": 50
    },
    "colab_type": "code",
    "id": "kTKyzMYbeISW",
    "outputId": "bebc7ed1-6e00-4410-8555-48478d39b9d5"
   },
   "outputs": [
    {
     "name": "stdout",
     "output_type": "stream",
     "text": [
      "21850/21850 [==============================] - 11s 523us/step\n"
     ]
    },
    {
     "data": {
      "text/plain": [
       "[0.4032303564308437, 0.7667753614939429]"
      ]
     },
     "execution_count": 43,
     "metadata": {
      "tags": []
     },
     "output_type": "execute_result"
    }
   ],
   "source": [
    "score = model.evaluate(test,Y_test,batch_size=512)\n",
    "score"
   ]
  },
  {
   "cell_type": "code",
   "execution_count": 44,
   "metadata": {
    "colab": {
     "base_uri": "https://localhost:8080/",
     "height": 531
    },
    "colab_type": "code",
    "id": "98fBrczbeJkS",
    "outputId": "21c824c5-b831-4c3b-ab82-ac75a127f73f"
   },
   "outputs": [
    {
     "data": {
      "image/png": "[encoded data removed]",
      "text/plain": [
       "<Figure size 432x288 with 1 Axes>"
      ]
     },
     "metadata": {
      "tags": []
     },
     "output_type": "display_data"
    },
    {
     "data": {
      "image/png": "[encoded data removed]",
      "text/plain": [
       "<Figure size 432x288 with 1 Axes>"
      ]
     },
     "metadata": {
      "tags": []
     },
     "output_type": "display_data"
    }
   ],
   "source": [
    "sns.set()\n",
    "plt.plot(history.history['auroc'], 'r')\n",
    "plt.plot(history.history['val_auroc'], 'b')\n",
    "plt.legend({'Train ROCAUC': 'r', 'Test ROCAUC':'b'})\n",
    "plt.show()\n",
    "\n",
    "\n",
    "plt.plot(history.history['loss'], 'r')\n",
    "plt.plot(history.history['val_loss'], 'b')\n",
    "plt.legend({'Train Loss': 'r', 'Test Loss':'b'})\n",
    "plt.show()"
   ]
  },
  {
   "cell_type": "markdown",
   "metadata": {
    "colab_type": "text",
    "id": "am2z3kJLrR54"
   },
   "source": [
    "# Conclusion"
   ]
  },
  {
   "cell_type": "markdown",
   "metadata": {
    "colab_type": "text",
    "id": "hUZE0vTKWoXa"
   },
   "source": [
    "1. First tried with simple model or baseline model got auc of 0.50 which is bad.\n",
    "2. Tried regularizer like dropout and BatchNormalization got auc more then 0.50 i.e around 0.70.\n",
    "3. Tried various featurization technique auc was approx same in every featurization.\n",
    "4. Using Bi-directional and LSTM achieved more auc then 0.70 i.e around 0.76\n",
    "5. Tried adding more features like time based, word count, text length, sentiment polarity but auc was aprrox same.\n",
    "6. Tried different NLP technique like Topic modeling got auc of 0.7751\n",
    "7. Best model was featurization and extra feature of topic modeling."
   ]
  },
  {
   "cell_type": "code",
   "execution_count": 1,
   "metadata": {
    "colab": {
     "base_uri": "https://localhost:8080/",
     "height": 151
    },
    "colab_type": "code",
    "id": "FFaEwsJtqTSz",
    "outputId": "6ccc0ca7-996b-4519-c2f9-c004cc1039ba"
   },
   "outputs": [
    {
     "name": "stdout",
     "output_type": "stream",
     "text": [
      "+-----------------------------------------------------------+--------+\n",
      "|                     Model with feature                    |  AUC   |\n",
      "+-----------------------------------------------------------+--------+\n",
      "|                 Mode with countvectorizer                 |  0.76  |\n",
      "|               Model essay feature using LSTM              |  0.76  |\n",
      "|     Model essay feature using Bi-directional lstm/Gru     |  0.77  |\n",
      "|               Model with convolutional layer              |  0.77  |\n",
      "| Model essay feature with topic modeling as essay feature  | 0.7751 |\n",
      "+-----------------------------------------------------------+--------+\n"
     ]
    }
   ],
   "source": [
    "from prettytable import PrettyTable\n",
    "\n",
    "x = PrettyTable()\n",
    "x.field_names = ['Model with feature','AUC']\n",
    "x.add_row(['Mode with countvectorizer','0.76'])\n",
    "x.add_row(['Model essay feature using LSTM','0.76'])\n",
    "x.add_row(['Model essay feature using Bi-directional lstm/Gru ','0.77'])\n",
    "x.add_row(['Model with convolutional layer','0.77'])\n",
    "x.add_row(['Model essay feature with topic modeling as essay feature ','0.7751'])\n",
    "\n",
    "print(x)"
   ]
  },
  {
   "cell_type": "markdown",
   "metadata": {
    "colab_type": "text",
    "id": "zpogxV4TWtzF"
   },
   "source": [
    "1. Importing package and loading the data<br>\n",
    "2. Performing EDA to get insgihts of data<br>\n",
    "3. Pre-processing the data and cleaning the data<br>\n",
    "4. Using featurization to convert text data into numerical form<br>\n",
    "5. Defining embedding matrix and input-output for all feature<br>\n",
    "6. Concatinating last layer of every feature to a single layer<br>\n",
    "7. Compile and training deep learning model i.e Keras<br>\n",
    "8. Tried with different hyperparameter tuning like dropout,BatchNormalization<br>\n",
    "9. Final step Conclusion<br>"
   ]
  }
 ],
 "metadata": {
  "accelerator": "GPU",
  "colab": {
   "collapsed_sections": [],
   "name": "Lstm_donor_choose_model3.ipynb",
   "provenance": [],
   "version": "0.3.2"
  },
  "kernelspec": {
   "display_name": "Python 3",
   "language": "python",
   "name": "python3"
  },
  "language_info": {
   "codemirror_mode": {
    "name": "ipython",
    "version": 3
   },
   "file_extension": ".py",
   "mimetype": "text/x-python",
   "name": "python",
   "nbconvert_exporter": "python",
   "pygments_lexer": "ipython3",
   "version": "3.6.8"
  }
 },
 "nbformat": 4,
 "nbformat_minor": 1
}
